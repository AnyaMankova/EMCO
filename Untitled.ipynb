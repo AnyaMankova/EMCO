{
 "cells": [
  {
   "cell_type": "code",
   "execution_count": 3,
   "id": "fe45b791-4cec-4511-9f39-addfc47a5f0a",
   "metadata": {
    "tags": []
   },
   "outputs": [
    {
     "data": {
      "text/html": [
       "<div>\n",
       "<style scoped>\n",
       "    .dataframe tbody tr th:only-of-type {\n",
       "        vertical-align: middle;\n",
       "    }\n",
       "\n",
       "    .dataframe tbody tr th {\n",
       "        vertical-align: top;\n",
       "    }\n",
       "\n",
       "    .dataframe thead th {\n",
       "        text-align: right;\n",
       "    }\n",
       "</style>\n",
       "<table border=\"1\" class=\"dataframe\">\n",
       "  <thead>\n",
       "    <tr style=\"text-align: right;\">\n",
       "      <th></th>\n",
       "      <th>Дата для смены</th>\n",
       "      <th>Месяц</th>\n",
       "      <th>Смена</th>\n",
       "      <th>Самосвал</th>\n",
       "      <th>Avg-Вес по СКЗ, т</th>\n",
       "      <th>Sum-Расстояние, км</th>\n",
       "      <th>Avg-Средняя скорость, км/ч</th>\n",
       "      <th>Avg-Перепад высот</th>\n",
       "      <th>StDev-Перепад высот</th>\n",
       "      <th>Расход топлива, л</th>\n",
       "    </tr>\n",
       "  </thead>\n",
       "  <tbody>\n",
       "    <tr>\n",
       "      <th>0</th>\n",
       "      <td>2022-10-01</td>\n",
       "      <td>10</td>\n",
       "      <td>1</td>\n",
       "      <td>1035</td>\n",
       "      <td>228.500000</td>\n",
       "      <td>25.99</td>\n",
       "      <td>17.731667</td>\n",
       "      <td>152.283333</td>\n",
       "      <td>66.851789</td>\n",
       "      <td>575.0</td>\n",
       "    </tr>\n",
       "    <tr>\n",
       "      <th>1</th>\n",
       "      <td>2022-10-01</td>\n",
       "      <td>10</td>\n",
       "      <td>1</td>\n",
       "      <td>1037</td>\n",
       "      <td>214.818182</td>\n",
       "      <td>80.42</td>\n",
       "      <td>17.938182</td>\n",
       "      <td>125.609091</td>\n",
       "      <td>48.356601</td>\n",
       "      <td>1795.0</td>\n",
       "    </tr>\n",
       "    <tr>\n",
       "      <th>2</th>\n",
       "      <td>2022-10-01</td>\n",
       "      <td>10</td>\n",
       "      <td>1</td>\n",
       "      <td>1039</td>\n",
       "      <td>221.533333</td>\n",
       "      <td>73.36</td>\n",
       "      <td>16.754000</td>\n",
       "      <td>179.664286</td>\n",
       "      <td>70.469738</td>\n",
       "      <td>1688.0</td>\n",
       "    </tr>\n",
       "    <tr>\n",
       "      <th>3</th>\n",
       "      <td>2022-10-01</td>\n",
       "      <td>10</td>\n",
       "      <td>1</td>\n",
       "      <td>1040</td>\n",
       "      <td>229.466667</td>\n",
       "      <td>94.95</td>\n",
       "      <td>16.555333</td>\n",
       "      <td>NaN</td>\n",
       "      <td>NaN</td>\n",
       "      <td>1865.0</td>\n",
       "    </tr>\n",
       "    <tr>\n",
       "      <th>4</th>\n",
       "      <td>2022-10-01</td>\n",
       "      <td>10</td>\n",
       "      <td>1</td>\n",
       "      <td>1042</td>\n",
       "      <td>NaN</td>\n",
       "      <td>60.46</td>\n",
       "      <td>NaN</td>\n",
       "      <td>77.514286</td>\n",
       "      <td>47.216396</td>\n",
       "      <td>1519.0</td>\n",
       "    </tr>\n",
       "  </tbody>\n",
       "</table>\n",
       "</div>"
      ],
      "text/plain": [
       "  Дата для смены  Месяц  Смена  Самосвал  Avg-Вес по СКЗ, т  \\\n",
       "0     2022-10-01     10      1      1035         228.500000   \n",
       "1     2022-10-01     10      1      1037         214.818182   \n",
       "2     2022-10-01     10      1      1039         221.533333   \n",
       "3     2022-10-01     10      1      1040         229.466667   \n",
       "4     2022-10-01     10      1      1042                NaN   \n",
       "\n",
       "   Sum-Расстояние, км  Avg-Средняя скорость, км/ч  Avg-Перепад высот  \\\n",
       "0               25.99                   17.731667         152.283333   \n",
       "1               80.42                   17.938182         125.609091   \n",
       "2               73.36                   16.754000         179.664286   \n",
       "3               94.95                   16.555333                NaN   \n",
       "4               60.46                         NaN          77.514286   \n",
       "\n",
       "   StDev-Перепад высот  Расход топлива, л  \n",
       "0            66.851789              575.0  \n",
       "1            48.356601             1795.0  \n",
       "2            70.469738             1688.0  \n",
       "3                  NaN             1865.0  \n",
       "4            47.216396             1519.0  "
      ]
     },
     "execution_count": 3,
     "metadata": {},
     "output_type": "execute_result"
    }
   ],
   "source": [
    "import pandas as pd\n",
    "\n",
    "\n",
    "df = pd.read_excel('db.xlsx')\n",
    "df.head()"
   ]
  },
  {
   "cell_type": "code",
   "execution_count": 4,
   "id": "90605437-acc3-438d-99d8-f2a27b59d0e8",
   "metadata": {
    "tags": []
   },
   "outputs": [
    {
     "data": {
      "text/html": [
       "<div>\n",
       "<style scoped>\n",
       "    .dataframe tbody tr th:only-of-type {\n",
       "        vertical-align: middle;\n",
       "    }\n",
       "\n",
       "    .dataframe tbody tr th {\n",
       "        vertical-align: top;\n",
       "    }\n",
       "\n",
       "    .dataframe thead th {\n",
       "        text-align: right;\n",
       "    }\n",
       "</style>\n",
       "<table border=\"1\" class=\"dataframe\">\n",
       "  <thead>\n",
       "    <tr style=\"text-align: right;\">\n",
       "      <th></th>\n",
       "      <th>Месяц</th>\n",
       "      <th>Смена</th>\n",
       "      <th>Самосвал</th>\n",
       "      <th>Avg-Вес по СКЗ, т</th>\n",
       "      <th>Sum-Расстояние, км</th>\n",
       "      <th>Avg-Средняя скорость, км/ч</th>\n",
       "      <th>Avg-Перепад высот</th>\n",
       "      <th>StDev-Перепад высот</th>\n",
       "      <th>Расход топлива, л</th>\n",
       "    </tr>\n",
       "  </thead>\n",
       "  <tbody>\n",
       "    <tr>\n",
       "      <th>count</th>\n",
       "      <td>19057.000000</td>\n",
       "      <td>19057.000000</td>\n",
       "      <td>19057.000000</td>\n",
       "      <td>17937.000000</td>\n",
       "      <td>18552.000000</td>\n",
       "      <td>18275.000000</td>\n",
       "      <td>17242.000000</td>\n",
       "      <td>18118.000000</td>\n",
       "      <td>18337.000000</td>\n",
       "    </tr>\n",
       "    <tr>\n",
       "      <th>mean</th>\n",
       "      <td>6.048696</td>\n",
       "      <td>1.499082</td>\n",
       "      <td>1332.006822</td>\n",
       "      <td>221.680695</td>\n",
       "      <td>81.245005</td>\n",
       "      <td>19.401021</td>\n",
       "      <td>114.328822</td>\n",
       "      <td>36.140689</td>\n",
       "      <td>1550.970333</td>\n",
       "    </tr>\n",
       "    <tr>\n",
       "      <th>std</th>\n",
       "      <td>3.085022</td>\n",
       "      <td>0.500012</td>\n",
       "      <td>196.299550</td>\n",
       "      <td>9.585327</td>\n",
       "      <td>18.486391</td>\n",
       "      <td>1.742872</td>\n",
       "      <td>62.489313</td>\n",
       "      <td>31.579008</td>\n",
       "      <td>327.096777</td>\n",
       "    </tr>\n",
       "    <tr>\n",
       "      <th>min</th>\n",
       "      <td>1.000000</td>\n",
       "      <td>1.000000</td>\n",
       "      <td>1035.000000</td>\n",
       "      <td>190.000000</td>\n",
       "      <td>20.010000</td>\n",
       "      <td>15.001667</td>\n",
       "      <td>-49.918182</td>\n",
       "      <td>0.000000</td>\n",
       "      <td>500.000000</td>\n",
       "    </tr>\n",
       "    <tr>\n",
       "      <th>25%</th>\n",
       "      <td>3.000000</td>\n",
       "      <td>1.000000</td>\n",
       "      <td>1044.000000</td>\n",
       "      <td>216.541667</td>\n",
       "      <td>72.390000</td>\n",
       "      <td>18.318582</td>\n",
       "      <td>79.455385</td>\n",
       "      <td>8.799751</td>\n",
       "      <td>1380.000000</td>\n",
       "    </tr>\n",
       "    <tr>\n",
       "      <th>50%</th>\n",
       "      <td>6.000000</td>\n",
       "      <td>1.000000</td>\n",
       "      <td>1385.000000</td>\n",
       "      <td>223.444444</td>\n",
       "      <td>84.570000</td>\n",
       "      <td>19.513448</td>\n",
       "      <td>119.026500</td>\n",
       "      <td>29.265572</td>\n",
       "      <td>1594.000000</td>\n",
       "    </tr>\n",
       "    <tr>\n",
       "      <th>75%</th>\n",
       "      <td>9.000000</td>\n",
       "      <td>2.000000</td>\n",
       "      <td>1493.000000</td>\n",
       "      <td>228.272727</td>\n",
       "      <td>94.170000</td>\n",
       "      <td>20.540000</td>\n",
       "      <td>154.990170</td>\n",
       "      <td>56.853116</td>\n",
       "      <td>1774.000000</td>\n",
       "    </tr>\n",
       "    <tr>\n",
       "      <th>max</th>\n",
       "      <td>11.000000</td>\n",
       "      <td>2.000000</td>\n",
       "      <td>1888.000000</td>\n",
       "      <td>249.562500</td>\n",
       "      <td>119.950000</td>\n",
       "      <td>24.975200</td>\n",
       "      <td>249.875000</td>\n",
       "      <td>320.915607</td>\n",
       "      <td>2486.000000</td>\n",
       "    </tr>\n",
       "  </tbody>\n",
       "</table>\n",
       "</div>"
      ],
      "text/plain": [
       "              Месяц         Смена      Самосвал  Avg-Вес по СКЗ, т  \\\n",
       "count  19057.000000  19057.000000  19057.000000       17937.000000   \n",
       "mean       6.048696      1.499082   1332.006822         221.680695   \n",
       "std        3.085022      0.500012    196.299550           9.585327   \n",
       "min        1.000000      1.000000   1035.000000         190.000000   \n",
       "25%        3.000000      1.000000   1044.000000         216.541667   \n",
       "50%        6.000000      1.000000   1385.000000         223.444444   \n",
       "75%        9.000000      2.000000   1493.000000         228.272727   \n",
       "max       11.000000      2.000000   1888.000000         249.562500   \n",
       "\n",
       "       Sum-Расстояние, км  Avg-Средняя скорость, км/ч  Avg-Перепад высот  \\\n",
       "count        18552.000000                18275.000000       17242.000000   \n",
       "mean            81.245005                   19.401021         114.328822   \n",
       "std             18.486391                    1.742872          62.489313   \n",
       "min             20.010000                   15.001667         -49.918182   \n",
       "25%             72.390000                   18.318582          79.455385   \n",
       "50%             84.570000                   19.513448         119.026500   \n",
       "75%             94.170000                   20.540000         154.990170   \n",
       "max            119.950000                   24.975200         249.875000   \n",
       "\n",
       "       StDev-Перепад высот  Расход топлива, л  \n",
       "count         18118.000000       18337.000000  \n",
       "mean             36.140689        1550.970333  \n",
       "std              31.579008         327.096777  \n",
       "min               0.000000         500.000000  \n",
       "25%               8.799751        1380.000000  \n",
       "50%              29.265572        1594.000000  \n",
       "75%              56.853116        1774.000000  \n",
       "max             320.915607        2486.000000  "
      ]
     },
     "execution_count": 4,
     "metadata": {},
     "output_type": "execute_result"
    }
   ],
   "source": [
    "df.describe()"
   ]
  },
  {
   "cell_type": "code",
   "execution_count": null,
   "id": "f3a471f3-12e6-4d04-9a03-7198cf0c99d7",
   "metadata": {},
   "outputs": [],
   "source": [
    "хочу проверить нормальность распределения переменных: \n",
    "- Средний вес в кузове автомобиля Белаз за смену\n",
    "- Пройденное расстояние за смену\n",
    "- Средняя скорость за смену\n",
    "- Потраченный объем топлива за смену\n",
    "\n",
    "Нулевая гипотеза - данные распределены нормально.\n"
   ]
  },
  {
   "cell_type": "code",
   "execution_count": 43,
   "id": "badc6444-91ae-4beb-a177-1048ca9e8191",
   "metadata": {
    "tags": []
   },
   "outputs": [
    {
     "data": {
      "image/png": "[encoded data removed]",
      "text/plain": [
       "<Figure size 432x288 with 1 Axes>"
      ]
     },
     "metadata": {
      "needs_background": "light"
     },
     "output_type": "display_data"
    }
   ],
   "source": [
    "import matplotlib.pyplot as plt\n",
    "\n",
    "avg_weight = df['Avg-Вес по СКЗ, т'].dropna()\n",
    "# 17937 строк с данными\n",
    "plt.hist(avg_weight, bins=20, edgecolor='black')\n",
    "\n",
    "plt.xlabel('средний вес в кузове автомобиля белаз за смену, тонн')\n",
    "plt.ylabel('количество наблюдений')\n",
    "plt.title('Гистограмма распределения среднего веса в кузове автомобиля Белаз за смену')\n",
    "\n",
    "plt.show()"
   ]
  },
  {
   "cell_type": "code",
   "execution_count": 44,
   "id": "2665d79a-cae5-40f2-8471-e2a2856fc49e",
   "metadata": {
    "tags": []
   },
   "outputs": [
    {
     "data": {
      "image/png": "[encoded data removed]",
      "text/plain": [
       "<Figure size 432x288 with 1 Axes>"
      ]
     },
     "metadata": {
      "needs_background": "light"
     },
     "output_type": "display_data"
    }
   ],
   "source": [
    "dist = df['Sum-Расстояние, км'].dropna()\n",
    "# 18552 строки с данными\n",
    "plt.hist(dist, bins=20, edgecolor='black')\n",
    "\n",
    "plt.xlabel('пройденное расстояние суммарно за смену, км')\n",
    "plt.ylabel('количество наблюдений')\n",
    "plt.title('Гистограмма распределения пройденного расстояния (суммарно) за смену')\n",
    "\n",
    "plt.show()"
   ]
  },
  {
   "cell_type": "code",
   "execution_count": 45,
   "id": "da967635-83ed-4380-bb59-ccd6681948db",
   "metadata": {
    "tags": []
   },
   "outputs": [
    {
     "data": {
      "image/png": "[encoded data removed]",
      "text/plain": [
       "<Figure size 432x288 with 1 Axes>"
      ]
     },
     "metadata": {
      "needs_background": "light"
     },
     "output_type": "display_data"
    }
   ],
   "source": [
    "avg_speed = df['Avg-Средняя скорость, км/ч'].dropna()\n",
    "# 18275 строк с данными\n",
    "plt.hist(avg_speed, bins=20, edgecolor='black')\n",
    "\n",
    "plt.xlabel('средняя скорость за смену, км/час')\n",
    "plt.ylabel('количество наблюдений')\n",
    "plt.title('Гистограмма распределения средней скорости за смену')\n",
    "\n",
    "plt.show()"
   ]
  },
  {
   "cell_type": "code",
   "execution_count": 46,
   "id": "362d8401-c2bf-456d-9eb5-4fccda72ea91",
   "metadata": {
    "tags": []
   },
   "outputs": [
    {
     "data": {
      "image/png": "[encoded data removed]",
      "text/plain": [
       "<Figure size 432x288 with 1 Axes>"
      ]
     },
     "metadata": {
      "needs_background": "light"
     },
     "output_type": "display_data"
    }
   ],
   "source": [
    "fuel = df['Расход топлива, л'].dropna()\n",
    "# 18337 строк с данными\n",
    "plt.hist(fuel, bins=20, edgecolor='black')\n",
    "\n",
    "plt.xlabel('потраченный объем толпива за смену, л')\n",
    "plt.ylabel('количество наблюдений')\n",
    "plt.title('Гистограмма распределения потраченного объема топлива за смену')\n",
    "\n",
    "plt.show()"
   ]
  },
  {
   "cell_type": "code",
   "execution_count": 52,
   "id": "90687441-f02b-4183-bcc6-e0c144390fe8",
   "metadata": {
    "tags": []
   },
   "outputs": [
    {
     "name": "stdout",
     "output_type": "stream",
     "text": [
      "Средний вес, тонн - 221.681\n",
      "Среднее пройденное расстояние за смену, км - 81.245\n",
      "Средняя скорость за смену, км/ч - 19.401\n",
      "Средний объем топлива за смену, л - 1550.97\n"
     ]
    }
   ],
   "source": [
    "print(f'Средний вес, тонн - {round(avg_weight.mean(), 3)}')\n",
    "print(f'Среднее пройденное расстояние за смену, км - {round(dist.mean(), 3)}')\n",
    "print(f'Средняя скорость за смену, км/ч - {round(avg_speed.mean(), 3)}')\n",
    "print(f'Средний объем топлива за смену, л - {round(fuel.mean(), 3)}')"
   ]
  },
  {
   "cell_type": "code",
   "execution_count": null,
   "id": "487cda72-48b2-4b93-a298-dac3ff20379d",
   "metadata": {},
   "outputs": [],
   "source": []
  }
 ],
 "metadata": {
  "kernelspec": {
   "display_name": "Python 3 (ipykernel)",
   "language": "python",
   "name": "python3"
  },
  "language_info": {
   "codemirror_mode": {
    "name": "ipython",
    "version": 3
   },
   "file_extension": ".py",
   "mimetype": "text/x-python",
   "name": "python",
   "nbconvert_exporter": "python",
   "pygments_lexer": "ipython3",
   "version": "3.8.10"
  }
 },
 "nbformat": 4,
 "nbformat_minor": 5
}
