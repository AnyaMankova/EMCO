{
 "cells": [
  {
   "cell_type": "code",
   "execution_count": 2,
   "id": "e9e69638-c1a0-4e36-a2a8-ac21447aafb8",
   "metadata": {},
   "outputs": [],
   "source": [
    "import pandas as pd\n",
    "import seaborn as sns\n",
    "import matplotlib.pyplot as plt\n",
    "import numpy as np\n",
    "from scipy import stats\n",
    "from statsmodels.graphics.gofplots import qqplot\n",
    "from statsmodels.stats.diagnostic import lilliefors\n",
    "\n",
    "sns.set()"
   ]
  },
  {
   "cell_type": "code",
   "execution_count": null,
   "id": "c2b03909-e7be-4c4a-98e9-0a0e20fdeaed",
   "metadata": {
    "tags": []
   },
   "outputs": [],
   "source": [
    "df = pd.read_excel('db.xlsx')"
   ]
  },
  {
   "cell_type": "code",
   "execution_count": null,
   "id": "36cb8d85-1a32-4857-9699-0582ba768b0b",
   "metadata": {},
   "outputs": [],
   "source": [
    "avg_weight = df['Avg-Вес по СКЗ, т'].dropna()\n",
    "print(f'Количество наблюдений {avg_weight.count()}')\n",
    "# 17937 строк с данными\n",
    "\n",
    "\n",
    "plt.hist(avg_weight, bins=15, edgecolor='black', color='#E6E6FA', facecolor='white')\n",
    "\n",
    "plt.xlabel('средний вес в кузове автомобиля белаз за смену, тонн')\n",
    "plt.ylabel('количество наблюдений')\n",
    "plt.title('Гистограмма распределения среднего веса в кузове автомобиля Белаз за смену')\n",
    "plt.axvline(avg_weight.mean(), color='red', linestyle='dashed', linewidth=2, label='Среднее')\n",
    "plt.axvline(avg_weight.median(), color='green', linestyle='dashed', linewidth=2, label='Медиана')\n",
    "plt.axvline(avg_weight.mode().iloc[0], color='blue', linestyle='dashed', linewidth=2, label='Мода')\n",
    "plt.legend()\n",
    "\n",
    "plt.savefig('/home/anya-mankova/emco/images/avg_weight/aw_hist.png', dpi=80)\n",
    "plt.show()"
   ]
  },
  {
   "cell_type": "code",
   "execution_count": null,
   "id": "ab1435b4-8aa1-438f-9b77-7e6d792b029a",
   "metadata": {},
   "outputs": [],
   "source": []
  }
 ],
 "metadata": {
  "kernelspec": {
   "display_name": "Python 3 (ipykernel)",
   "language": "python",
   "name": "python3"
  },
  "language_info": {
   "codemirror_mode": {
    "name": "ipython",
    "version": 3
   },
   "file_extension": ".py",
   "mimetype": "text/x-python",
   "name": "python",
   "nbconvert_exporter": "python",
   "pygments_lexer": "ipython3",
   "version": "3.8.10"
  }
 },
 "nbformat": 4,
 "nbformat_minor": 5
}
