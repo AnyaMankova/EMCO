{
 "cells": [
  {
   "cell_type": "code",
   "execution_count": 1,
   "id": "fe45b791-4cec-4511-9f39-addfc47a5f0a",
   "metadata": {
    "tags": []
   },
   "outputs": [
    {
     "data": {
      "text/html": [
       "<div>\n",
       "<style scoped>\n",
       "    .dataframe tbody tr th:only-of-type {\n",
       "        vertical-align: middle;\n",
       "    }\n",
       "\n",
       "    .dataframe tbody tr th {\n",
       "        vertical-align: top;\n",
       "    }\n",
       "\n",
       "    .dataframe thead th {\n",
       "        text-align: right;\n",
       "    }\n",
       "</style>\n",
       "<table border=\"1\" class=\"dataframe\">\n",
       "  <thead>\n",
       "    <tr style=\"text-align: right;\">\n",
       "      <th></th>\n",
       "      <th>Дата для смены</th>\n",
       "      <th>Месяц</th>\n",
       "      <th>Смена</th>\n",
       "      <th>Самосвал</th>\n",
       "      <th>Avg-Вес по СКЗ, т</th>\n",
       "      <th>Sum-Расстояние, км</th>\n",
       "      <th>Avg-Средняя скорость, км/ч</th>\n",
       "      <th>Avg-Перепад высот</th>\n",
       "      <th>StDev-Перепад высот</th>\n",
       "      <th>Расход топлива, л</th>\n",
       "    </tr>\n",
       "  </thead>\n",
       "  <tbody>\n",
       "    <tr>\n",
       "      <th>0</th>\n",
       "      <td>2022-10-01</td>\n",
       "      <td>10</td>\n",
       "      <td>1</td>\n",
       "      <td>1035</td>\n",
       "      <td>228.500000</td>\n",
       "      <td>25.99</td>\n",
       "      <td>17.731667</td>\n",
       "      <td>152.283333</td>\n",
       "      <td>66.851789</td>\n",
       "      <td>575.0</td>\n",
       "    </tr>\n",
       "    <tr>\n",
       "      <th>1</th>\n",
       "      <td>2022-10-01</td>\n",
       "      <td>10</td>\n",
       "      <td>1</td>\n",
       "      <td>1037</td>\n",
       "      <td>214.818182</td>\n",
       "      <td>80.42</td>\n",
       "      <td>17.938182</td>\n",
       "      <td>125.609091</td>\n",
       "      <td>48.356601</td>\n",
       "      <td>1795.0</td>\n",
       "    </tr>\n",
       "    <tr>\n",
       "      <th>2</th>\n",
       "      <td>2022-10-01</td>\n",
       "      <td>10</td>\n",
       "      <td>1</td>\n",
       "      <td>1039</td>\n",
       "      <td>221.533333</td>\n",
       "      <td>73.36</td>\n",
       "      <td>16.754000</td>\n",
       "      <td>179.664286</td>\n",
       "      <td>70.469738</td>\n",
       "      <td>1688.0</td>\n",
       "    </tr>\n",
       "    <tr>\n",
       "      <th>3</th>\n",
       "      <td>2022-10-01</td>\n",
       "      <td>10</td>\n",
       "      <td>1</td>\n",
       "      <td>1040</td>\n",
       "      <td>229.466667</td>\n",
       "      <td>94.95</td>\n",
       "      <td>16.555333</td>\n",
       "      <td>NaN</td>\n",
       "      <td>NaN</td>\n",
       "      <td>1865.0</td>\n",
       "    </tr>\n",
       "    <tr>\n",
       "      <th>4</th>\n",
       "      <td>2022-10-01</td>\n",
       "      <td>10</td>\n",
       "      <td>1</td>\n",
       "      <td>1042</td>\n",
       "      <td>NaN</td>\n",
       "      <td>60.46</td>\n",
       "      <td>NaN</td>\n",
       "      <td>77.514286</td>\n",
       "      <td>47.216396</td>\n",
       "      <td>1519.0</td>\n",
       "    </tr>\n",
       "  </tbody>\n",
       "</table>\n",
       "</div>"
      ],
      "text/plain": [
       "  Дата для смены  Месяц  Смена  Самосвал  Avg-Вес по СКЗ, т   \n",
       "0     2022-10-01     10      1      1035         228.500000  \\\n",
       "1     2022-10-01     10      1      1037         214.818182   \n",
       "2     2022-10-01     10      1      1039         221.533333   \n",
       "3     2022-10-01     10      1      1040         229.466667   \n",
       "4     2022-10-01     10      1      1042                NaN   \n",
       "\n",
       "   Sum-Расстояние, км  Avg-Средняя скорость, км/ч  Avg-Перепад высот   \n",
       "0               25.99                   17.731667         152.283333  \\\n",
       "1               80.42                   17.938182         125.609091   \n",
       "2               73.36                   16.754000         179.664286   \n",
       "3               94.95                   16.555333                NaN   \n",
       "4               60.46                         NaN          77.514286   \n",
       "\n",
       "   StDev-Перепад высот  Расход топлива, л  \n",
       "0            66.851789              575.0  \n",
       "1            48.356601             1795.0  \n",
       "2            70.469738             1688.0  \n",
       "3                  NaN             1865.0  \n",
       "4            47.216396             1519.0  "
      ]
     },
     "execution_count": 1,
     "metadata": {},
     "output_type": "execute_result"
    }
   ],
   "source": [
    "import pandas as pd\n",
    "import seaborn as sns\n",
    "import matplotlib.pyplot as plt\n",
    "import numpy as np\n",
    "from scipy import stats\n",
    "from statsmodels.graphics.gofplots import qqplot\n",
    "from scipy.stats import shapiro\n",
    "from statsmodels.stats.diagnostic import lilliefors\n",
    "\n",
    "sns.set()\n",
    "\n",
    "df = pd.read_excel('db.xlsx')\n",
    "df.head()"
   ]
  },
  {
   "cell_type": "code",
   "execution_count": 2,
   "id": "cb733220-0235-44e0-bc18-179a1f383846",
   "metadata": {
    "tags": []
   },
   "outputs": [
    {
     "data": {
      "text/plain": [
       "Дата для смены                19057\n",
       "Месяц                         19057\n",
       "Смена                         19057\n",
       "Самосвал                      19057\n",
       "Avg-Вес по СКЗ, т             17937\n",
       "Sum-Расстояние, км            18552\n",
       "Avg-Средняя скорость, км/ч    18275\n",
       "Avg-Перепад высот             17242\n",
       "StDev-Перепад высот           18118\n",
       "Расход топлива, л             18337\n",
       "dtype: int64"
      ]
     },
     "execution_count": 2,
     "metadata": {},
     "output_type": "execute_result"
    }
   ],
   "source": [
    "df.count()"
   ]
  },
  {
   "cell_type": "code",
   "execution_count": 3,
   "id": "26c8f063-db38-4f75-bc02-c6adf16e730a",
   "metadata": {
    "tags": []
   },
   "outputs": [
    {
     "data": {
      "text/html": [
       "<div>\n",
       "<style scoped>\n",
       "    .dataframe tbody tr th:only-of-type {\n",
       "        vertical-align: middle;\n",
       "    }\n",
       "\n",
       "    .dataframe tbody tr th {\n",
       "        vertical-align: top;\n",
       "    }\n",
       "\n",
       "    .dataframe thead th {\n",
       "        text-align: right;\n",
       "    }\n",
       "</style>\n",
       "<table border=\"1\" class=\"dataframe\">\n",
       "  <thead>\n",
       "    <tr style=\"text-align: right;\">\n",
       "      <th></th>\n",
       "      <th>Дата для смены</th>\n",
       "      <th>Месяц</th>\n",
       "      <th>Смена</th>\n",
       "      <th>Самосвал</th>\n",
       "      <th>Avg-Вес по СКЗ, т</th>\n",
       "      <th>Sum-Расстояние, км</th>\n",
       "      <th>Avg-Средняя скорость, км/ч</th>\n",
       "      <th>Avg-Перепад высот</th>\n",
       "      <th>StDev-Перепад высот</th>\n",
       "      <th>Расход топлива, л</th>\n",
       "    </tr>\n",
       "  </thead>\n",
       "  <tbody>\n",
       "    <tr>\n",
       "      <th>19052</th>\n",
       "      <td>2022-03-31</td>\n",
       "      <td>3</td>\n",
       "      <td>2</td>\n",
       "      <td>1499</td>\n",
       "      <td>213.125000</td>\n",
       "      <td>95.37</td>\n",
       "      <td>18.866875</td>\n",
       "      <td>130.162500</td>\n",
       "      <td>41.011882</td>\n",
       "      <td>1752.0</td>\n",
       "    </tr>\n",
       "    <tr>\n",
       "      <th>19053</th>\n",
       "      <td>2022-03-31</td>\n",
       "      <td>3</td>\n",
       "      <td>2</td>\n",
       "      <td>1502</td>\n",
       "      <td>211.866667</td>\n",
       "      <td>46.54</td>\n",
       "      <td>NaN</td>\n",
       "      <td>217.707692</td>\n",
       "      <td>99.846286</td>\n",
       "      <td>1302.0</td>\n",
       "    </tr>\n",
       "    <tr>\n",
       "      <th>19054</th>\n",
       "      <td>2022-03-31</td>\n",
       "      <td>3</td>\n",
       "      <td>2</td>\n",
       "      <td>1503</td>\n",
       "      <td>226.937500</td>\n",
       "      <td>82.54</td>\n",
       "      <td>16.953750</td>\n",
       "      <td>179.475000</td>\n",
       "      <td>70.083774</td>\n",
       "      <td>1775.0</td>\n",
       "    </tr>\n",
       "    <tr>\n",
       "      <th>19055</th>\n",
       "      <td>2022-03-31</td>\n",
       "      <td>3</td>\n",
       "      <td>2</td>\n",
       "      <td>1504</td>\n",
       "      <td>219.066667</td>\n",
       "      <td>93.79</td>\n",
       "      <td>20.134000</td>\n",
       "      <td>139.846667</td>\n",
       "      <td>18.230816</td>\n",
       "      <td>1636.0</td>\n",
       "    </tr>\n",
       "    <tr>\n",
       "      <th>19056</th>\n",
       "      <td>2022-03-31</td>\n",
       "      <td>3</td>\n",
       "      <td>2</td>\n",
       "      <td>1505</td>\n",
       "      <td>221.176471</td>\n",
       "      <td>53.45</td>\n",
       "      <td>NaN</td>\n",
       "      <td>229.346667</td>\n",
       "      <td>99.174693</td>\n",
       "      <td>1687.0</td>\n",
       "    </tr>\n",
       "  </tbody>\n",
       "</table>\n",
       "</div>"
      ],
      "text/plain": [
       "      Дата для смены  Месяц  Смена  Самосвал  Avg-Вес по СКЗ, т   \n",
       "19052     2022-03-31      3      2      1499         213.125000  \\\n",
       "19053     2022-03-31      3      2      1502         211.866667   \n",
       "19054     2022-03-31      3      2      1503         226.937500   \n",
       "19055     2022-03-31      3      2      1504         219.066667   \n",
       "19056     2022-03-31      3      2      1505         221.176471   \n",
       "\n",
       "       Sum-Расстояние, км  Avg-Средняя скорость, км/ч  Avg-Перепад высот   \n",
       "19052               95.37                   18.866875         130.162500  \\\n",
       "19053               46.54                         NaN         217.707692   \n",
       "19054               82.54                   16.953750         179.475000   \n",
       "19055               93.79                   20.134000         139.846667   \n",
       "19056               53.45                         NaN         229.346667   \n",
       "\n",
       "       StDev-Перепад высот  Расход топлива, л  \n",
       "19052            41.011882             1752.0  \n",
       "19053            99.846286             1302.0  \n",
       "19054            70.083774             1775.0  \n",
       "19055            18.230816             1636.0  \n",
       "19056            99.174693             1687.0  "
      ]
     },
     "execution_count": 3,
     "metadata": {},
     "output_type": "execute_result"
    }
   ],
   "source": [
    "df.tail()"
   ]
  },
  {
   "cell_type": "code",
   "execution_count": 4,
   "id": "90605437-acc3-438d-99d8-f2a27b59d0e8",
   "metadata": {
    "tags": []
   },
   "outputs": [
    {
     "data": {
      "text/html": [
       "<div>\n",
       "<style scoped>\n",
       "    .dataframe tbody tr th:only-of-type {\n",
       "        vertical-align: middle;\n",
       "    }\n",
       "\n",
       "    .dataframe tbody tr th {\n",
       "        vertical-align: top;\n",
       "    }\n",
       "\n",
       "    .dataframe thead th {\n",
       "        text-align: right;\n",
       "    }\n",
       "</style>\n",
       "<table border=\"1\" class=\"dataframe\">\n",
       "  <thead>\n",
       "    <tr style=\"text-align: right;\">\n",
       "      <th></th>\n",
       "      <th>Дата для смены</th>\n",
       "      <th>Месяц</th>\n",
       "      <th>Смена</th>\n",
       "      <th>Самосвал</th>\n",
       "      <th>Avg-Вес по СКЗ, т</th>\n",
       "      <th>Sum-Расстояние, км</th>\n",
       "      <th>Avg-Средняя скорость, км/ч</th>\n",
       "      <th>Avg-Перепад высот</th>\n",
       "      <th>StDev-Перепад высот</th>\n",
       "      <th>Расход топлива, л</th>\n",
       "    </tr>\n",
       "  </thead>\n",
       "  <tbody>\n",
       "    <tr>\n",
       "      <th>count</th>\n",
       "      <td>19057</td>\n",
       "      <td>19057.000000</td>\n",
       "      <td>19057.000000</td>\n",
       "      <td>19057.000000</td>\n",
       "      <td>17937.000000</td>\n",
       "      <td>18552.000000</td>\n",
       "      <td>18275.000000</td>\n",
       "      <td>17242.000000</td>\n",
       "      <td>18118.000000</td>\n",
       "      <td>18337.000000</td>\n",
       "    </tr>\n",
       "    <tr>\n",
       "      <th>mean</th>\n",
       "      <td>2022-06-17 02:58:42.359238144</td>\n",
       "      <td>6.048696</td>\n",
       "      <td>1.499082</td>\n",
       "      <td>1332.006822</td>\n",
       "      <td>221.680695</td>\n",
       "      <td>81.245005</td>\n",
       "      <td>19.401021</td>\n",
       "      <td>114.328822</td>\n",
       "      <td>36.140689</td>\n",
       "      <td>1550.970333</td>\n",
       "    </tr>\n",
       "    <tr>\n",
       "      <th>min</th>\n",
       "      <td>2022-01-01 00:00:00</td>\n",
       "      <td>1.000000</td>\n",
       "      <td>1.000000</td>\n",
       "      <td>1035.000000</td>\n",
       "      <td>190.000000</td>\n",
       "      <td>20.010000</td>\n",
       "      <td>15.001667</td>\n",
       "      <td>-49.918182</td>\n",
       "      <td>0.000000</td>\n",
       "      <td>500.000000</td>\n",
       "    </tr>\n",
       "    <tr>\n",
       "      <th>25%</th>\n",
       "      <td>2022-03-26 00:00:00</td>\n",
       "      <td>3.000000</td>\n",
       "      <td>1.000000</td>\n",
       "      <td>1044.000000</td>\n",
       "      <td>216.541667</td>\n",
       "      <td>72.390000</td>\n",
       "      <td>18.318582</td>\n",
       "      <td>79.455385</td>\n",
       "      <td>8.799751</td>\n",
       "      <td>1380.000000</td>\n",
       "    </tr>\n",
       "    <tr>\n",
       "      <th>50%</th>\n",
       "      <td>2022-06-18 00:00:00</td>\n",
       "      <td>6.000000</td>\n",
       "      <td>1.000000</td>\n",
       "      <td>1385.000000</td>\n",
       "      <td>223.444444</td>\n",
       "      <td>84.570000</td>\n",
       "      <td>19.513448</td>\n",
       "      <td>119.026500</td>\n",
       "      <td>29.265572</td>\n",
       "      <td>1594.000000</td>\n",
       "    </tr>\n",
       "    <tr>\n",
       "      <th>75%</th>\n",
       "      <td>2022-09-09 00:00:00</td>\n",
       "      <td>9.000000</td>\n",
       "      <td>2.000000</td>\n",
       "      <td>1493.000000</td>\n",
       "      <td>228.272727</td>\n",
       "      <td>94.170000</td>\n",
       "      <td>20.540000</td>\n",
       "      <td>154.990170</td>\n",
       "      <td>56.853116</td>\n",
       "      <td>1774.000000</td>\n",
       "    </tr>\n",
       "    <tr>\n",
       "      <th>max</th>\n",
       "      <td>2022-11-26 00:00:00</td>\n",
       "      <td>11.000000</td>\n",
       "      <td>2.000000</td>\n",
       "      <td>1888.000000</td>\n",
       "      <td>249.562500</td>\n",
       "      <td>119.950000</td>\n",
       "      <td>24.975200</td>\n",
       "      <td>249.875000</td>\n",
       "      <td>320.915607</td>\n",
       "      <td>2486.000000</td>\n",
       "    </tr>\n",
       "    <tr>\n",
       "      <th>std</th>\n",
       "      <td>NaN</td>\n",
       "      <td>3.085022</td>\n",
       "      <td>0.500012</td>\n",
       "      <td>196.299550</td>\n",
       "      <td>9.585327</td>\n",
       "      <td>18.486391</td>\n",
       "      <td>1.742872</td>\n",
       "      <td>62.489313</td>\n",
       "      <td>31.579008</td>\n",
       "      <td>327.096777</td>\n",
       "    </tr>\n",
       "  </tbody>\n",
       "</table>\n",
       "</div>"
      ],
      "text/plain": [
       "                      Дата для смены         Месяц         Смена   \n",
       "count                          19057  19057.000000  19057.000000  \\\n",
       "mean   2022-06-17 02:58:42.359238144      6.048696      1.499082   \n",
       "min              2022-01-01 00:00:00      1.000000      1.000000   \n",
       "25%              2022-03-26 00:00:00      3.000000      1.000000   \n",
       "50%              2022-06-18 00:00:00      6.000000      1.000000   \n",
       "75%              2022-09-09 00:00:00      9.000000      2.000000   \n",
       "max              2022-11-26 00:00:00     11.000000      2.000000   \n",
       "std                              NaN      3.085022      0.500012   \n",
       "\n",
       "           Самосвал  Avg-Вес по СКЗ, т  Sum-Расстояние, км   \n",
       "count  19057.000000       17937.000000        18552.000000  \\\n",
       "mean    1332.006822         221.680695           81.245005   \n",
       "min     1035.000000         190.000000           20.010000   \n",
       "25%     1044.000000         216.541667           72.390000   \n",
       "50%     1385.000000         223.444444           84.570000   \n",
       "75%     1493.000000         228.272727           94.170000   \n",
       "max     1888.000000         249.562500          119.950000   \n",
       "std      196.299550           9.585327           18.486391   \n",
       "\n",
       "       Avg-Средняя скорость, км/ч  Avg-Перепад высот  StDev-Перепад высот   \n",
       "count                18275.000000       17242.000000         18118.000000  \\\n",
       "mean                    19.401021         114.328822            36.140689   \n",
       "min                     15.001667         -49.918182             0.000000   \n",
       "25%                     18.318582          79.455385             8.799751   \n",
       "50%                     19.513448         119.026500            29.265572   \n",
       "75%                     20.540000         154.990170            56.853116   \n",
       "max                     24.975200         249.875000           320.915607   \n",
       "std                      1.742872          62.489313            31.579008   \n",
       "\n",
       "       Расход топлива, л  \n",
       "count       18337.000000  \n",
       "mean         1550.970333  \n",
       "min           500.000000  \n",
       "25%          1380.000000  \n",
       "50%          1594.000000  \n",
       "75%          1774.000000  \n",
       "max          2486.000000  \n",
       "std           327.096777  "
      ]
     },
     "execution_count": 4,
     "metadata": {},
     "output_type": "execute_result"
    }
   ],
   "source": [
    "df.describe()"
   ]
  },
  {
   "cell_type": "code",
   "execution_count": 5,
   "id": "6eff0844-56d0-4ebc-87ed-a166cd9d003d",
   "metadata": {
    "tags": []
   },
   "outputs": [
    {
     "name": "stdout",
     "output_type": "stream",
     "text": [
      "Дата для смены                   0\n",
      "Месяц                            0\n",
      "Смена                            0\n",
      "Самосвал                         0\n",
      "Avg-Вес по СКЗ, т             1120\n",
      "Sum-Расстояние, км             505\n",
      "Avg-Средняя скорость, км/ч     782\n",
      "Avg-Перепад высот             1815\n",
      "StDev-Перепад высот            939\n",
      "Расход топлива, л              720\n",
      "dtype: int64\n",
      "Общее количество пропусков в датасете = 5881\n"
     ]
    }
   ],
   "source": [
    "print(df.isnull().sum ())\n",
    "print(f'Общее количество пропусков в датасете = {df.isnull().sum().sum ()}')"
   ]
  },
  {
   "cell_type": "code",
   "execution_count": 6,
   "id": "ed831e83-5a73-47af-98fc-f0be5811817c",
   "metadata": {
    "tags": []
   },
   "outputs": [
    {
     "data": {
      "image/png": "[encoded data removed]",
      "text/plain": [
       "<Figure size 720x432 with 2 Axes>"
      ]
     },
     "metadata": {
      "needs_background": "light"
     },
     "output_type": "display_data"
    }
   ],
   "source": [
    "#визуализируем пропуски\n",
    "# x - строки\n",
    "plt.figure(figsize=(10, 6))\n",
    "sns.heatmap(df.isna().transpose())\n",
    "plt.savefig('/home/anya-mankova/emco/images/nullst.png', dpi=70)"
   ]
  },
  {
   "cell_type": "code",
   "execution_count": 7,
   "id": "dbcbe9b6-bd78-42f3-80fc-9eb3bcc728d0",
   "metadata": {},
   "outputs": [],
   "source": [
    "df = df.dropna()"
   ]
  },
  {
   "cell_type": "markdown",
   "id": "26731214-c780-4b85-b1a7-90cd94cef98d",
   "metadata": {},
   "source": [
    "построим гистограммы частотного распределения:"
   ]
  },
  {
   "cell_type": "code",
   "execution_count": 8,
   "id": "083177d8-50c8-4607-86ee-6ce3f42be4b2",
   "metadata": {
    "tags": []
   },
   "outputs": [
    {
     "data": {
      "image/png": "[encoded data removed]",
      "text/plain": [
       "<Figure size 1080x360 with 5 Axes>"
      ]
     },
     "metadata": {},
     "output_type": "display_data"
    }
   ],
   "source": [
    "fig, axes = plt.subplots(nrows=1, ncols=5, figsize=(15, 5), facecolor='white')\n",
    "\n",
    "for i, column in enumerate(df[['Avg-Вес по СКЗ, т', 'Sum-Расстояние, км', 'Avg-Средняя скорость, км/ч', 'Avg-Перепад высот', 'Расход топлива, л']]):\n",
    "    axes[i].hist(df[column], bins=10, edgecolor='black', color='#E6E6FA')\n",
    "    axes[i].set_title(column)\n",
    "    axes[i].axvline(df[column].mean(), color='red', linestyle='dashed', linewidth=2, label='Среднее')\n",
    "    axes[i].axvline(df[column].median(), color='green', linestyle='dashed', linewidth=2, label='Медиана')\n",
    "    axes[i].axvline(df[column].mode().iloc[0], color='blue', linestyle='dashed', linewidth=2, label='Мода')\n",
    "plt.legend()\n",
    "plt.tight_layout()\n",
    "plt.savefig('/home/anya-mankova/emco/images/all_hist.png', dpi=100)\n",
    "plt.show()"
   ]
  },
  {
   "cell_type": "code",
   "execution_count": 9,
   "id": "d47afb4c-67d6-4a73-b495-db2e8021d8ac",
   "metadata": {
    "tags": []
   },
   "outputs": [
    {
     "data": {
      "text/html": [
       "<div>\n",
       "<style scoped>\n",
       "    .dataframe tbody tr th:only-of-type {\n",
       "        vertical-align: middle;\n",
       "    }\n",
       "\n",
       "    .dataframe tbody tr th {\n",
       "        vertical-align: top;\n",
       "    }\n",
       "\n",
       "    .dataframe thead th {\n",
       "        text-align: right;\n",
       "    }\n",
       "</style>\n",
       "<table border=\"1\" class=\"dataframe\">\n",
       "  <thead>\n",
       "    <tr style=\"text-align: right;\">\n",
       "      <th></th>\n",
       "      <th>Характеристика</th>\n",
       "      <th>Среднее</th>\n",
       "      <th>Медиана</th>\n",
       "      <th>Мода</th>\n",
       "    </tr>\n",
       "  </thead>\n",
       "  <tbody>\n",
       "    <tr>\n",
       "      <th>0</th>\n",
       "      <td>Средний вес, т</td>\n",
       "      <td>221.622</td>\n",
       "      <td>223.500</td>\n",
       "      <td>228.00</td>\n",
       "    </tr>\n",
       "    <tr>\n",
       "      <th>1</th>\n",
       "      <td>Среднее расстояние, км</td>\n",
       "      <td>82.893</td>\n",
       "      <td>85.700</td>\n",
       "      <td>82.36</td>\n",
       "    </tr>\n",
       "    <tr>\n",
       "      <th>2</th>\n",
       "      <td>Средняя скорость, км/ч</td>\n",
       "      <td>19.486</td>\n",
       "      <td>19.583</td>\n",
       "      <td>19.97</td>\n",
       "    </tr>\n",
       "    <tr>\n",
       "      <th>3</th>\n",
       "      <td>Средний перепад высот</td>\n",
       "      <td>114.737</td>\n",
       "      <td>119.470</td>\n",
       "      <td>102.90</td>\n",
       "    </tr>\n",
       "    <tr>\n",
       "      <th>4</th>\n",
       "      <td>Средний расход топлива</td>\n",
       "      <td>1566.612</td>\n",
       "      <td>1608.000</td>\n",
       "      <td>1632.00</td>\n",
       "    </tr>\n",
       "  </tbody>\n",
       "</table>\n",
       "</div>"
      ],
      "text/plain": [
       "           Характеристика   Среднее   Медиана     Мода\n",
       "0          Средний вес, т   221.622   223.500   228.00\n",
       "1  Среднее расстояние, км    82.893    85.700    82.36\n",
       "2  Средняя скорость, км/ч    19.486    19.583    19.97\n",
       "3   Средний перепад высот   114.737   119.470   102.90\n",
       "4  Средний расход топлива  1566.612  1608.000  1632.00"
      ]
     },
     "execution_count": 9,
     "metadata": {},
     "output_type": "execute_result"
    }
   ],
   "source": [
    "d = {'Характеристика': pd.Series(['Средний вес, т',\n",
    "                                  'Среднее расстояние, км',\n",
    "                                  'Средняя скорость, км/ч',\n",
    "                                  'Средний перепад высот',\n",
    "                                  'Средний расход топлива']),\n",
    "     'Среднее': pd.Series([df['Avg-Вес по СКЗ, т'].mean().round(3),\n",
    "                           df['Sum-Расстояние, км'].mean().round(3),\n",
    "                           df['Avg-Средняя скорость, км/ч'].mean().round(3),\n",
    "                           df['Avg-Перепад высот'].mean().round(3),\n",
    "                           df['Расход топлива, л'].mean().round(3)]),\n",
    "     'Медиана': pd.Series([df['Avg-Вес по СКЗ, т'].median().round(3),\n",
    "                           df['Sum-Расстояние, км'].median().round(3),\n",
    "                           df['Avg-Средняя скорость, км/ч'].median().round(3),\n",
    "                           df['Avg-Перепад высот'].median().round(3),\n",
    "                           df['Расход топлива, л'].median().round(3)]),\n",
    "     'Мода': pd.Series([df['Avg-Вес по СКЗ, т'].mode().iloc[0],\n",
    "                        df['Sum-Расстояние, км'].mode().iloc[0],\n",
    "                        df['Avg-Средняя скорость, км/ч'].mode().iloc[0],\n",
    "                        df['Avg-Перепад высот'].mode().iloc[0],\n",
    "                        df['Расход топлива, л'].mode().iloc[0]])\n",
    "    }         \n",
    "\n",
    "indicators = pd.DataFrame(d)\n",
    "indicators"
   ]
  },
  {
   "cell_type": "code",
   "execution_count": 10,
   "id": "35a092eb-8adb-42b7-b73c-b6c72123b7c3",
   "metadata": {
    "tags": []
   },
   "outputs": [],
   "source": [
    "def iqr(data):\n",
    "    #посчитаю межквартильный размах: определю первый и третий квантили данных \n",
    "    data = data.sort_values()\n",
    "    q1 = data.quantile(0.25)\n",
    "    q3 = data.quantile(0.75)\n",
    "    iqr = q3 - q1\n",
    "    return round(iqr, 3)"
   ]
  },
  {
   "cell_type": "code",
   "execution_count": 11,
   "id": "4132a539-b9b2-41a6-9a78-91bb2af54152",
   "metadata": {},
   "outputs": [
    {
     "data": {
      "text/html": [
       "<div>\n",
       "<style scoped>\n",
       "    .dataframe tbody tr th:only-of-type {\n",
       "        vertical-align: middle;\n",
       "    }\n",
       "\n",
       "    .dataframe tbody tr th {\n",
       "        vertical-align: top;\n",
       "    }\n",
       "\n",
       "    .dataframe thead th {\n",
       "        text-align: right;\n",
       "    }\n",
       "</style>\n",
       "<table border=\"1\" class=\"dataframe\">\n",
       "  <thead>\n",
       "    <tr style=\"text-align: right;\">\n",
       "      <th></th>\n",
       "      <th>Характеристики показателей</th>\n",
       "      <th>Дисперсия</th>\n",
       "      <th>Стандартное отклонение</th>\n",
       "      <th>Коэффициент вариации</th>\n",
       "      <th>Межквартильный размах</th>\n",
       "    </tr>\n",
       "  </thead>\n",
       "  <tbody>\n",
       "    <tr>\n",
       "      <th>0</th>\n",
       "      <td>Средний вес, т</td>\n",
       "      <td>89.870</td>\n",
       "      <td>9.480</td>\n",
       "      <td>0.043</td>\n",
       "      <td>11.551</td>\n",
       "    </tr>\n",
       "    <tr>\n",
       "      <th>1</th>\n",
       "      <td>Среднее расстояние, км</td>\n",
       "      <td>299.969</td>\n",
       "      <td>17.320</td>\n",
       "      <td>0.209</td>\n",
       "      <td>20.300</td>\n",
       "    </tr>\n",
       "    <tr>\n",
       "      <th>2</th>\n",
       "      <td>Средняя скорость, км/ч</td>\n",
       "      <td>2.844</td>\n",
       "      <td>1.687</td>\n",
       "      <td>0.087</td>\n",
       "      <td>2.134</td>\n",
       "    </tr>\n",
       "    <tr>\n",
       "      <th>3</th>\n",
       "      <td>Средний перепад высот</td>\n",
       "      <td>3717.665</td>\n",
       "      <td>60.973</td>\n",
       "      <td>0.531</td>\n",
       "      <td>72.615</td>\n",
       "    </tr>\n",
       "    <tr>\n",
       "      <th>4</th>\n",
       "      <td>Средний расход топлива</td>\n",
       "      <td>91832.775</td>\n",
       "      <td>303.039</td>\n",
       "      <td>0.193</td>\n",
       "      <td>355.000</td>\n",
       "    </tr>\n",
       "  </tbody>\n",
       "</table>\n",
       "</div>"
      ],
      "text/plain": [
       "  Характеристики показателей  Дисперсия  Стандартное отклонение   \n",
       "0             Средний вес, т     89.870                   9.480  \\\n",
       "1     Среднее расстояние, км    299.969                  17.320   \n",
       "2     Средняя скорость, км/ч      2.844                   1.687   \n",
       "3      Средний перепад высот   3717.665                  60.973   \n",
       "4     Средний расход топлива  91832.775                 303.039   \n",
       "\n",
       "   Коэффициент вариации  Межквартильный размах  \n",
       "0                 0.043                 11.551  \n",
       "1                 0.209                 20.300  \n",
       "2                 0.087                  2.134  \n",
       "3                 0.531                 72.615  \n",
       "4                 0.193                355.000  "
      ]
     },
     "execution_count": 11,
     "metadata": {},
     "output_type": "execute_result"
    }
   ],
   "source": [
    "avg_weight = df['Avg-Вес по СКЗ, т'].dropna()\n",
    "avg_hight = df['Avg-Перепад высот'].dropna()\n",
    "avg_dist = df['Sum-Расстояние, км'].dropna()\n",
    "avg_speed = df['Avg-Средняя скорость, км/ч'].dropna()\n",
    "avg_fuel = df['Расход топлива, л'].dropna()\n",
    "\n",
    "d_n = {'Характеристики показателей': pd.Series(['Средний вес, т',\n",
    "                                              'Среднее расстояние, км',\n",
    "                                              'Средняя скорость, км/ч',\n",
    "                                              'Средний перепад высот',\n",
    "                                              'Средний расход топлива']),\n",
    "     'Дисперсия': pd.Series([np.var(avg_weight).round(3),\n",
    "                             np.var(avg_dist).round(3),\n",
    "                             np.var(avg_speed).round(3),\n",
    "                             np.var(avg_hight).round(3),\n",
    "                             np.var(avg_fuel).round(3)]),\n",
    "     'Стандартное отклонение': pd.Series([np.std(avg_weight).round(3),\n",
    "                                          np.std(avg_dist).round(3),\n",
    "                                          np.std(avg_speed).round(3),\n",
    "                                          np.std(avg_hight).round(3),\n",
    "                                          np.std(avg_fuel).round(3)]),\n",
    "     'Коэффициент вариации': pd.Series([round(avg_weight.std() / avg_weight.mean(), 3),\n",
    "                                        round(avg_dist.std() / avg_dist.mean(), 3),\n",
    "                                        round(avg_speed.std() / avg_speed.mean(), 3),\n",
    "                                        round(avg_hight.std() / avg_hight.mean(), 3),\n",
    "                                        round(avg_fuel.std() / avg_fuel.mean(), 3)]),\n",
    "     'Межквартильный размах': pd.Series([iqr(avg_weight),\n",
    "                                         iqr(avg_dist),\n",
    "                                         iqr(avg_speed),\n",
    "                                         iqr(avg_hight),\n",
    "                                         iqr(avg_fuel)])\n",
    "    }         \n",
    "\n",
    "indicators1 = pd.DataFrame(d_n)\n",
    "indicators1"
   ]
  },
  {
   "cell_type": "markdown",
   "id": "3bfab28e-6626-4fc3-bb51-345986b5eb97",
   "metadata": {},
   "source": [
    "Представлены некоторые статистические характеристики для разных показателей.\n",
    "Дисперсия - мера разброса данных относительно их среднего значения.\n",
    "Высокий показатель дисперсии (по показателям Расход топлива и Перепад высот) свидетельствует о высокой степени разброса данных в выборке. То есть, данные в выборке могут значительно отклоняться от среднего значения, что может объясняться наличием выбросов.\n",
    "\n",
    "Стандартное отклонение - квадратный корень из дисперсии, означает степень отклонения данных от среднего значения.\n",
    "\n",
    "Коэффициент вариации - отношение стандартного отклонения к среднему значению, показывает, насколько большой разброс данных относительно их среднего значения. Интерпретируем данные: для среднего веса, средней скорости - данные с низкой изменчивостью, для среднего расстояния, среднего расхода топлива, среднего перепада высот - со средней изменчивостью.\n",
    "\n",
    "Межквартильный размах - это разница между 75-м и 25-м процентилем данных,  используется для измерения разброса данных, показывает какие данные лежат в интервале между квартилями 25-75. \n",
    "Интерпретируем данные:\n",
    "- срдений вес - межквартильный размах равен 11.731, что означает, что 50% значений находятся в диапазоне от (среднее значение - 5.8655) до (среднее значение + 5.8655)\n",
    "- среднее расстояние - межквартильный размах равен 21.78 что означает, что 50% значений находятся в диапазоне от (среднее значение - 10.89) до (среднее значение + 10.89)\n",
    "- средняя скорость - межквартильный размах равен 2.221, что означает, что 50% значений находятся в диапазоне от (среднее значение - 1.11) до (среднее значение + 1.11)\n",
    "- средний перепад высот - межквартильный размах равен 75.535, что означает, что 50% значений находятся в диапазоне от (среднее значение - 37.8) до (среднее значение + 37.8)\n",
    "- средний расход топлива - межквартильный размах равен 394, что означает, что 50% значений находятся в диапазоне от (среднее значение - 197) до (среднее значение + 197)"
   ]
  },
  {
   "cell_type": "code",
   "execution_count": 12,
   "id": "726c8023-3393-4c00-96eb-fd7a9fdedf6b",
   "metadata": {
    "tags": []
   },
   "outputs": [
    {
     "data": {
      "image/png": "[encoded data removed]",
      "text/plain": [
       "<Figure size 1080x360 with 5 Axes>"
      ]
     },
     "metadata": {},
     "output_type": "display_data"
    }
   ],
   "source": [
    "fig, axes = plt.subplots(nrows=1, ncols=5, figsize=(15, 5), facecolor='white')\n",
    "columns = ['Avg-Вес по СКЗ, т', 'Sum-Расстояние, км', 'Avg-Средняя скорость, км/ч', 'Avg-Перепад высот', 'Расход топлива, л']\n",
    "for ax, column in zip(axes, columns):\n",
    "    df.boxplot(column=column, ax=ax)\n",
    "    ax.set_title(column)\n",
    "    ax.set_xlabel('')    \n",
    "plt.tight_layout()\n",
    "plt.savefig('/home/anya-mankova/emco/images/all_boxplot.png', dpi=100)\n",
    "plt.show()"
   ]
  },
  {
   "cell_type": "markdown",
   "id": "d955b03e-5958-4aa7-b8fa-536c708f42ea",
   "metadata": {},
   "source": [
    "видим, что в наших данных существуют выбросы, которые находятся за пределами +- 1,5 межквартильных размаха"
   ]
  },
  {
   "cell_type": "code",
   "execution_count": 13,
   "id": "fa1e568d-e4da-40de-8422-c584e56e1393",
   "metadata": {
    "tags": []
   },
   "outputs": [
    {
     "data": {
      "image/png": "[encoded data removed]",
      "text/plain": [
       "<Figure size 432x288 with 2 Axes>"
      ]
     },
     "metadata": {
      "needs_background": "light"
     },
     "output_type": "display_data"
    }
   ],
   "source": [
    "corr = df[['Avg-Вес по СКЗ, т', 'Sum-Расстояние, км', 'Avg-Средняя скорость, км/ч', 'Avg-Перепад высот', 'Расход топлива, л']].corr()\n",
    "sns.heatmap(corr, annot=True, cmap='coolwarm')\n",
    "plt.savefig('/home/anya-mankova/emco/images/corr.png', dpi=80)"
   ]
  },
  {
   "cell_type": "markdown",
   "id": "321c63ea-f680-454a-bba3-04eae480a424",
   "metadata": {},
   "source": [
    "посмотрим также на корреляцию признаков: очевидна взаимосвязь между расходом топлива и пройденным расстоянием, также довольно значительно на расход топлива влияет перепад высот."
   ]
  },
  {
   "cell_type": "markdown",
   "id": "c856a4d7-c599-4b46-86b6-4a648bebc6a3",
   "metadata": {},
   "source": [
    "Проверим некоторые гипотезы:\n",
    "     1) Н0 - не существует различий в расходе топлива в зависимости от смены\n",
    "        Н1 - существуют различия в расходе топлива в зависимости от смены\n",
    "     2) Н0 - не существует различий в расходе топлива в зависимости от времени года\n",
    "        Н1 - существуют различия в расходе топлива в зависимости от времени года\n",
    "     3) Н0 - не существует различий в расходе топлива в зависимости от самосвала\n",
    "        Н1 - существуют различия в расходе топлива в зависимости от самосвала"
   ]
  },
  {
   "cell_type": "markdown",
   "id": "5e572e3d-90fa-4a0e-8a1c-673f83c907a2",
   "metadata": {
    "tags": []
   },
   "source": [
    "принимаю размер выборки равным 30."
   ]
  },
  {
   "cell_type": "code",
   "execution_count": 91,
   "id": "4525ed50-60f3-4bef-82d2-24f94b1f59d7",
   "metadata": {
    "tags": []
   },
   "outputs": [],
   "source": [
    "def rand_sample(data, size):\n",
    "    return data.sample(n=size)"
   ]
  },
  {
   "cell_type": "code",
   "execution_count": 15,
   "id": "cb16d26c-a15f-4766-a570-525ba84d111f",
   "metadata": {
    "tags": []
   },
   "outputs": [
    {
     "data": {
      "text/html": [
       "<div>\n",
       "<style scoped>\n",
       "    .dataframe tbody tr th:only-of-type {\n",
       "        vertical-align: middle;\n",
       "    }\n",
       "\n",
       "    .dataframe tbody tr th {\n",
       "        vertical-align: top;\n",
       "    }\n",
       "\n",
       "    .dataframe thead th {\n",
       "        text-align: right;\n",
       "    }\n",
       "</style>\n",
       "<table border=\"1\" class=\"dataframe\">\n",
       "  <thead>\n",
       "    <tr style=\"text-align: right;\">\n",
       "      <th></th>\n",
       "      <th>Месяц</th>\n",
       "      <th>Самосвал</th>\n",
       "      <th>Смена</th>\n",
       "      <th>Расход топлива, л</th>\n",
       "    </tr>\n",
       "  </thead>\n",
       "  <tbody>\n",
       "    <tr>\n",
       "      <th>0</th>\n",
       "      <td>10</td>\n",
       "      <td>1035</td>\n",
       "      <td>1</td>\n",
       "      <td>575.0</td>\n",
       "    </tr>\n",
       "    <tr>\n",
       "      <th>1</th>\n",
       "      <td>10</td>\n",
       "      <td>1037</td>\n",
       "      <td>1</td>\n",
       "      <td>1795.0</td>\n",
       "    </tr>\n",
       "    <tr>\n",
       "      <th>2</th>\n",
       "      <td>10</td>\n",
       "      <td>1039</td>\n",
       "      <td>1</td>\n",
       "      <td>1688.0</td>\n",
       "    </tr>\n",
       "    <tr>\n",
       "      <th>5</th>\n",
       "      <td>10</td>\n",
       "      <td>1043</td>\n",
       "      <td>1</td>\n",
       "      <td>2181.0</td>\n",
       "    </tr>\n",
       "    <tr>\n",
       "      <th>7</th>\n",
       "      <td>10</td>\n",
       "      <td>1345</td>\n",
       "      <td>1</td>\n",
       "      <td>1414.0</td>\n",
       "    </tr>\n",
       "  </tbody>\n",
       "</table>\n",
       "</div>"
      ],
      "text/plain": [
       "   Месяц  Самосвал  Смена  Расход топлива, л\n",
       "0     10      1035      1              575.0\n",
       "1     10      1037      1             1795.0\n",
       "2     10      1039      1             1688.0\n",
       "5     10      1043      1             2181.0\n",
       "7     10      1345      1             1414.0"
      ]
     },
     "execution_count": 15,
     "metadata": {},
     "output_type": "execute_result"
    }
   ],
   "source": [
    "groupped_data = df[['Месяц', 'Самосвал', 'Смена', 'Расход топлива, л']].dropna()\n",
    "groupped_data.head()"
   ]
  },
  {
   "cell_type": "code",
   "execution_count": 93,
   "id": "5273e4cf-40a6-41d3-9e11-6d29ebed44f7",
   "metadata": {
    "tags": []
   },
   "outputs": [],
   "source": [
    "import scipy.stats as st\n",
    "work_shift1 = rand_sample(groupped_data[groupped_data['Смена']==1], 30)\n",
    "work_shift2 = rand_sample(groupped_data[groupped_data['Смена']==2], 30)\n",
    "work_shift1 = pd.Series(work_shift1['Расход топлива, л'])\n",
    "work_shift2 = pd.Series(work_shift2['Расход топлива, л'],)"
   ]
  },
  {
   "cell_type": "code",
   "execution_count": 94,
   "id": "2ad845bf-0d80-4ebe-b0cf-b8a089cb7b24",
   "metadata": {
    "tags": []
   },
   "outputs": [
    {
     "data": {
      "text/html": [
       "<div>\n",
       "<style scoped>\n",
       "    .dataframe tbody tr th:only-of-type {\n",
       "        vertical-align: middle;\n",
       "    }\n",
       "\n",
       "    .dataframe tbody tr th {\n",
       "        vertical-align: top;\n",
       "    }\n",
       "\n",
       "    .dataframe thead th {\n",
       "        text-align: right;\n",
       "    }\n",
       "</style>\n",
       "<table border=\"1\" class=\"dataframe\">\n",
       "  <thead>\n",
       "    <tr style=\"text-align: right;\">\n",
       "      <th></th>\n",
       "      <th>Mx</th>\n",
       "      <th>SD</th>\n",
       "      <th>N</th>\n",
       "      <th>SE</th>\n",
       "      <th>interval</th>\n",
       "    </tr>\n",
       "  </thead>\n",
       "  <tbody>\n",
       "    <tr>\n",
       "      <th>Выборка для смены 1</th>\n",
       "      <td>1663.066667</td>\n",
       "      <td>265.619891</td>\n",
       "      <td>30.0</td>\n",
       "      <td>48.495335</td>\n",
       "      <td>95.118378</td>\n",
       "    </tr>\n",
       "    <tr>\n",
       "      <th>Выборка для смены 2</th>\n",
       "      <td>1572.200000</td>\n",
       "      <td>194.903584</td>\n",
       "      <td>30.0</td>\n",
       "      <td>35.584363</td>\n",
       "      <td>69.797838</td>\n",
       "    </tr>\n",
       "  </tbody>\n",
       "</table>\n",
       "</div>"
      ],
      "text/plain": [
       "                              Mx          SD     N         SE   interval\n",
       "Выборка для смены 1  1663.066667  265.619891  30.0  48.495335  95.118378\n",
       "Выборка для смены 2  1572.200000  194.903584  30.0  35.584363  69.797838"
      ]
     },
     "execution_count": 94,
     "metadata": {},
     "output_type": "execute_result"
    }
   ],
   "source": [
    "shift_df = pd.DataFrame({'Выборка для смены 1':work_shift1, 'Выборка для смены 2':work_shift2}).agg(['mean','std','count','sem']).transpose()\n",
    "shift_df.columns = ['Mx','SD','N','SE']\n",
    "\n",
    "# рассчитываем 95% интервал отклонения среднего\n",
    "p = 0.95\n",
    "K = stats.t.ppf((1 + p)/2, shift_df['Mx']-1)\n",
    "shift_df['interval'] = K * shift_df['SE']\n",
    "\n",
    "shift_df"
   ]
  },
  {
   "cell_type": "code",
   "execution_count": 18,
   "id": "184c8d5a-9dba-477e-adb1-0460fd7a840b",
   "metadata": {
    "tags": []
   },
   "outputs": [
    {
     "data": {
      "image/png": "[encoded data removed]",
      "text/plain": [
       "<Figure size 1008x648 with 2 Axes>"
      ]
     },
     "metadata": {},
     "output_type": "display_data"
    }
   ],
   "source": [
    "fig, (ax1, ax2) = plt.subplots(nrows=1, ncols=2, figsize=(14, 9), facecolor='white')\n",
    "bplot1 = ax1.boxplot([work_shift1, work_shift2], labels=['Выборка смены 1', 'Выборка смены 2'])\n",
    "\n",
    "#график доверительных интервалов\n",
    "bplot2 = ax2.errorbar(x=shift_df.index, y=shift_df['Mx'], yerr=shift_df['interval'],\\\n",
    "                      color=\"black\", capsize=3,\n",
    "                      markersize=4, mfc=\"red\", mec=\"black\", fmt ='o')\n",
    "\n",
    "for ax in [ax1, ax2]:\n",
    "    ax.yaxis.grid(True)\n",
    "    ax1.set_title('Boxplot - Расход топлива в зависимости от смены')\n",
    "    ax2.set_title('Доверительный интервал - Расход топлива в зависимости от смены')\n",
    "    ax.set_xlabel('Сравнение двух выборок')\n",
    "    ax.set_ylabel('Расход топлива, л')\n",
    "\n",
    "plt.show()"
   ]
  },
  {
   "cell_type": "code",
   "execution_count": 19,
   "id": "65af5089-64f2-4ffe-bca2-e91f038cb1e9",
   "metadata": {
    "tags": []
   },
   "outputs": [
    {
     "name": "stdout",
     "output_type": "stream",
     "text": [
      "p=0.8483123646901447\n",
      "Мы НЕ можем отклонить нулевую гипотезу\n"
     ]
    }
   ],
   "source": [
    "from scipy.stats import t\n",
    "from numpy import sqrt\n",
    "\n",
    "mean_1, mean_2 = work_shift1.mean(), work_shift2.mean()\n",
    "sd_1, sd_2 = np.std(work_shift1), np.std(work_shift2)\n",
    "N = 30\n",
    "\n",
    "se = sqrt((sd_1 ** 2)/N + (sd_2 ** 2)/N)\n",
    "t_value = (mean_1 - mean_2)/se\n",
    "\n",
    "p = t.sf(t_value, N-2)\n",
    "print(f'p={p}')\n",
    "if p >= 0.05:\n",
    "    print('Мы НЕ можем отклонить нулевую гипотезу')\n",
    "else:\n",
    "    print('Мы можем отклонить нулевую гипотезу')"
   ]
  },
  {
   "cell_type": "markdown",
   "id": "04893179-6ea0-413c-a6f9-886e7263d833",
   "metadata": {},
   "source": [
    "Средние двух выборок примерно равны и находятся в доверительных интервалов друг друга.\n",
    "Таким образом, мы не можем отвергнуть нулевую гипотезу (1) о том, что не существует различий в расходе топлива в зависимости от смены."
   ]
  },
  {
   "cell_type": "code",
   "execution_count": 20,
   "id": "a0bc0da9-88e0-404e-a1b0-12315cb79af4",
   "metadata": {
    "tags": []
   },
   "outputs": [
    {
     "data": {
      "image/png": "[encoded data removed]",
      "text/plain": [
       "<Figure size 1008x648 with 2 Axes>"
      ]
     },
     "metadata": {},
     "output_type": "display_data"
    }
   ],
   "source": [
    "from scipy.stats import probplot\n",
    "fig, (ax1, ax2) = plt.subplots(nrows=1, ncols=2, figsize=(14, 9), facecolor='white')\n",
    "\n",
    "qqplot1 = stats.probplot(work_shift1, dist=\"norm\", plot=ax1)\n",
    "qqplot2 = stats.probplot(work_shift2, dist=\"norm\", plot=ax2)\n",
    "\n",
    "plt.show()"
   ]
  },
  {
   "cell_type": "code",
   "execution_count": 21,
   "id": "1a09b4f4-ef9a-4ce4-8df6-85dab44f6d78",
   "metadata": {
    "tags": []
   },
   "outputs": [
    {
     "name": "stdout",
     "output_type": "stream",
     "text": [
      "Тест для смены 1: Statistics=0.954, p-value=0.222\n",
      "Тест для смены 2: Statistics=0.875, p-value=0.002\n",
      "Распределение похоже на нормальное\n",
      "Распределение не похоже на нормальное)\n"
     ]
    }
   ],
   "source": [
    "from scipy.stats import ttest_ind\n",
    "\n",
    "#тест Шапиро=Уилка, \n",
    "stat1, p1 = shapiro(work_shift1)\n",
    "stat2, p2 = shapiro(work_shift2)\n",
    "print('Тест для смены 1: Statistics=%.3f, p-value=%.3f' % (stat1, p1))\n",
    "print('Тест для смены 2: Statistics=%.3f, p-value=%.3f' % (stat2, p2))\n",
    "\n",
    "alpha = 0.05\n",
    "for p in [p1, p2]:\n",
    "    if p > alpha:\n",
    "        print('Распределение похоже на нормальное')\n",
    "    else:\n",
    "        print('Распределение не похоже на нормальное)')"
   ]
  },
  {
   "cell_type": "markdown",
   "id": "aacde858-0f86-406c-9c9c-7bf513574cce",
   "metadata": {},
   "source": [
    "Проверим вторую гипотезу:\n",
    "Н0 - не существует различий в расходе топлива в зависимости от времени года\n",
    "Н1 - существуют различия в расходе топлива в зависимости от времени года"
   ]
  },
  {
   "cell_type": "code",
   "execution_count": 22,
   "id": "4c2638b8-9f0f-4853-9ce0-a22a7aaeb9b1",
   "metadata": {
    "tags": []
   },
   "outputs": [
    {
     "name": "stdout",
     "output_type": "stream",
     "text": [
      "1656    10\n",
      "Name: Месяц, dtype: int64\n",
      "10993    5\n",
      "Name: Месяц, dtype: int64\n"
     ]
    }
   ],
   "source": [
    "sample_month1 = rand_sample(groupped_data[groupped_data['Месяц']==np.random.choice(range(1, 12))], 30)\n",
    "sample_month2 = rand_sample(groupped_data[groupped_data['Месяц']==np.random.choice(range(1, 12))], 30)\n",
    "\n",
    "print(sample_month1['Месяц'].head(1))\n",
    "print(sample_month2['Месяц'].head(1))\n",
    "\n",
    "sample_month1 = pd.Series(sample_month1['Расход топлива, л'])\n",
    "sample_month2 = pd.Series(sample_month2['Расход топлива, л'])"
   ]
  },
  {
   "cell_type": "code",
   "execution_count": 23,
   "id": "f05a498c-401f-4a93-9880-866c3f5dcbfc",
   "metadata": {
    "tags": []
   },
   "outputs": [
    {
     "data": {
      "text/html": [
       "<div>\n",
       "<style scoped>\n",
       "    .dataframe tbody tr th:only-of-type {\n",
       "        vertical-align: middle;\n",
       "    }\n",
       "\n",
       "    .dataframe tbody tr th {\n",
       "        vertical-align: top;\n",
       "    }\n",
       "\n",
       "    .dataframe thead th {\n",
       "        text-align: right;\n",
       "    }\n",
       "</style>\n",
       "<table border=\"1\" class=\"dataframe\">\n",
       "  <thead>\n",
       "    <tr style=\"text-align: right;\">\n",
       "      <th></th>\n",
       "      <th>Mx</th>\n",
       "      <th>SD</th>\n",
       "      <th>N</th>\n",
       "      <th>SE</th>\n",
       "      <th>interval</th>\n",
       "    </tr>\n",
       "  </thead>\n",
       "  <tbody>\n",
       "    <tr>\n",
       "      <th>Выборка для месяца 1</th>\n",
       "      <td>1394.533333</td>\n",
       "      <td>397.163020</td>\n",
       "      <td>30.0</td>\n",
       "      <td>72.511715</td>\n",
       "      <td>142.243895</td>\n",
       "    </tr>\n",
       "    <tr>\n",
       "      <th>Выборка для месяца 2</th>\n",
       "      <td>1619.000000</td>\n",
       "      <td>241.855471</td>\n",
       "      <td>30.0</td>\n",
       "      <td>44.156566</td>\n",
       "      <td>86.610067</td>\n",
       "    </tr>\n",
       "  </tbody>\n",
       "</table>\n",
       "</div>"
      ],
      "text/plain": [
       "                               Mx          SD     N         SE    interval\n",
       "Выборка для месяца 1  1394.533333  397.163020  30.0  72.511715  142.243895\n",
       "Выборка для месяца 2  1619.000000  241.855471  30.0  44.156566   86.610067"
      ]
     },
     "execution_count": 23,
     "metadata": {},
     "output_type": "execute_result"
    }
   ],
   "source": [
    "month_df = pd.DataFrame({'Выборка для месяца 1':sample_month1, 'Выборка для месяца 2':sample_month2}).agg(['mean','std','count','sem']).transpose()\n",
    "month_df.columns = ['Mx','SD','N','SE']\n",
    "\n",
    "# рассчитываем 95% интервал отклонения среднего\n",
    "p = 0.95\n",
    "K = stats.t.ppf((1 + p)/2, month_df['Mx']-1)\n",
    "month_df['interval'] = K * month_df['SE']\n",
    "\n",
    "month_df"
   ]
  },
  {
   "cell_type": "code",
   "execution_count": 24,
   "id": "ff7edd7c-ce38-4de2-9021-619608be722d",
   "metadata": {
    "tags": []
   },
   "outputs": [
    {
     "data": {
      "image/png": "[encoded data removed]",
      "text/plain": [
       "<Figure size 1008x648 with 2 Axes>"
      ]
     },
     "metadata": {},
     "output_type": "display_data"
    }
   ],
   "source": [
    "fig, (ax1, ax2) = plt.subplots(nrows=1, ncols=2, figsize=(14, 9), facecolor='white')\n",
    "bplot1 = ax1.boxplot([sample_month1, sample_month2], \n",
    "                     labels=['Выборка месяца 1', 'Выборка месяца 2'])\n",
    "\n",
    "#график доверительных интервалов\n",
    "bplot2 = ax2.errorbar(x=month_df.index, y=month_df['Mx'], yerr=month_df['interval'],\\\n",
    "                      color=\"black\", capsize=3,  \n",
    "                      markersize=4, mfc=\"red\", mec=\"black\", fmt ='o')\n",
    "\n",
    "for ax in [ax1, ax2]:\n",
    "    ax.yaxis.grid(True)\n",
    "    ax1.set_title('Boxplot - Расход топлива в зависимости от месяца')\n",
    "    ax2.set_title('Доверительный интервал - Расход топлива в зависимости от месяца')\n",
    "    ax.set_xlabel('Сравнение двух выборок')\n",
    "    ax.set_ylabel('Расход топлива, л')\n",
    "\n",
    "plt.show()"
   ]
  },
  {
   "cell_type": "markdown",
   "id": "1c685f2f-53cf-4377-b327-4bd24c574b14",
   "metadata": {},
   "source": [
    "Средние выборок отличаются\n",
    "Таким образом, мы не можем отвергнуть нулевую гипотезу (2) о том, что не существует различий в расходе топлива в зависимости от месяца."
   ]
  },
  {
   "cell_type": "code",
   "execution_count": 25,
   "id": "6b9a5c6d-a13c-46a7-b26f-80b40c478f2e",
   "metadata": {
    "tags": []
   },
   "outputs": [
    {
     "name": "stdout",
     "output_type": "stream",
     "text": [
      "p=0.9962137623344312\n",
      "Мы НЕ можем отклонить нулевую гипотезу\n"
     ]
    }
   ],
   "source": [
    "mean_m1, mean_m2 = sample_month1.mean(), sample_month2.mean()\n",
    "\n",
    "sd_m1, sd_m2 = np.std(sample_month1), np.std(sample_month2)\n",
    "N = 30\n",
    "\n",
    "se = sqrt((sd_1 ** 2)/N + (sd_2 ** 2)/N)\n",
    "t_value = (mean_m1 - mean_m2)/se\n",
    "\n",
    "p = t.sf(t_value, N-2)\n",
    "print(f'p={p}')\n",
    "if p >= 0.05:\n",
    "    print('Мы НЕ можем отклонить нулевую гипотезу')\n",
    "else:\n",
    "    print('Мы можем отклонить нулевую гипотезу')"
   ]
  },
  {
   "cell_type": "code",
   "execution_count": 26,
   "id": "3366fd18-fa28-48f0-b148-7d78f8322e1d",
   "metadata": {
    "tags": []
   },
   "outputs": [
    {
     "data": {
      "image/png": "[encoded data removed]",
      "text/plain": [
       "<Figure size 1008x648 with 2 Axes>"
      ]
     },
     "metadata": {},
     "output_type": "display_data"
    }
   ],
   "source": [
    "fig, (ax1, ax2) = plt.subplots(nrows=1, ncols=2, figsize=(14, 9), facecolor='white')\n",
    "\n",
    "qqplot_m1 = stats.probplot(sample_month1, dist=\"norm\", plot=ax1)\n",
    "qqplot_m2 = stats.probplot(sample_month2, dist=\"norm\", plot=ax2)\n",
    "\n",
    "plt.show()"
   ]
  },
  {
   "cell_type": "code",
   "execution_count": 27,
   "id": "fa7c7f2d-7127-416b-891c-5fd0b2b6a2a2",
   "metadata": {
    "tags": []
   },
   "outputs": [
    {
     "name": "stdout",
     "output_type": "stream",
     "text": [
      "Тест для месяца 1: Statistics=0.952, p-value=0.191\n",
      "Тест для месяца 2: Statistics=0.923, p-value=0.032\n",
      "Распределение похоже на нормальное\n",
      "Распределение не похоже на нормальное\n"
     ]
    }
   ],
   "source": [
    "#тест Шапиро=Уилка, \n",
    "stat1, p1 = shapiro(sample_month1)\n",
    "stat2, p2 = shapiro(sample_month2)\n",
    "print('Тест для месяца 1: Statistics=%.3f, p-value=%.3f' % (stat1, p1))\n",
    "print('Тест для месяца 2: Statistics=%.3f, p-value=%.3f' % (stat2, p2))\n",
    "\n",
    "alpha = 0.05\n",
    "for p in [p1, p2]:\n",
    "    if p > alpha:\n",
    "        print('Распределение похоже на нормальное')\n",
    "    else:\n",
    "        print('Распределение не похоже на нормальное')"
   ]
  },
  {
   "cell_type": "markdown",
   "id": "6e7b57a9-4c7f-44a5-b136-5dd44b5c8a76",
   "metadata": {},
   "source": [
    "видим, что для месяца 1 тест Шапиро-Уилка отвергает гипотезу о нормальном распределении данных. это связано с наличием выбросов - самая первая точка графика QQplot со значением расхода топлива менее 600 л сильно влияет на наши данные. в остальном наши данные распределены похожим образом, поэтому мы НЕ отвергаем гипотезу о том, что не существует различий в расходе топлива в зависимости от времени года."
   ]
  },
  {
   "cell_type": "markdown",
   "id": "4c525a17-38f7-453e-bd4f-06e421fdc73f",
   "metadata": {},
   "source": [
    "Проверим гипотезу 3:\n",
    "Н0 - не существует различий в расходе топлива в зависимости от самосвала\n",
    "Н1 - существуют различия в расходе топлива в зависимости от самосвала\n",
    "\n",
    "рандомно выберем два самосвала из нашей выборки"
   ]
  },
  {
   "cell_type": "code",
   "execution_count": 28,
   "id": "9e3081fa-8094-406c-990b-195fb67e2715",
   "metadata": {
    "tags": []
   },
   "outputs": [
    {
     "name": "stdout",
     "output_type": "stream",
     "text": [
      "37\n",
      "[1035, 1037, 1039, 1043, 1345, 1347, 1349, 1373, 1374, 1380, 1385, 1386, 1395, 1403, 1404, 1409, 1491, 1494, 1496, 1497, 1498, 1499, 1502, 1503, 1504, 1505, 1044, 1038, 1041, 1042, 1490, 1492, 1493, 1862, 1866, 1381, 1036]\n"
     ]
    }
   ],
   "source": [
    "print(groupped_data['Самосвал'].nunique())\n",
    "unique_trucks = groupped_data['Самосвал'].unique().tolist()\n",
    "print(unique_trucks)"
   ]
  },
  {
   "cell_type": "code",
   "execution_count": 29,
   "id": "1fe7cdf0-587f-4eb9-9d4c-dce5b59f45fb",
   "metadata": {
    "tags": []
   },
   "outputs": [
    {
     "name": "stdout",
     "output_type": "stream",
     "text": [
      "7655    1493\n",
      "Name: Самосвал, dtype: int64\n",
      "133    1503\n",
      "Name: Самосвал, dtype: int64\n"
     ]
    }
   ],
   "source": [
    "sample_trucks1 = rand_sample(groupped_data[groupped_data['Самосвал']==np.random.choice(unique_trucks)], 30)\n",
    "sample_trucks2 = rand_sample(groupped_data[groupped_data['Самосвал']==np.random.choice(unique_trucks)], 30)\n",
    "\n",
    "print(sample_trucks1['Самосвал'].head(1))\n",
    "print(sample_trucks2['Самосвал'].head(1))\n",
    "\n",
    "sample_trucks1 = pd.Series(sample_trucks1['Расход топлива, л'])\n",
    "sample_trucks2 = pd.Series(sample_trucks2['Расход топлива, л'])"
   ]
  },
  {
   "cell_type": "code",
   "execution_count": 30,
   "id": "efa7644e-5bd7-424b-a9fd-f2824a51073f",
   "metadata": {
    "tags": []
   },
   "outputs": [
    {
     "data": {
      "text/html": [
       "<div>\n",
       "<style scoped>\n",
       "    .dataframe tbody tr th:only-of-type {\n",
       "        vertical-align: middle;\n",
       "    }\n",
       "\n",
       "    .dataframe tbody tr th {\n",
       "        vertical-align: top;\n",
       "    }\n",
       "\n",
       "    .dataframe thead th {\n",
       "        text-align: right;\n",
       "    }\n",
       "</style>\n",
       "<table border=\"1\" class=\"dataframe\">\n",
       "  <thead>\n",
       "    <tr style=\"text-align: right;\">\n",
       "      <th></th>\n",
       "      <th>Mx</th>\n",
       "      <th>SD</th>\n",
       "      <th>N</th>\n",
       "      <th>SE</th>\n",
       "      <th>interval</th>\n",
       "    </tr>\n",
       "  </thead>\n",
       "  <tbody>\n",
       "    <tr>\n",
       "      <th>Выборка для самосвала 1</th>\n",
       "      <td>1627.533333</td>\n",
       "      <td>271.376915</td>\n",
       "      <td>30.0</td>\n",
       "      <td>49.546419</td>\n",
       "      <td>97.181513</td>\n",
       "    </tr>\n",
       "    <tr>\n",
       "      <th>Выборка для самосвала 2</th>\n",
       "      <td>1544.866667</td>\n",
       "      <td>308.537119</td>\n",
       "      <td>30.0</td>\n",
       "      <td>56.330913</td>\n",
       "      <td>110.493185</td>\n",
       "    </tr>\n",
       "  </tbody>\n",
       "</table>\n",
       "</div>"
      ],
      "text/plain": [
       "                                  Mx          SD     N         SE    interval\n",
       "Выборка для самосвала 1  1627.533333  271.376915  30.0  49.546419   97.181513\n",
       "Выборка для самосвала 2  1544.866667  308.537119  30.0  56.330913  110.493185"
      ]
     },
     "execution_count": 30,
     "metadata": {},
     "output_type": "execute_result"
    }
   ],
   "source": [
    "trucks_df = pd.DataFrame({'Выборка для самосвала 1':sample_trucks1, 'Выборка для самосвала 2':sample_trucks2}).agg(['mean','std','count','sem']).transpose()\n",
    "trucks_df.columns = ['Mx','SD','N','SE']\n",
    "\n",
    "# рассчитываем 95% интервал отклонения среднего\n",
    "p = 0.95\n",
    "K = stats.t.ppf((1 + p)/2, trucks_df['Mx']-1)\n",
    "trucks_df['interval'] = K * trucks_df['SE']\n",
    "\n",
    "trucks_df"
   ]
  },
  {
   "cell_type": "code",
   "execution_count": 31,
   "id": "d503b4ca-dc2b-4f21-b95b-25bac152b71f",
   "metadata": {
    "tags": []
   },
   "outputs": [
    {
     "data": {
      "image/png": "[encoded data removed]",
      "text/plain": [
       "<Figure size 1008x648 with 2 Axes>"
      ]
     },
     "metadata": {},
     "output_type": "display_data"
    }
   ],
   "source": [
    "fig, (ax1, ax2) = plt.subplots(nrows=1, ncols=2, figsize=(14, 9), facecolor='white')\n",
    "bplot1_truck = ax1.boxplot([sample_trucks1, sample_trucks2], \n",
    "                     labels=['Выборка самосвала 1', 'Выборка самосвала 2'])\n",
    "\n",
    "#график доверительных интервалов\n",
    "bplot2_truck = ax2.errorbar(x=trucks_df.index, y=trucks_df['Mx'],\\\n",
    "                            yerr=trucks_df['interval'],\\\n",
    "                            color=\"black\", capsize=3,\\\n",
    "                            markersize=4, mfc=\"red\", mec=\"black\", fmt ='o')\n",
    "\n",
    "for ax in [ax1, ax2]:\n",
    "    ax.yaxis.grid(True)\n",
    "    ax1.set_title('Boxplot - Расход топлива в зависимости от самосвала')\n",
    "    ax2.set_title('Доверительный интервал - Расход топлива в зависимости от самосвала')\n",
    "    ax.set_xlabel('Сравнение двух выборок')\n",
    "    ax.set_ylabel('Расход топлива, л')\n",
    "\n",
    "plt.show()"
   ]
  },
  {
   "cell_type": "markdown",
   "id": "a2a02abd-abd5-4b30-b2da-f9c40180db15",
   "metadata": {},
   "source": [
    "Средние выборок отличаются, но находятся в доверительных интервалах друг друга.\n",
    "Таким образом, мы не можем отвергнуть нулевую гипотезу (3) о том, что не существует различий в расходе топлива в зависимости от самосвала."
   ]
  },
  {
   "cell_type": "code",
   "execution_count": 32,
   "id": "e7d3dfca-2bae-489d-81b7-b49416b24cc1",
   "metadata": {
    "tags": []
   },
   "outputs": [
    {
     "name": "stdout",
     "output_type": "stream",
     "text": [
      "p=0.1490927007607692\n",
      "Мы НЕ можем отклонить нулевую гипотезу\n"
     ]
    }
   ],
   "source": [
    "mean_t1, mean_t2 = sample_trucks1.mean(), sample_trucks2.mean()\n",
    "\n",
    "sd_t1, sd_t2 = np.std(sample_trucks1), np.std(sample_trucks2)\n",
    "N = 30\n",
    "\n",
    "se = sqrt((sd_1 ** 2)/N + (sd_2 ** 2)/N)\n",
    "t_value = (mean_t1 - mean_t2)/se\n",
    "\n",
    "p = t.sf(t_value, N-2)\n",
    "print(f'p={p}')\n",
    "if p >= 0.05:\n",
    "    print('Мы НЕ можем отклонить нулевую гипотезу')\n",
    "else:\n",
    "    print('Мы можем отклонить нулевую гипотезу')"
   ]
  },
  {
   "cell_type": "code",
   "execution_count": 33,
   "id": "ce46d895-d061-496a-9e48-a29f4dc96c44",
   "metadata": {
    "tags": []
   },
   "outputs": [
    {
     "data": {
      "image/png": "[encoded data removed]",
      "text/plain": [
       "<Figure size 1008x648 with 2 Axes>"
      ]
     },
     "metadata": {},
     "output_type": "display_data"
    }
   ],
   "source": [
    "fig, (ax1, ax2) = plt.subplots(nrows=1, ncols=2, figsize=(14, 9), facecolor='white')\n",
    "\n",
    "qqplot_t1 = stats.probplot(sample_trucks1, dist=\"norm\", plot=ax1)\n",
    "qqplot_t2 = stats.probplot(sample_trucks2, dist=\"norm\", plot=ax2)\n",
    "\n",
    "plt.show()"
   ]
  },
  {
   "cell_type": "code",
   "execution_count": 57,
   "id": "f7d4440b-9d0a-4399-a0db-4bda40f4532c",
   "metadata": {
    "tags": []
   },
   "outputs": [
    {
     "name": "stdout",
     "output_type": "stream",
     "text": [
      "Тест для самосвала 1: Statistics=0.954, p-value=0.210\n",
      "Тест для самосвала 2: Statistics=0.909, p-value=0.014\n",
      "Распределение похоже на нормальное\n",
      "Распределение не похоже на нормальное\n"
     ]
    }
   ],
   "source": [
    "#тест Шапиро=Уилка, \n",
    "stat1, p1 = shapiro(sample_trucks1)\n",
    "stat2, p2 = shapiro(sample_trucks2)\n",
    "print('Тест для самосвала 1: Statistics=%.3f, p-value=%.3f' % (stat1, p1))\n",
    "print('Тест для самосвала 2: Statistics=%.3f, p-value=%.3f' % (stat2, p2))\n",
    "\n",
    "alpha = 0.05\n",
    "for p in [p1, p2]:\n",
    "    if p > alpha:\n",
    "        print('Распределение похоже на нормальное')\n",
    "    else:\n",
    "        print('Распределение не похоже на нормальное')"
   ]
  },
  {
   "cell_type": "markdown",
   "id": "c5274565-2cbd-4c02-8f52-ebf3051bab43",
   "metadata": {},
   "source": [
    "видим, что для самосвала 1 тест Шапиро-Уилка отвергает гипотезу о нормальном распределении данных. действительно, по графику QQplot наше распределение отклоняется от нормлаьного. \n",
    "вместе с тем, средние наших выборок близки и находятся в доверительных интервалах друг друга. считаю отклонять гипотезу о том, что не существует различий в расходе топлива в зависимости от самосвала неправильным.\n",
    "вместе с тем, различия в расходе топлива по самосвалам может зависеть от их технических характеристик. рекомендация - проводить тщательное и своевременное ТО для каждого самосвала."
   ]
  },
  {
   "cell_type": "markdown",
   "id": "759b815c-4eff-41bc-ab28-aaa5085e8616",
   "metadata": {},
   "source": [
    "сформулируем и проверим гипотезы о различиях в расходе топлива в зависимости от веса груза и скорости движения.\n",
    "разброс скоростей у нас от 15 до 24,98 км/ч, среднее = 19,401\n",
    "разброс весов - от 190 до 249,56 т, среднее = 221,681\n",
    "нам нужно понять, при каких параметрах значение расхода топлива меньше. при этом, нужно, чтобы снижение скорости не было фатальным, а груз был не менее чем 220 т.\n",
    "рассмотрим наши три параметра более подробно:"
   ]
  },
  {
   "cell_type": "code",
   "execution_count": 35,
   "id": "fbf6b3f7-be79-4459-8599-b3c9836dfdf6",
   "metadata": {
    "tags": []
   },
   "outputs": [
    {
     "data": {
      "image/png": "[encoded data removed]",
      "text/plain": [
       "<Figure size 1080x360 with 3 Axes>"
      ]
     },
     "metadata": {},
     "output_type": "display_data"
    }
   ],
   "source": [
    "fig, axes = plt.subplots(nrows=1, ncols=3, figsize=(15, 5), facecolor='white')\n",
    "\n",
    "for i, column in enumerate(df[['Avg-Вес по СКЗ, т', 'Avg-Средняя скорость, км/ч', 'Расход топлива, л']]):\n",
    "    axes[i].hist(df[column], bins=10, edgecolor='black', color='#E6E6FA')\n",
    "    axes[i].set_title(column)\n",
    "    axes[i].axvline(df[column].mean(), color='red', linestyle='dashed', linewidth=2, label='Среднее')\n",
    "    axes[i].axvline(df[column].median(), color='green', linestyle='dashed', linewidth=2, label='Медиана')\n",
    "    axes[i].axvline(df[column].mode().iloc[0], color='blue', linestyle='dashed', linewidth=2, label='Мода')\n",
    "plt.legend()\n",
    "plt.tight_layout()\n",
    "\n",
    "plt.show()"
   ]
  },
  {
   "cell_type": "code",
   "execution_count": 36,
   "id": "6b85b496-f9bd-415a-bb67-58a1a6fb9da3",
   "metadata": {
    "tags": []
   },
   "outputs": [
    {
     "data": {
      "image/png": "[encoded data removed]",
      "text/plain": [
       "<Figure size 1080x360 with 2 Axes>"
      ]
     },
     "metadata": {},
     "output_type": "display_data"
    }
   ],
   "source": [
    "fig, axes = plt.subplots(nrows=1, ncols=2, figsize=(15, 5), facecolor='white')\n",
    "sample_fuel = rand_sample(df['Расход топлива, л'], 500)\n",
    "sample_speed = rand_sample(df['Avg-Средняя скорость, км/ч'], 500)\n",
    "sample_weight = rand_sample(df['Avg-Вес по СКЗ, т'], 500)\n",
    "\n",
    "scplot1 = axes[0].scatter(x=sample_fuel, y=sample_speed)\n",
    "scplot2 = axes[1].scatter(x=sample_fuel, y=sample_weight)\n",
    "\n",
    "axes[0].axhline(sample_speed.mean(), color='r')\n",
    "axes[1].axhline(sample_weight.mean(), color='r')\n",
    "\n",
    "axes[0].axvline(sample_fuel.mean(), color='r')\n",
    "axes[1].axvline(sample_fuel.mean(), color='r')\n",
    "\n",
    "plt.show()"
   ]
  },
  {
   "cell_type": "markdown",
   "id": "020f7ee6-ba0f-4400-bf92-c0039e468aba",
   "metadata": {},
   "source": [
    "не вижу явной линейной зависимости переменных.\n",
    "тем не менее, попробуем оценить зависимость переменных с помощью линейной регрессии."
   ]
  },
  {
   "cell_type": "code",
   "execution_count": 56,
   "id": "83a972b7-8552-48de-9639-00904c256974",
   "metadata": {
    "tags": []
   },
   "outputs": [
    {
     "name": "stdout",
     "output_type": "stream",
     "text": [
      "                            OLS Regression Results                            \n",
      "==============================================================================\n",
      "Dep. Variable:      Расход топлива, л   R-squared:                       0.002\n",
      "Model:                            OLS   Adj. R-squared:                 -0.000\n",
      "Method:                 Least Squares   F-statistic:                    0.9029\n",
      "Date:                Sun, 09 Apr 2023   Prob (F-statistic):              0.406\n",
      "Time:                        21:47:29   Log-Likelihood:                -7109.6\n",
      "No. Observations:                1000   AIC:                         1.423e+04\n",
      "Df Residuals:                     997   BIC:                         1.424e+04\n",
      "Df Model:                           2                                         \n",
      "Covariance Type:            nonrobust                                         \n",
      "==============================================================================================\n",
      "                                 coef    std err          t      P>|t|      [0.025      0.975]\n",
      "----------------------------------------------------------------------------------------------\n",
      "const                       1227.6271    258.845      4.743      0.000     719.684    1735.571\n",
      "Avg-Средняя скорость, км/ч     3.3143      5.482      0.605      0.546      -7.444      14.072\n",
      "Avg-Вес по СКЗ, т              1.2731      1.015      1.255      0.210      -0.718       3.264\n",
      "==============================================================================\n",
      "Omnibus:                      106.858   Durbin-Watson:                   2.065\n",
      "Prob(Omnibus):                  0.000   Jarque-Bera (JB):              145.815\n",
      "Skew:                          -0.822   Prob(JB):                     2.17e-32\n",
      "Kurtosis:                       3.894   Cond. No.                     6.15e+03\n",
      "==============================================================================\n",
      "\n",
      "Notes:\n",
      "[1] Standard Errors assume that the covariance matrix of the errors is correctly specified.\n",
      "[2] The condition number is large, 6.15e+03. This might indicate that there are\n",
      "strong multicollinearity or other numerical problems.\n"
     ]
    }
   ],
   "source": [
    "import statsmodels.api as sm\n",
    "from statsmodels.formula.api import ols\n",
    "\n",
    "r_s = rand_sample(df, 1000)\n",
    "\n",
    "y = r_s['Расход топлива, л']\n",
    "x = r_s[['Avg-Средняя скорость, км/ч', 'Avg-Вес по СКЗ, т']]\n",
    "\n",
    "x = sm.add_constant(x)\n",
    "model = sm.OLS(y, x).fit() \n",
    "print(model.summary())"
   ]
  },
  {
   "cell_type": "markdown",
   "id": "45a9d1d2-66bc-4819-a60f-b751f08bf2fb",
   "metadata": {},
   "source": [
    "используем функцию OLS() из библиотеки statsmodels для выполнения обычной регрессии методом наименьших квадратов. показатели скорости и веса в качестве переменных-предикторов (независимые переменные) и расход топлива в качестве переменной ответа.\n",
    "\n",
    "Коэффициент детерминации (R-squared) равен 0.002, что означает, что около 0,2% изменчивости расхода топлива могут быть объяснены изменениями в рассматриваемых параметрах. F-статистика (F-statistic) имеет значение 0,9029, а вероятность (Prob (F-statistic)) больше 0.05, что указывает на НЕ значимость модели. Каждый параметр имеет свой коэффициент (coef), который показывает, как изменение в данном параметре влияет на изменение расхода топлива. Например, каждый километр/ч увеличивает расход топлива на 3.3143 литра. В то же время, увеличение веса груза на 1 т увеличивает расход топлива на 1,2731 литра.\n",
    "Стандартная ошибка (std err) и t-статистика (t) используются для оценки значимости коэффициента. P-value (P>|t|) также указывает на значимость коэффициента: в нашем случае, коэффициенты не считаются значимыми.\n",
    "[1] Стандартные ошибки предполагают, что матрица ковариации ошибок правильно задана. \n",
    "[2] Значение числа условия большое, 6.15e+03. Это может указывать на наличие сильной мультиколлинеарности или других численных проблем.\n",
    "\n",
    "const - значение коэффициента при константе (т.е. свободном члене) в модели регрессии. В данном случае, это означает, что когда все предикторы равны нулю, средний расход топлива будет составлять 1228 л/ 100 км"
   ]
  },
  {
   "cell_type": "code",
   "execution_count": null,
   "id": "4bb33e23-7034-4e7e-b8b2-75374a582402",
   "metadata": {},
   "outputs": [],
   "source": [
    "Первая гипотеза\n",
    "H0 - изменение скорости самосвала не влияет на изменение расхода топлива\n",
    "H1 - изменение скорости самосвала влияет на изменение расхода топлива\n",
    "\n",
    "для начала проранжируем наши признаки скорости от низкой до высокой. \n",
    "интервалы: \n",
    "    15-18,3 - низкая\n",
    "    18,4-18,99 - ниже среднего\n",
    "    19-20 - средняя\n",
    "    21-20,5 - выше среднего\n",
    "    20,6-25 - высокая"
   ]
  },
  {
   "cell_type": "code",
   "execution_count": 172,
   "id": "47821a58-4235-43e2-8d26-cd4e3268fe0a",
   "metadata": {
    "tags": []
   },
   "outputs": [
    {
     "data": {
      "text/html": [
       "<div>\n",
       "<style scoped>\n",
       "    .dataframe tbody tr th:only-of-type {\n",
       "        vertical-align: middle;\n",
       "    }\n",
       "\n",
       "    .dataframe tbody tr th {\n",
       "        vertical-align: top;\n",
       "    }\n",
       "\n",
       "    .dataframe thead th {\n",
       "        text-align: right;\n",
       "    }\n",
       "</style>\n",
       "<table border=\"1\" class=\"dataframe\">\n",
       "  <thead>\n",
       "    <tr style=\"text-align: right;\">\n",
       "      <th></th>\n",
       "      <th>Расход топлива, л</th>\n",
       "      <th>Avg-Вес по СКЗ, т</th>\n",
       "      <th>Avg-Средняя скорость, км/ч</th>\n",
       "      <th>оценка скорости</th>\n",
       "      <th>оценка весов</th>\n",
       "    </tr>\n",
       "  </thead>\n",
       "  <tbody>\n",
       "    <tr>\n",
       "      <th>0</th>\n",
       "      <td>575.0</td>\n",
       "      <td>228.500000</td>\n",
       "      <td>17.731667</td>\n",
       "      <td>низкая скорость</td>\n",
       "      <td>большой вес</td>\n",
       "    </tr>\n",
       "    <tr>\n",
       "      <th>1</th>\n",
       "      <td>1795.0</td>\n",
       "      <td>214.818182</td>\n",
       "      <td>17.938182</td>\n",
       "      <td>низкая скорость</td>\n",
       "      <td>малый вес</td>\n",
       "    </tr>\n",
       "    <tr>\n",
       "      <th>2</th>\n",
       "      <td>1688.0</td>\n",
       "      <td>221.533333</td>\n",
       "      <td>16.754000</td>\n",
       "      <td>низкая скорость</td>\n",
       "      <td>средний вес</td>\n",
       "    </tr>\n",
       "    <tr>\n",
       "      <th>5</th>\n",
       "      <td>2181.0</td>\n",
       "      <td>223.800000</td>\n",
       "      <td>18.466000</td>\n",
       "      <td>скорость ниже среднего</td>\n",
       "      <td>вес выше среднего</td>\n",
       "    </tr>\n",
       "    <tr>\n",
       "      <th>7</th>\n",
       "      <td>1414.0</td>\n",
       "      <td>222.625000</td>\n",
       "      <td>19.187500</td>\n",
       "      <td>средняя скорость</td>\n",
       "      <td>средний вес</td>\n",
       "    </tr>\n",
       "  </tbody>\n",
       "</table>\n",
       "</div>"
      ],
      "text/plain": [
       "   Расход топлива, л  Avg-Вес по СКЗ, т  Avg-Средняя скорость, км/ч   \n",
       "0              575.0         228.500000                   17.731667  \\\n",
       "1             1795.0         214.818182                   17.938182   \n",
       "2             1688.0         221.533333                   16.754000   \n",
       "5             2181.0         223.800000                   18.466000   \n",
       "7             1414.0         222.625000                   19.187500   \n",
       "\n",
       "          оценка скорости       оценка весов  \n",
       "0         низкая скорость        большой вес  \n",
       "1         низкая скорость          малый вес  \n",
       "2         низкая скорость        средний вес  \n",
       "5  скорость ниже среднего  вес выше среднего  \n",
       "7        средняя скорость        средний вес  "
      ]
     },
     "execution_count": 172,
     "metadata": {},
     "output_type": "execute_result"
    }
   ],
   "source": [
    "df_new = df[['Расход топлива, л', 'Avg-Вес по СКЗ, т', 'Avg-Средняя скорость, км/ч', 'оценка скорости']]\n",
    "\n",
    "for i, row in df.iterrows():\n",
    "    if row['Avg-Средняя скорость, км/ч'] >= 15 and row['Avg-Средняя скорость, км/ч'] <= 18.3:\n",
    "        df_new.at[i, 'оценка скорости'] = 'низкая скорость'\n",
    "    elif row['Avg-Средняя скорость, км/ч'] > 18.3 and row['Avg-Средняя скорость, км/ч'] < 19:\n",
    "        df_new.at[i, 'оценка скорости'] = 'скорость ниже среднего'\n",
    "    elif row['Avg-Средняя скорость, км/ч'] >= 19 and row['Avg-Средняя скорость, км/ч'] <= 20:\n",
    "        df_new.at[i, 'оценка скорости'] = 'средняя скорость'\n",
    "    elif row['Avg-Средняя скорость, км/ч'] > 20 and row['Avg-Средняя скорость, км/ч'] <= 20.5:\n",
    "        df_new.at[i, 'оценка скорости'] = 'скорость выше среднего'\n",
    "    else:\n",
    "        df_new.at[i, 'оценка скорости'] = 'высокая скорость'\n",
    "\n",
    "for i, row in df.iterrows():\n",
    "    if row['Avg-Вес по СКЗ, т'] >= 190 and row['Avg-Вес по СКЗ, т'] <= 216.5:\n",
    "        df_new.at[i, 'оценка весов'] = 'малый вес'\n",
    "    elif row['Avg-Вес по СКЗ, т'] > 216.5 and row['Avg-Вес по СКЗ, т'] < 220:\n",
    "        df_new.at[i, 'оценка весов'] = 'вес ниже среднего'\n",
    "    elif row['Avg-Вес по СКЗ, т'] >= 220 and row['Avg-Вес по СКЗ, т'] <= 223.4:\n",
    "        df_new.at[i, 'оценка весов'] = 'средний вес'    \n",
    "    elif row['Avg-Вес по СКЗ, т'] > 223.4 and row['Avg-Вес по СКЗ, т'] <= 228.3:\n",
    "        df_new.at[i, 'оценка весов'] = 'вес выше среднего'\n",
    "    else:\n",
    "        df_new.at[i, 'оценка весов'] = 'большой вес'\n",
    "df_new.head()"
   ]
  },
  {
   "cell_type": "markdown",
   "id": "db2460b5-dbba-423a-9bf1-21e5586472ac",
   "metadata": {},
   "source": [
    "выполним анализ, чтобы определить, одинаковы ли средние значения расхода топлива для пяти групп скорости.\n",
    "H0 - средние значения равны\n",
    "H1 - по крайней мере одно среднее значение отличаетсяот остальных"
   ]
  },
  {
   "cell_type": "code",
   "execution_count": 190,
   "id": "4845bb43-9188-4fa6-8849-80aa63c581bf",
   "metadata": {
    "tags": []
   },
   "outputs": [
    {
     "data": {
      "text/plain": [
       "F_onewayResult(statistic=2.272040141162302, pvalue=0.06210978624520251)"
      ]
     },
     "execution_count": 190,
     "metadata": {},
     "output_type": "execute_result"
    }
   ],
   "source": [
    "from scipy.stats import f_oneway\n",
    "\n",
    "\n",
    "group1 = rand_sample(df_new[df_new['оценка скорости']=='низкая скорость'], 50)\n",
    "group2 = rand_sample(df_new[df_new['оценка скорости']=='скорость ниже среднего'], 50)\n",
    "group3 = rand_sample(df_new[df_new['оценка скорости']=='средняя скорость'], 50)\n",
    "group4 = rand_sample(df_new[df_new['оценка скорости']=='скорость выше среднего'], 50)\n",
    "group5 = rand_sample(df_new[df_new['оценка скорости']=='высокая скорость'], 50)\n",
    "sample_group1 = pd.Series(group1['Расход топлива, л'])\n",
    "sample_group2 = pd.Series(group2['Расход топлива, л'])\n",
    "sample_group3 = pd.Series(group3['Расход топлива, л'])\n",
    "sample_group4 = pd.Series(group4['Расход топлива, л'])\n",
    "sample_group5 = pd.Series(group5['Расход топлива, л'])\n",
    "f_oneway(sample_group1, sample_group2, sample_group3, sample_group4, sample_group5)"
   ]
  },
  {
   "cell_type": "markdown",
   "id": "7d8792be-5fb9-4db2-bb48-18d1bfa53214",
   "metadata": {
    "tags": []
   },
   "source": [
    "!!! все не так, переписать\n",
    "\n",
    "! Поскольку p-значение МЕНЬШЕ 0,05, мы МОЖЕМ отвергнуть нулевую теорию\n",
    "это значит, что ЕСТЬ основания полагать, что скорость влияет на расход топлива.\n",
    "попробуем сравнить в каких именно группах есть взаимосвязь: будем сравнивать данные при средней скорости и выше/ниже среднего"
   ]
  },
  {
   "cell_type": "code",
   "execution_count": 187,
   "id": "de056456-78f2-4d67-9739-d466be4c07aa",
   "metadata": {},
   "outputs": [
    {
     "data": {
      "text/plain": [
       "F_onewayResult(statistic=0.5457893967747999, pvalue=0.4618089792963985)"
      ]
     },
     "execution_count": 187,
     "metadata": {},
     "output_type": "execute_result"
    }
   ],
   "source": [
    "f_oneway(sample_group2, sample_group3)"
   ]
  },
  {
   "cell_type": "code",
   "execution_count": 188,
   "id": "8398f5b2-2c9f-4d10-b05e-0c3e224b49ea",
   "metadata": {
    "tags": []
   },
   "outputs": [
    {
     "data": {
      "text/plain": [
       "F_onewayResult(statistic=0.3915186746982358, pvalue=0.5329567215388271)"
      ]
     },
     "execution_count": 188,
     "metadata": {},
     "output_type": "execute_result"
    }
   ],
   "source": [
    "f_oneway(sample_group4, sample_group3)"
   ]
  },
  {
   "cell_type": "markdown",
   "id": "8590b7ce-22ea-40c7-a958-0101cfe2d99e",
   "metadata": {},
   "source": [
    "!! все не так, переписать\n",
    "\n",
    "различия между группами значимы!\n",
    "в обоих случаях есть взаимосвязь, нужно проверить подробнее."
   ]
  },
  {
   "cell_type": "code",
   "execution_count": 191,
   "id": "f2a83af7-fa17-4440-a071-0a8bffb57931",
   "metadata": {
    "tags": []
   },
   "outputs": [
    {
     "data": {
      "text/html": [
       "<div>\n",
       "<style scoped>\n",
       "    .dataframe tbody tr th:only-of-type {\n",
       "        vertical-align: middle;\n",
       "    }\n",
       "\n",
       "    .dataframe tbody tr th {\n",
       "        vertical-align: top;\n",
       "    }\n",
       "\n",
       "    .dataframe thead th {\n",
       "        text-align: right;\n",
       "    }\n",
       "</style>\n",
       "<table border=\"1\" class=\"dataframe\">\n",
       "  <thead>\n",
       "    <tr style=\"text-align: right;\">\n",
       "      <th></th>\n",
       "      <th>mean</th>\n",
       "      <th>SD</th>\n",
       "      <th>N</th>\n",
       "      <th>SE</th>\n",
       "      <th>interval</th>\n",
       "    </tr>\n",
       "  </thead>\n",
       "  <tbody>\n",
       "    <tr>\n",
       "      <th>Выборка для скорости ниже среднего</th>\n",
       "      <td>1548.62</td>\n",
       "      <td>395.506232</td>\n",
       "      <td>50.0</td>\n",
       "      <td>55.933028</td>\n",
       "      <td>109.712523</td>\n",
       "    </tr>\n",
       "    <tr>\n",
       "      <th>Выборка для средней скорости</th>\n",
       "      <td>1620.44</td>\n",
       "      <td>274.352385</td>\n",
       "      <td>50.0</td>\n",
       "      <td>38.799286</td>\n",
       "      <td>76.102082</td>\n",
       "    </tr>\n",
       "    <tr>\n",
       "      <th>Выборка для скорости выше среднего</th>\n",
       "      <td>1654.74</td>\n",
       "      <td>257.158000</td>\n",
       "      <td>50.0</td>\n",
       "      <td>36.367633</td>\n",
       "      <td>71.331458</td>\n",
       "    </tr>\n",
       "  </tbody>\n",
       "</table>\n",
       "</div>"
      ],
      "text/plain": [
       "                                       mean          SD     N         SE   \n",
       "Выборка для скорости ниже среднего  1548.62  395.506232  50.0  55.933028  \\\n",
       "Выборка для средней скорости        1620.44  274.352385  50.0  38.799286   \n",
       "Выборка для скорости выше среднего  1654.74  257.158000  50.0  36.367633   \n",
       "\n",
       "                                      interval  \n",
       "Выборка для скорости ниже среднего  109.712523  \n",
       "Выборка для средней скорости         76.102082  \n",
       "Выборка для скорости выше среднего   71.331458  "
      ]
     },
     "execution_count": 191,
     "metadata": {},
     "output_type": "execute_result"
    }
   ],
   "source": [
    "speed_df = pd.DataFrame({'Выборка для скорости ниже среднего':sample_group2, 'Выборка для средней скорости':sample_group3, 'Выборка для скорости выше среднего':sample_group4}).agg(['mean','std','count','sem']).transpose()\n",
    "speed_df.columns = ['mean','SD','N','SE']\n",
    "\n",
    "# рассчитываем 95% интервал отклонения среднего\n",
    "p = 0.95\n",
    "K = stats.t.ppf((1 + p)/2, speed_df['mean']-1)\n",
    "speed_df['interval'] = K * speed_df['SE']\n",
    "\n",
    "speed_df"
   ]
  },
  {
   "cell_type": "code",
   "execution_count": 192,
   "id": "4863137b-ef4d-46e7-949c-01d5f8eba74a",
   "metadata": {
    "tags": []
   },
   "outputs": [
    {
     "data": {
      "image/png": "[encoded data removed]",
      "text/plain": [
       "<Figure size 1008x648 with 2 Axes>"
      ]
     },
     "metadata": {},
     "output_type": "display_data"
    }
   ],
   "source": [
    "fig, (ax1, ax2) = plt.subplots(nrows=1, ncols=2, figsize=(14, 9), facecolor='white')\n",
    "bplot1_truck = ax1.boxplot([sample_group2, sample_group3, sample_group4], \n",
    "                     labels=['low-avg speed',\n",
    "                             'avg speed',\n",
    "                             'high-avg speed'])\n",
    "\n",
    "#график доверительных интервалов\n",
    "bplot2_truck = ax2.errorbar(x=speed_df.index, y=speed_df['mean'],\\\n",
    "                            yerr=speed_df['interval'],\\\n",
    "                            color=\"black\", capsize=3,\\\n",
    "                            markersize=4, mfc=\"red\", mec=\"black\", fmt ='o')\n",
    "\n",
    "for ax in [ax1, ax2]:\n",
    "    ax.yaxis.grid(True)\n",
    "    ax1.set_title('Boxplot - Расход топлива в зависимости от скорости')\n",
    "    ax2.set_title('Доверительный интервал - Расход топлива в зависимости от скорости')\n",
    "    ax.set_xlabel('Сравнение трех выборок')\n",
    "    ax.set_ylabel('Расход топлива, л')\n",
    "\n",
    "plt.show()"
   ]
  },
  {
   "cell_type": "markdown",
   "id": "d0fe086c-0bb6-4009-a5f1-02ae3e21aea2",
   "metadata": {},
   "source": [
    "мы МОЖЕМ отвергнуть нулевую гипотезу о том, что не существует различий в расходе топлива в зависимости от скорости, различия существуют!"
   ]
  },
  {
   "cell_type": "code",
   "execution_count": null,
   "id": "6c1a78a6-9665-406d-8ca5-b091a2ddd7be",
   "metadata": {},
   "outputs": [],
   "source": [
    "Вторая гипотеза\n",
    "H0 - изменение веса не влияет на изменение расхода топлива\n",
    "H1 - изменение веса влияет на изменение расхода топлива\n",
    "\n",
    "для начала проранжируем наши признаки скорости от низкой до высокой. \n",
    "интервалы: \n",
    "    15-18,3 - низкая\n",
    "    18,4-19,5 - средняя\n",
    "    19,6-20,5 - выше среднего\n",
    "    20,6-25 - высокая"
   ]
  },
  {
   "cell_type": "code",
   "execution_count": 194,
   "id": "b6c30c1c-e07b-456d-9c90-6985df42e02d",
   "metadata": {
    "tags": []
   },
   "outputs": [
    {
     "data": {
      "text/plain": [
       "F_onewayResult(statistic=2.047966340185069, pvalue=0.08831437971324717)"
      ]
     },
     "execution_count": 194,
     "metadata": {},
     "output_type": "execute_result"
    }
   ],
   "source": [
    "group_w1 = rand_sample(df_new[df_new['оценка весов']=='малый вес'], 50)\n",
    "group_w2 = rand_sample(df_new[df_new['оценка весов']=='вес ниже среднего'], 50)\n",
    "group_w3 = rand_sample(df_new[df_new['оценка весов']=='средний вес'], 50)\n",
    "group_w4 = rand_sample(df_new[df_new['оценка весов']=='вес выше среднего'], 50)\n",
    "group_w5 = rand_sample(df_new[df_new['оценка весов']=='большой вес'], 50)\n",
    "sample_group_w1 = pd.Series(group_w1['Расход топлива, л'])\n",
    "sample_group_w2 = pd.Series(group_w2['Расход топлива, л'])\n",
    "sample_group_w3 = pd.Series(group_w3['Расход топлива, л'])\n",
    "sample_group_w4 = pd.Series(group_w4['Расход топлива, л'])\n",
    "sample_group_w5 = pd.Series(group_w5['Расход топлива, л'])\n",
    "\n",
    "f_oneway(sample_group_w1, sample_group_w2, sample_group_w3, sample_group_w4, sample_group_w5)"
   ]
  },
  {
   "cell_type": "markdown",
   "id": "0f1dfbdd-6661-42af-8b37-077ce0603957",
   "metadata": {},
   "source": [
    "! Поскольку p-значение БОЛЬШЕ 0,05, мы НЕ МОЖЕМ отвергнуть нулевую теорию\n",
    "это значит, чтоу нас нет достаточных оснований полагать, что вес влияет на расход топлива\n",
    "\n",
    "попробуем сравнить по группам, возможно между конкретными группами найдем взаимосвязь: будем сравнивать данные при загрузке ниже среднего, средней и выше среднего"
   ]
  },
  {
   "cell_type": "code",
   "execution_count": 142,
   "id": "f1ad30cc-b9dd-4003-851c-b8ce3ffd745b",
   "metadata": {
    "tags": []
   },
   "outputs": [
    {
     "data": {
      "text/plain": [
       "F_onewayResult(statistic=0.41254758406050285, pvalue=0.6627256961513117)"
      ]
     },
     "execution_count": 142,
     "metadata": {},
     "output_type": "execute_result"
    }
   ],
   "source": [
    "f_oneway(sample_group_w2, sample_group_w3, sample_group_w4)"
   ]
  },
  {
   "cell_type": "code",
   "execution_count": 144,
   "id": "b390f737-9deb-4268-93e6-199222ce9c96",
   "metadata": {
    "tags": []
   },
   "outputs": [
    {
     "data": {
      "text/plain": [
       "F_onewayResult(statistic=0.8050857983800724, pvalue=0.3717761308437776)"
      ]
     },
     "execution_count": 144,
     "metadata": {},
     "output_type": "execute_result"
    }
   ],
   "source": [
    "f_oneway(sample_group_w2, sample_group_w3)"
   ]
  },
  {
   "cell_type": "code",
   "execution_count": 143,
   "id": "fa63dcaa-8047-4d84-bbcd-1e26d5e50168",
   "metadata": {
    "tags": []
   },
   "outputs": [
    {
     "data": {
      "text/plain": [
       "F_onewayResult(statistic=0.051711358191181646, pvalue=0.820585428934887)"
      ]
     },
     "execution_count": 143,
     "metadata": {},
     "output_type": "execute_result"
    }
   ],
   "source": [
    "f_oneway(sample_group_w3, sample_group_w4)"
   ]
  },
  {
   "cell_type": "code",
   "execution_count": 145,
   "id": "4f17655a-03eb-48a0-8c7f-cd0e19268aba",
   "metadata": {
    "tags": []
   },
   "outputs": [
    {
     "data": {
      "text/plain": [
       "F_onewayResult(statistic=0.1686821254200379, pvalue=0.682182339540322)"
      ]
     },
     "execution_count": 145,
     "metadata": {},
     "output_type": "execute_result"
    }
   ],
   "source": [
    "f_oneway(sample_group_w3, sample_group_w5)"
   ]
  },
  {
   "cell_type": "code",
   "execution_count": 146,
   "id": "459df210-0675-497a-bcf3-ce4b1fc22eca",
   "metadata": {
    "tags": []
   },
   "outputs": [
    {
     "data": {
      "text/plain": [
       "F_onewayResult(statistic=0.6554642789092237, pvalue=0.4201272230817694)"
      ]
     },
     "execution_count": 146,
     "metadata": {},
     "output_type": "execute_result"
    }
   ],
   "source": [
    "f_oneway(sample_group_w1, sample_group_w5)"
   ]
  },
  {
   "cell_type": "markdown",
   "id": "bb17ef5a-9726-464e-9a54-bd8a44c1eae9",
   "metadata": {},
   "source": [
    "даже между минимальной и максимальной загрузкой не видно взаимосвязи"
   ]
  },
  {
   "cell_type": "code",
   "execution_count": 195,
   "id": "c31189d8-4dac-4da9-bd1d-cdec8a87c2ca",
   "metadata": {
    "tags": []
   },
   "outputs": [
    {
     "data": {
      "text/html": [
       "<div>\n",
       "<style scoped>\n",
       "    .dataframe tbody tr th:only-of-type {\n",
       "        vertical-align: middle;\n",
       "    }\n",
       "\n",
       "    .dataframe tbody tr th {\n",
       "        vertical-align: top;\n",
       "    }\n",
       "\n",
       "    .dataframe thead th {\n",
       "        text-align: right;\n",
       "    }\n",
       "</style>\n",
       "<table border=\"1\" class=\"dataframe\">\n",
       "  <thead>\n",
       "    <tr style=\"text-align: right;\">\n",
       "      <th></th>\n",
       "      <th>mean</th>\n",
       "      <th>SD</th>\n",
       "      <th>N</th>\n",
       "      <th>SE</th>\n",
       "      <th>interval</th>\n",
       "    </tr>\n",
       "  </thead>\n",
       "  <tbody>\n",
       "    <tr>\n",
       "      <th>Выборка для малого веса</th>\n",
       "      <td>1591.56</td>\n",
       "      <td>312.849456</td>\n",
       "      <td>50.0</td>\n",
       "      <td>44.243594</td>\n",
       "      <td>86.781889</td>\n",
       "    </tr>\n",
       "    <tr>\n",
       "      <th>Выборка для веса ниже среднего</th>\n",
       "      <td>1513.04</td>\n",
       "      <td>319.624905</td>\n",
       "      <td>50.0</td>\n",
       "      <td>45.201788</td>\n",
       "      <td>88.664850</td>\n",
       "    </tr>\n",
       "    <tr>\n",
       "      <th>Выборка для среднего веса</th>\n",
       "      <td>1617.48</td>\n",
       "      <td>293.210883</td>\n",
       "      <td>50.0</td>\n",
       "      <td>41.466281</td>\n",
       "      <td>81.333316</td>\n",
       "    </tr>\n",
       "    <tr>\n",
       "      <th>Выборка для веса выше среднего</th>\n",
       "      <td>1476.70</td>\n",
       "      <td>281.145271</td>\n",
       "      <td>50.0</td>\n",
       "      <td>39.759945</td>\n",
       "      <td>77.992029</td>\n",
       "    </tr>\n",
       "    <tr>\n",
       "      <th>Выборка для большого веса</th>\n",
       "      <td>1595.84</td>\n",
       "      <td>290.279904</td>\n",
       "      <td>50.0</td>\n",
       "      <td>41.051778</td>\n",
       "      <td>80.521115</td>\n",
       "    </tr>\n",
       "  </tbody>\n",
       "</table>\n",
       "</div>"
      ],
      "text/plain": [
       "                                   mean          SD     N         SE   \n",
       "Выборка для малого веса         1591.56  312.849456  50.0  44.243594  \\\n",
       "Выборка для веса ниже среднего  1513.04  319.624905  50.0  45.201788   \n",
       "Выборка для среднего веса       1617.48  293.210883  50.0  41.466281   \n",
       "Выборка для веса выше среднего  1476.70  281.145271  50.0  39.759945   \n",
       "Выборка для большого веса       1595.84  290.279904  50.0  41.051778   \n",
       "\n",
       "                                 interval  \n",
       "Выборка для малого веса         86.781889  \n",
       "Выборка для веса ниже среднего  88.664850  \n",
       "Выборка для среднего веса       81.333316  \n",
       "Выборка для веса выше среднего  77.992029  \n",
       "Выборка для большого веса       80.521115  "
      ]
     },
     "execution_count": 195,
     "metadata": {},
     "output_type": "execute_result"
    }
   ],
   "source": [
    "weight_df = pd.DataFrame({'Выборка для малого веса':sample_group_w1, 'Выборка для веса ниже среднего':sample_group_w2, 'Выборка для среднего веса':sample_group_w3, 'Выборка для веса выше среднего':sample_group_w4, 'Выборка для большого веса':sample_group_w5}).agg(['mean','std','count','sem']).transpose()\n",
    "weight_df.columns = ['mean','SD','N','SE']\n",
    "\n",
    "# рассчитываем 95% интервал отклонения среднего\n",
    "p = 0.95\n",
    "K = stats.t.ppf((1 + p)/2, weight_df['mean']-1)\n",
    "weight_df['interval'] = K * weight_df['SE']\n",
    "\n",
    "weight_df"
   ]
  },
  {
   "cell_type": "code",
   "execution_count": 196,
   "id": "88e0958e-3a7f-4aef-bb7f-c195dbb6b8b2",
   "metadata": {
    "tags": []
   },
   "outputs": [
    {
     "data": {
      "image/png": "[encoded data removed]",
      "text/plain": [
       "<Figure size 1008x648 with 2 Axes>"
      ]
     },
     "metadata": {},
     "output_type": "display_data"
    }
   ],
   "source": [
    "fig, (ax1, ax2) = plt.subplots(nrows=1, ncols=2, figsize=(14, 9), facecolor='white')\n",
    "bplot1_truck = ax1.boxplot([sample_group_w1, sample_group_w2, sample_group_w3, sample_group_w4, sample_group_w5], \n",
    "                     labels=['low w',\n",
    "                             'low-avg w',\n",
    "                             'avg w',\n",
    "                             'high-avg w',\n",
    "                             'high w'])\n",
    "\n",
    "#график доверительных интервалов\n",
    "bplot2_truck = ax2.errorbar(x=weight_df.index, y=weight_df['mean'],\\\n",
    "                            yerr=weight_df['interval'],\\\n",
    "                            color=\"black\", capsize=3,\\\n",
    "                            markersize=4, mfc=\"red\", mec=\"black\", fmt ='o')\n",
    "\n",
    "for ax in [ax1, ax2]:\n",
    "    ax.yaxis.grid(True)\n",
    "    ax1.set_title('Boxplot - Расход топлива в зависимости от веса')\n",
    "    ax2.set_title('Доверительный интервал - Расход топлива в зависимости от веса')\n",
    "    ax.set_xlabel('Сравнение 5ти выборок')\n",
    "    ax.set_ylabel('Расход топлива, л')\n",
    "\n",
    "plt.show()"
   ]
  },
  {
   "cell_type": "markdown",
   "id": "9cdbb5d1-cc80-44cd-ba57-170a34764595",
   "metadata": {},
   "source": [
    "в целом средние примерно равны, только во второй группе среднее уж очень выбивается, расход топлива при загрузке ниже среднего почему-то выше, чем, например при средней загрузке."
   ]
  },
  {
   "cell_type": "code",
   "execution_count": 201,
   "id": "13b70489-1d1d-4655-a5d3-8445fa49719d",
   "metadata": {
    "tags": []
   },
   "outputs": [
    {
     "data": {
      "text/html": [
       "<div>\n",
       "<style scoped>\n",
       "    .dataframe tbody tr th:only-of-type {\n",
       "        vertical-align: middle;\n",
       "    }\n",
       "\n",
       "    .dataframe tbody tr th {\n",
       "        vertical-align: top;\n",
       "    }\n",
       "\n",
       "    .dataframe thead th {\n",
       "        text-align: right;\n",
       "    }\n",
       "</style>\n",
       "<table border=\"1\" class=\"dataframe\">\n",
       "  <thead>\n",
       "    <tr style=\"text-align: right;\">\n",
       "      <th></th>\n",
       "      <th>Расход топлива, л</th>\n",
       "      <th>Avg-Вес по СКЗ, т</th>\n",
       "      <th>Avg-Средняя скорость, км/ч</th>\n",
       "      <th>оценка скорости</th>\n",
       "      <th>оценка весов</th>\n",
       "    </tr>\n",
       "  </thead>\n",
       "  <tbody>\n",
       "    <tr>\n",
       "      <th>52</th>\n",
       "      <td>1694.0</td>\n",
       "      <td>218.818182</td>\n",
       "      <td>18.558182</td>\n",
       "      <td>скорость ниже среднего</td>\n",
       "      <td>вес ниже среднего</td>\n",
       "    </tr>\n",
       "    <tr>\n",
       "      <th>54</th>\n",
       "      <td>2297.0</td>\n",
       "      <td>218.000000</td>\n",
       "      <td>18.715294</td>\n",
       "      <td>скорость ниже среднего</td>\n",
       "      <td>вес ниже среднего</td>\n",
       "    </tr>\n",
       "    <tr>\n",
       "      <th>56</th>\n",
       "      <td>1089.0</td>\n",
       "      <td>218.250000</td>\n",
       "      <td>18.333333</td>\n",
       "      <td>скорость ниже среднего</td>\n",
       "      <td>вес ниже среднего</td>\n",
       "    </tr>\n",
       "    <tr>\n",
       "      <th>130</th>\n",
       "      <td>1587.0</td>\n",
       "      <td>216.523810</td>\n",
       "      <td>18.672857</td>\n",
       "      <td>скорость ниже среднего</td>\n",
       "      <td>вес ниже среднего</td>\n",
       "    </tr>\n",
       "    <tr>\n",
       "      <th>195</th>\n",
       "      <td>723.0</td>\n",
       "      <td>219.875000</td>\n",
       "      <td>18.548750</td>\n",
       "      <td>скорость ниже среднего</td>\n",
       "      <td>вес ниже среднего</td>\n",
       "    </tr>\n",
       "    <tr>\n",
       "      <th>...</th>\n",
       "      <td>...</td>\n",
       "      <td>...</td>\n",
       "      <td>...</td>\n",
       "      <td>...</td>\n",
       "      <td>...</td>\n",
       "    </tr>\n",
       "    <tr>\n",
       "      <th>18501</th>\n",
       "      <td>1228.0</td>\n",
       "      <td>219.750000</td>\n",
       "      <td>18.879375</td>\n",
       "      <td>скорость ниже среднего</td>\n",
       "      <td>вес ниже среднего</td>\n",
       "    </tr>\n",
       "    <tr>\n",
       "      <th>18644</th>\n",
       "      <td>1369.0</td>\n",
       "      <td>217.642857</td>\n",
       "      <td>18.840000</td>\n",
       "      <td>скорость ниже среднего</td>\n",
       "      <td>вес ниже среднего</td>\n",
       "    </tr>\n",
       "    <tr>\n",
       "      <th>18754</th>\n",
       "      <td>1539.0</td>\n",
       "      <td>218.466667</td>\n",
       "      <td>18.368000</td>\n",
       "      <td>скорость ниже среднего</td>\n",
       "      <td>вес ниже среднего</td>\n",
       "    </tr>\n",
       "    <tr>\n",
       "      <th>18860</th>\n",
       "      <td>2040.0</td>\n",
       "      <td>217.266667</td>\n",
       "      <td>18.482667</td>\n",
       "      <td>скорость ниже среднего</td>\n",
       "      <td>вес ниже среднего</td>\n",
       "    </tr>\n",
       "    <tr>\n",
       "      <th>18956</th>\n",
       "      <td>1683.0</td>\n",
       "      <td>216.625000</td>\n",
       "      <td>18.888125</td>\n",
       "      <td>скорость ниже среднего</td>\n",
       "      <td>вес ниже среднего</td>\n",
       "    </tr>\n",
       "  </tbody>\n",
       "</table>\n",
       "<p>206 rows × 5 columns</p>\n",
       "</div>"
      ],
      "text/plain": [
       "       Расход топлива, л  Avg-Вес по СКЗ, т  Avg-Средняя скорость, км/ч   \n",
       "52                1694.0         218.818182                   18.558182  \\\n",
       "54                2297.0         218.000000                   18.715294   \n",
       "56                1089.0         218.250000                   18.333333   \n",
       "130               1587.0         216.523810                   18.672857   \n",
       "195                723.0         219.875000                   18.548750   \n",
       "...                  ...                ...                         ...   \n",
       "18501             1228.0         219.750000                   18.879375   \n",
       "18644             1369.0         217.642857                   18.840000   \n",
       "18754             1539.0         218.466667                   18.368000   \n",
       "18860             2040.0         217.266667                   18.482667   \n",
       "18956             1683.0         216.625000                   18.888125   \n",
       "\n",
       "              оценка скорости       оценка весов  \n",
       "52     скорость ниже среднего  вес ниже среднего  \n",
       "54     скорость ниже среднего  вес ниже среднего  \n",
       "56     скорость ниже среднего  вес ниже среднего  \n",
       "130    скорость ниже среднего  вес ниже среднего  \n",
       "195    скорость ниже среднего  вес ниже среднего  \n",
       "...                       ...                ...  \n",
       "18501  скорость ниже среднего  вес ниже среднего  \n",
       "18644  скорость ниже среднего  вес ниже среднего  \n",
       "18754  скорость ниже среднего  вес ниже среднего  \n",
       "18860  скорость ниже среднего  вес ниже среднего  \n",
       "18956  скорость ниже среднего  вес ниже среднего  \n",
       "\n",
       "[206 rows x 5 columns]"
      ]
     },
     "execution_count": 201,
     "metadata": {},
     "output_type": "execute_result"
    }
   ],
   "source": [
    "low_sp = df_new[df_new['оценка скорости']=='скорость ниже среднего']\n",
    "low_sp = low_sp[low_sp['оценка весов']=='вес ниже среднего']\n",
    "low_sp"
   ]
  },
  {
   "cell_type": "markdown",
   "id": "557cf0f1-992d-4998-b4bf-ef6854361ca1",
   "metadata": {},
   "source": [
    "дальше зафигачить анализ:\n",
    "одинаковая скорость - разный вес\n",
    "одинаковый вес - разная скорость"
   ]
  },
  {
   "cell_type": "code",
   "execution_count": null,
   "id": "92ac7570-2309-465d-bb53-9e10440bc698",
   "metadata": {},
   "outputs": [],
   "source": []
  },
  {
   "cell_type": "code",
   "execution_count": 198,
   "id": "2785fabb-ad32-41b3-915c-0b6ff960ed57",
   "metadata": {
    "tags": []
   },
   "outputs": [
    {
     "ename": "ValueError",
     "evalue": "The truth value of a Series is ambiguous. Use a.empty, a.bool(), a.item(), a.any() or a.all().",
     "output_type": "error",
     "traceback": [
      "\u001b[0;31m---------------------------------------------------------------------------\u001b[0m",
      "\u001b[0;31mValueError\u001b[0m                                Traceback (most recent call last)",
      "Input \u001b[0;32mIn [198]\u001b[0m, in \u001b[0;36m<cell line: 1>\u001b[0;34m()\u001b[0m\n\u001b[0;32m----> 1\u001b[0m group1_sw \u001b[38;5;241m=\u001b[39m df_new[[df_new[\u001b[38;5;124m'\u001b[39m\u001b[38;5;124mоценка скорости\u001b[39m\u001b[38;5;124m'\u001b[39m]\u001b[38;5;241m==\u001b[39m\u001b[38;5;124m'\u001b[39m\u001b[38;5;124mскорость ниже среднего\u001b[39m\u001b[38;5;124m'\u001b[39m \u001b[38;5;129;01mand\u001b[39;00m\n\u001b[1;32m      2\u001b[0m             df_new[\u001b[38;5;124m'\u001b[39m\u001b[38;5;124mоценка весов\u001b[39m\u001b[38;5;124m'\u001b[39m]\u001b[38;5;241m==\u001b[39m\u001b[38;5;124m'\u001b[39m\u001b[38;5;124mвес ниже среднего\u001b[39m\u001b[38;5;124m'\u001b[39m]]\n",
      "File \u001b[0;32m~/.local/lib/python3.8/site-packages/pandas/core/generic.py:1466\u001b[0m, in \u001b[0;36mNDFrame.__nonzero__\u001b[0;34m(self)\u001b[0m\n\u001b[1;32m   1464\u001b[0m \u001b[38;5;129m@final\u001b[39m\n\u001b[1;32m   1465\u001b[0m \u001b[38;5;28;01mdef\u001b[39;00m \u001b[38;5;21m__nonzero__\u001b[39m(\u001b[38;5;28mself\u001b[39m) \u001b[38;5;241m-\u001b[39m\u001b[38;5;241m>\u001b[39m NoReturn:\n\u001b[0;32m-> 1466\u001b[0m     \u001b[38;5;28;01mraise\u001b[39;00m \u001b[38;5;167;01mValueError\u001b[39;00m(\n\u001b[1;32m   1467\u001b[0m         \u001b[38;5;124mf\u001b[39m\u001b[38;5;124m\"\u001b[39m\u001b[38;5;124mThe truth value of a \u001b[39m\u001b[38;5;132;01m{\u001b[39;00m\u001b[38;5;28mtype\u001b[39m(\u001b[38;5;28mself\u001b[39m)\u001b[38;5;241m.\u001b[39m\u001b[38;5;18m__name__\u001b[39m\u001b[38;5;132;01m}\u001b[39;00m\u001b[38;5;124m is ambiguous. \u001b[39m\u001b[38;5;124m\"\u001b[39m\n\u001b[1;32m   1468\u001b[0m         \u001b[38;5;124m\"\u001b[39m\u001b[38;5;124mUse a.empty, a.bool(), a.item(), a.any() or a.all().\u001b[39m\u001b[38;5;124m\"\u001b[39m\n\u001b[1;32m   1469\u001b[0m     )\n",
      "\u001b[0;31mValueError\u001b[0m: The truth value of a Series is ambiguous. Use a.empty, a.bool(), a.item(), a.any() or a.all()."
     ]
    }
   ],
   "source": [
    "\n",
    "\n",
    "group1_sw = df_new[[df_new['оценка скорости']=='скорость ниже среднего' and\n",
    "            df_new['оценка весов']=='вес ниже среднего']]"
   ]
  },
  {
   "cell_type": "code",
   "execution_count": 158,
   "id": "cd465819-03e3-457f-9372-2797f596aeca",
   "metadata": {
    "tags": []
   },
   "outputs": [
    {
     "ename": "ValueError",
     "evalue": "The truth value of a Series is ambiguous. Use a.empty, a.bool(), a.item(), a.any() or a.all().",
     "output_type": "error",
     "traceback": [
      "\u001b[0;31m---------------------------------------------------------------------------\u001b[0m",
      "\u001b[0;31mValueError\u001b[0m                                Traceback (most recent call last)",
      "Input \u001b[0;32mIn [158]\u001b[0m, in \u001b[0;36m<cell line: 1>\u001b[0;34m()\u001b[0m\n\u001b[0;32m----> 1\u001b[0m group1_sw \u001b[38;5;241m=\u001b[39m rand_sample(df_new[[df_new[\u001b[38;5;124m'\u001b[39m\u001b[38;5;124mоценка скорости\u001b[39m\u001b[38;5;124m'\u001b[39m]\u001b[38;5;241m==\u001b[39m\u001b[38;5;124m'\u001b[39m\u001b[38;5;124mскорость ниже среднего\u001b[39m\u001b[38;5;124m'\u001b[39m \u001b[38;5;129;01mand\u001b[39;00m\n\u001b[1;32m      2\u001b[0m                                df_new[\u001b[38;5;124m'\u001b[39m\u001b[38;5;124mоценка весов\u001b[39m\u001b[38;5;124m'\u001b[39m]\u001b[38;5;241m==\u001b[39m\u001b[38;5;124m'\u001b[39m\u001b[38;5;124mвес ниже среднего\u001b[39m\u001b[38;5;124m'\u001b[39m]], \u001b[38;5;241m10\u001b[39m)\n\u001b[1;32m      3\u001b[0m group2_sw \u001b[38;5;241m=\u001b[39m rand_sample(df_new[df_new[[\u001b[38;5;124m'\u001b[39m\u001b[38;5;124mоценка скорости\u001b[39m\u001b[38;5;124m'\u001b[39m]\u001b[38;5;241m==\u001b[39m\u001b[38;5;124m'\u001b[39m\u001b[38;5;124mсредняя скорость\u001b[39m\u001b[38;5;124m'\u001b[39m \u001b[38;5;129;01mand\u001b[39;00m\n\u001b[1;32m      4\u001b[0m                                df_new[\u001b[38;5;124m'\u001b[39m\u001b[38;5;124mоценка весов\u001b[39m\u001b[38;5;124m'\u001b[39m]\u001b[38;5;241m==\u001b[39m\u001b[38;5;124m'\u001b[39m\u001b[38;5;124mвес ниже среднего\u001b[39m\u001b[38;5;124m'\u001b[39m]], \u001b[38;5;241m10\u001b[39m)\n\u001b[1;32m      5\u001b[0m group3_sw \u001b[38;5;241m=\u001b[39m rand_sample(df_new[[df_new[\u001b[38;5;124m'\u001b[39m\u001b[38;5;124mоценка скорости\u001b[39m\u001b[38;5;124m'\u001b[39m]\u001b[38;5;241m==\u001b[39m\u001b[38;5;124m'\u001b[39m\u001b[38;5;124mскорость выше среднего\u001b[39m\u001b[38;5;124m'\u001b[39m \u001b[38;5;129;01mand\u001b[39;00m\n\u001b[1;32m      6\u001b[0m                                df_new[\u001b[38;5;124m'\u001b[39m\u001b[38;5;124mоценка весов\u001b[39m\u001b[38;5;124m'\u001b[39m]\u001b[38;5;241m==\u001b[39m\u001b[38;5;124m'\u001b[39m\u001b[38;5;124mвес ниже среднего\u001b[39m\u001b[38;5;124m'\u001b[39m]], \u001b[38;5;241m10\u001b[39m)\n",
      "File \u001b[0;32m~/.local/lib/python3.8/site-packages/pandas/core/generic.py:1466\u001b[0m, in \u001b[0;36mNDFrame.__nonzero__\u001b[0;34m(self)\u001b[0m\n\u001b[1;32m   1464\u001b[0m \u001b[38;5;129m@final\u001b[39m\n\u001b[1;32m   1465\u001b[0m \u001b[38;5;28;01mdef\u001b[39;00m \u001b[38;5;21m__nonzero__\u001b[39m(\u001b[38;5;28mself\u001b[39m) \u001b[38;5;241m-\u001b[39m\u001b[38;5;241m>\u001b[39m NoReturn:\n\u001b[0;32m-> 1466\u001b[0m     \u001b[38;5;28;01mraise\u001b[39;00m \u001b[38;5;167;01mValueError\u001b[39;00m(\n\u001b[1;32m   1467\u001b[0m         \u001b[38;5;124mf\u001b[39m\u001b[38;5;124m\"\u001b[39m\u001b[38;5;124mThe truth value of a \u001b[39m\u001b[38;5;132;01m{\u001b[39;00m\u001b[38;5;28mtype\u001b[39m(\u001b[38;5;28mself\u001b[39m)\u001b[38;5;241m.\u001b[39m\u001b[38;5;18m__name__\u001b[39m\u001b[38;5;132;01m}\u001b[39;00m\u001b[38;5;124m is ambiguous. \u001b[39m\u001b[38;5;124m\"\u001b[39m\n\u001b[1;32m   1468\u001b[0m         \u001b[38;5;124m\"\u001b[39m\u001b[38;5;124mUse a.empty, a.bool(), a.item(), a.any() or a.all().\u001b[39m\u001b[38;5;124m\"\u001b[39m\n\u001b[1;32m   1469\u001b[0m     )\n",
      "\u001b[0;31mValueError\u001b[0m: The truth value of a Series is ambiguous. Use a.empty, a.bool(), a.item(), a.any() or a.all()."
     ]
    }
   ],
   "source": [
    "\n",
    "group1_sw = rand_sample(df_new[[df_new['оценка скорости']=='скорость ниже среднего' and\n",
    "                               df_new['оценка весов']=='вес ниже среднего']], 10)\n",
    "group2_sw = rand_sample(df_new[df_new[['оценка скорости']=='средняя скорость' and\n",
    "                               df_new['оценка весов']=='вес ниже среднего']], 10)\n",
    "group3_sw = rand_sample(df_new[[df_new['оценка скорости']=='скорость выше среднего' and\n",
    "                               df_new['оценка весов']=='вес ниже среднего']], 10)\n",
    "\n",
    "sample_group1_sw = pd.Series(group1_sw['Расход топлива, л'])\n",
    "sample_group2_sw = pd.Series(group2_sw['Расход топлива, л'])\n",
    "sample_group3_sw = pd.Series(group3_sw['Расход топлива, л'])\n",
    "f_oneway(sample_group1_sw, sample_group2_sw, sample_group3_sw)"
   ]
  },
  {
   "cell_type": "code",
   "execution_count": null,
   "id": "4e834c33-ffff-4d5f-8b23-f6dde767924b",
   "metadata": {},
   "outputs": [],
   "source": []
  },
  {
   "cell_type": "code",
   "execution_count": null,
   "id": "04963ae8-1ae9-40d8-81d0-0e477c19c76b",
   "metadata": {},
   "outputs": [],
   "source": []
  },
  {
   "cell_type": "code",
   "execution_count": null,
   "id": "15c35a34-635d-4684-9e1e-370dab2543db",
   "metadata": {},
   "outputs": [],
   "source": []
  },
  {
   "cell_type": "code",
   "execution_count": 141,
   "id": "652bb938-a043-4641-b6ee-2aaabb40de29",
   "metadata": {
    "tags": []
   },
   "outputs": [
    {
     "data": {
      "text/html": [
       "<div>\n",
       "<style scoped>\n",
       "    .dataframe tbody tr th:only-of-type {\n",
       "        vertical-align: middle;\n",
       "    }\n",
       "\n",
       "    .dataframe tbody tr th {\n",
       "        vertical-align: top;\n",
       "    }\n",
       "\n",
       "    .dataframe thead th {\n",
       "        text-align: right;\n",
       "    }\n",
       "</style>\n",
       "<table border=\"1\" class=\"dataframe\">\n",
       "  <thead>\n",
       "    <tr style=\"text-align: right;\">\n",
       "      <th></th>\n",
       "      <th>Расход топлива, л</th>\n",
       "      <th>Avg-Вес по СКЗ, т</th>\n",
       "      <th>Avg-Средняя скорость, км/ч</th>\n",
       "      <th>оценка скорости</th>\n",
       "      <th>оценка весов</th>\n",
       "    </tr>\n",
       "  </thead>\n",
       "  <tbody>\n",
       "    <tr>\n",
       "      <th>8923</th>\n",
       "      <td>1189.0</td>\n",
       "      <td>229.800000</td>\n",
       "      <td>19.019000</td>\n",
       "      <td>средняя скорость</td>\n",
       "      <td>большой вес</td>\n",
       "    </tr>\n",
       "    <tr>\n",
       "      <th>10001</th>\n",
       "      <td>1552.0</td>\n",
       "      <td>235.411765</td>\n",
       "      <td>19.595294</td>\n",
       "      <td>высокая скорость</td>\n",
       "      <td>большой вес</td>\n",
       "    </tr>\n",
       "    <tr>\n",
       "      <th>13708</th>\n",
       "      <td>1394.0</td>\n",
       "      <td>229.272727</td>\n",
       "      <td>21.837727</td>\n",
       "      <td>высокая скорость</td>\n",
       "      <td>большой вес</td>\n",
       "    </tr>\n",
       "    <tr>\n",
       "      <th>4528</th>\n",
       "      <td>1320.0</td>\n",
       "      <td>230.684211</td>\n",
       "      <td>19.127368</td>\n",
       "      <td>средняя скорость</td>\n",
       "      <td>большой вес</td>\n",
       "    </tr>\n",
       "    <tr>\n",
       "      <th>7627</th>\n",
       "      <td>1728.0</td>\n",
       "      <td>228.954545</td>\n",
       "      <td>18.624091</td>\n",
       "      <td>средняя скорость</td>\n",
       "      <td>большой вес</td>\n",
       "    </tr>\n",
       "  </tbody>\n",
       "</table>\n",
       "</div>"
      ],
      "text/plain": [
       "       Расход топлива, л  Avg-Вес по СКЗ, т  Avg-Средняя скорость, км/ч   \n",
       "8923              1189.0         229.800000                   19.019000  \\\n",
       "10001             1552.0         235.411765                   19.595294   \n",
       "13708             1394.0         229.272727                   21.837727   \n",
       "4528              1320.0         230.684211                   19.127368   \n",
       "7627              1728.0         228.954545                   18.624091   \n",
       "\n",
       "        оценка скорости оценка весов  \n",
       "8923   средняя скорость  большой вес  \n",
       "10001  высокая скорость  большой вес  \n",
       "13708  высокая скорость  большой вес  \n",
       "4528   средняя скорость  большой вес  \n",
       "7627   средняя скорость  большой вес  "
      ]
     },
     "execution_count": 141,
     "metadata": {},
     "output_type": "execute_result"
    }
   ],
   "source": [
    "group_w5.head()"
   ]
  },
  {
   "cell_type": "markdown",
   "id": "31524dae-21aa-4a8a-9cd8-bc35e78ea0d7",
   "metadata": {},
   "source": [
    "! и снова, p-значение не меньше 0,05, мы не можем отвергнуть нулевую теорию :(\n",
    "это значит, что у нас нет достаточных доказательств, что вес явно влияет на расход топлива."
   ]
  },
  {
   "cell_type": "code",
   "execution_count": 111,
   "id": "25d36095-bedb-4e81-b4d7-ea793bd648e1",
   "metadata": {
    "tags": []
   },
   "outputs": [
    {
     "data": {
      "text/plain": [
       "F_onewayResult(statistic=2.208506901936651, pvalue=0.14266730391173515)"
      ]
     },
     "execution_count": 111,
     "metadata": {},
     "output_type": "execute_result"
    }
   ],
   "source": [
    "f_oneway(sample_group_w2, sample_group_w4)"
   ]
  },
  {
   "cell_type": "code",
   "execution_count": null,
   "id": "22076f81-1465-4e00-a1ff-c17b364a1c52",
   "metadata": {},
   "outputs": [],
   "source": []
  },
  {
   "cell_type": "code",
   "execution_count": null,
   "id": "b87ec5d4-7ee0-4dea-947a-2b5062b37ef9",
   "metadata": {},
   "outputs": [],
   "source": []
  },
  {
   "cell_type": "markdown",
   "id": "24c50fe1-ffdd-42a9-9c06-20f32da83e00",
   "metadata": {},
   "source": [
    "как стандартизировать значения:"
   ]
  },
  {
   "cell_type": "code",
   "execution_count": null,
   "id": "711e3f28-c336-4951-99c0-a1c088cb022b",
   "metadata": {
    "tags": []
   },
   "outputs": [],
   "source": [
    "import sklearn\n",
    "from sklearn import preprocessing\n",
    "avg_weight\n",
    "\n",
    "min_max_scaler = preprocessing.MinMaxScaler(feature_range=(-1,1))\n",
    "\n",
    "np_scaled = min_max_scaler.fit_transform(np.array(avg_weight - avg_weight.mean()).reshape(-1, 1))\n",
    "print(min(np_scaled))\n",
    "print(max(np_scaled))"
   ]
  },
  {
   "cell_type": "code",
   "execution_count": null,
   "id": "6e1bf006-6c9f-4fe5-833a-4026eee2f11c",
   "metadata": {
    "tags": []
   },
   "outputs": [],
   "source": []
  },
  {
   "cell_type": "code",
   "execution_count": null,
   "id": "ea63e543-249d-4a62-81c0-8bcf925625f1",
   "metadata": {},
   "outputs": [],
   "source": []
  },
  {
   "cell_type": "markdown",
   "id": "c2ca4a4d-1c1e-4a0f-a781-889242450e95",
   "metadata": {},
   "source": [
    "построение доверительных интервалов\n",
    "среднее плюс/минус 1.96 * (стандартное отклонение / корень из кол-ва наблюдений)"
   ]
  },
  {
   "cell_type": "code",
   "execution_count": null,
   "id": "75836dc4-17fb-4c25-94f6-4d9f367d1ba0",
   "metadata": {
    "tags": []
   },
   "outputs": [],
   "source": [
    "from math import sqrt\n",
    "sample_weight = avg_weight.sample(n=30)\n",
    "std = np.std(sample_weight)\n",
    "mean_w = sample_weight.mean()\n",
    "se = std / sqrt(30)\n",
    "print(se)\n",
    "\n",
    "left_int = mean_w - 1.96 * se\n",
    "rigth_int = mean_w + 1.96 * se\n",
    "print(left_int, mean_w, rigth_int)"
   ]
  },
  {
   "cell_type": "markdown",
   "id": "9d678fe6-5b58-4d2f-8b5c-6f17216747e5",
   "metadata": {},
   "source": [
    "Гипотезы:\n",
    "\n",
    "1. о существовании связи между расходом топлива и средней скоростью\n",
    "2. о существовании связи между расходом топлива и пройденным расстоянием\n",
    "3. о том что расход топлива в зависимости от смены не отличается\n",
    "4. о том что расход топлива в зависимости от самосвала не отличается\n",
    "5. о том что расход топлива в зависимости от месяца может отличаться"
   ]
  },
  {
   "cell_type": "markdown",
   "id": "f128d9a4-e1eb-4f9d-8fe1-f3bc13b12c47",
   "metadata": {},
   "source": [
    "Для проверки гипотезы о среднем значении выборки на основе данной информации можно использовать t-тест Стьюдента. Попытаемся определить, насколько вероятно, что наши результаты отражают реальные различия в исследуемой генеральной совокупности, а не просто случайность или шум в данных.\n",
    "Нулевая гипотеза - две выборки имеют одинаковые средние значения\n",
    "\n",
    "Когда мы применяем t-тест, мы сравниваем две выборки, сравнивая их средние значения и стандартные отклонения. Тест вычисляет t-статистику, которая показывает, насколько различны средние значения выборок относительно их стандартных отклонений. Значение t-статистики сравнивается с табличным значением, определенным на основе уровня доверия и степеней свободы. Если t-статистика превышает табличное значение, то мы можем отвергнуть нулевую гипотезу и сделать вывод, что между выборками существует статистически значимое различие. Если значение t-статистики меньше табличного, то мы не можем отвергнуть нулевую гипотезу, и мы не можем сказать, что различия статистически значимы.\n",
    "\n",
    "P-значение означает, насколько вероятно, что различия, которые мы наблюдаем в выборках, могут быть случайными. Если p-значение меньше уровня значимости, то мы можем считать, что различия статистически значимы. Если же p-значение больше уровня значимости, то мы не можем отвергнуть нулевую гипотезу, и мы не можем считать, что различия статистически значимы.\n",
    "\n",
    "уровень значимости = 5%\n",
    "уровень доверия = 95%"
   ]
  },
  {
   "cell_type": "code",
   "execution_count": null,
   "id": "a6b3dfa8-f3dd-424c-9c68-ba3c78378cab",
   "metadata": {
    "tags": []
   },
   "outputs": [],
   "source": [
    "def rand_sample(data, size):\n",
    "    return data.sample(n=size)"
   ]
  },
  {
   "cell_type": "code",
   "execution_count": null,
   "id": "255c6cfc-c630-4cb2-9375-4877b78bbead",
   "metadata": {
    "tags": []
   },
   "outputs": [],
   "source": [
    "import scipy.stats as st\n",
    "\n",
    "sample1_avg_weight = rand_sample(avg_weight, 30)\n",
    "sample2_avg_weight = rand_sample(avg_weight, 30)\n",
    "\n",
    "t_statistic, p_value = st.ttest_ind(sample1_avg_weight, sample2_avg_weight)\n",
    "\n",
    "print(\"t-статистика:\", t_statistic)\n",
    "print(\"p-значение:\", p_value)\n",
    "alpha = 0.05\n",
    "if (p_value < alpha):\n",
    "    print(\"Отвергаем нулевую гипотезу\")\n",
    "else:\n",
    "    print(\"Принимаем нулевую гипотезу\")"
   ]
  },
  {
   "cell_type": "code",
   "execution_count": null,
   "id": "2b7223a8-5501-41bc-b868-b507080ec689",
   "metadata": {
    "tags": []
   },
   "outputs": [],
   "source": []
  },
  {
   "cell_type": "code",
   "execution_count": null,
   "id": "ff02dcfc-2130-482e-bcc6-878bdb4bf6db",
   "metadata": {
    "tags": []
   },
   "outputs": [],
   "source": []
  },
  {
   "cell_type": "code",
   "execution_count": null,
   "id": "d75408a6-3dd2-4a6f-b87d-3d5326ed8e3a",
   "metadata": {
    "tags": []
   },
   "outputs": [],
   "source": [
    "plt.figure(facecolor='white')\n",
    "sns.boxplot(x=sample_avg_weight)\n",
    "plt.xlabel('Средний вес, тонн')\n",
    "plt.title('Boxplot среднего веса')\n",
    "plt.savefig('/home/anya-mankova/emco/images/avg_weight/aw_boxplot.png', dpi=50)\n",
    "plt.show()"
   ]
  },
  {
   "cell_type": "code",
   "execution_count": null,
   "id": "d9bc4c70-6428-4d5f-986d-9a0e5158219c",
   "metadata": {
    "tags": []
   },
   "outputs": [],
   "source": [
    "avg_height = df['Avg-Перепад высот'].dropna()\n",
    "print(f' Количество наблюдений {avg_height.count()}')\n",
    "# 17242 строк с данными\n",
    "plt.hist(avg_height, bins=20, edgecolor='black', color='#E6E6FA', facecolor='white')\n",
    "\n",
    "plt.xlabel('средний перепад высот за смену')\n",
    "plt.ylabel('количество наблюдений')\n",
    "plt.title('Гистограмма распределения среднего перепада высот')\n",
    "plt.axvline(avg_height.mean(), color='red', linestyle='dashed', linewidth=2, label='Среднее')\n",
    "plt.axvline(avg_height.median(), color='green', linestyle='dashed', linewidth=2, label='Медиана')\n",
    "plt.axvline(avg_height.mode().iloc[0], color='blue', linestyle='dashed', linewidth=2, label='Мода')\n",
    "plt.legend()\n",
    "\n",
    "plt.savefig('/home/anya-mankova/emco/images/avg_height/ah_hist.png', dpi=100)\n",
    "plt.show()"
   ]
  },
  {
   "cell_type": "code",
   "execution_count": null,
   "id": "0dff0b3a-f3ec-4da2-be8c-83bfc97b33ee",
   "metadata": {
    "tags": []
   },
   "outputs": [],
   "source": [
    "print(\"Дисперсия: \", np.var(avg_height))\n",
    "print(\"Стандартное отклонение: \", np.std(avg_height))\n",
    "print(\"Коэффициент вариации: \", avg_height.std() / avg_height.mean())\n",
    "print(\"Межквартильный размах: \", avg_height.quantile(0.75) - avg_height.quantile(0.25))\n",
    "print()\n",
    "\n",
    "#тест Лиллиефорса\n",
    "test_stat, p_value = lilliefors(avg_height, dist='norm')\n",
    "print(f'Тест Лиллиефорса: критерий = {round(test_stat, 3)}, p-val = {round(p_value, 3)}')"
   ]
  },
  {
   "cell_type": "code",
   "execution_count": null,
   "id": "718ebdd1-37a8-4344-b135-71ba16e0c8ef",
   "metadata": {
    "tags": []
   },
   "outputs": [],
   "source": [
    "stats.probplot(avg_height, dist=\"norm\", plot=plt)\n",
    "plt.savefig('/home/anya-mankova/emco/images/avg_height/ah_qqplot.png', dpi=50)\n",
    "plt.show()"
   ]
  },
  {
   "cell_type": "code",
   "execution_count": null,
   "id": "9412abbe-38ec-4887-94d9-930707ce7dfe",
   "metadata": {
    "tags": []
   },
   "outputs": [],
   "source": [
    "plt.figure(facecolor='white')\n",
    "sns.boxplot(x=avg_height)\n",
    "plt.xlabel('Средний перепад высот')\n",
    "plt.title('Boxplot среднего перепада высот')\n",
    "plt.savefig('/home/anya-mankova/emco/images/avg_height/ah_boxplot.png', dpi=50)\n",
    "plt.show()"
   ]
  },
  {
   "cell_type": "code",
   "execution_count": null,
   "id": "2665d79a-cae5-40f2-8471-e2a2856fc49e",
   "metadata": {
    "tags": []
   },
   "outputs": [],
   "source": [
    "dist = df['Sum-Расстояние, км'].dropna()\n",
    "print(f' Количество наблюдений {dist.count()}')\n",
    "# 18552 строки с данными\n",
    "plt.hist(dist, bins=20, edgecolor='black', color='#E6E6FA', facecolor='white')\n",
    "\n",
    "plt.xlabel('пройденное расстояние суммарно за смену, км')\n",
    "plt.ylabel('количество наблюдений')\n",
    "plt.title('Гистограмма распределения пройденного расстояния (суммарно) за смену')\n",
    "plt.axvline(dist.mean(), color='red', linestyle='dashed', linewidth=2, label='Среднее')\n",
    "plt.axvline(dist.median(), color='green', linestyle='dashed', linewidth=2, label='Медиана')\n",
    "plt.axvline(dist.mode().iloc[0], color='blue', linestyle='dashed', linewidth=2, label='Мода')\n",
    "plt.legend()\n",
    "\n",
    "plt.savefig('/home/anya-mankova/emco/images/dist/dist_hist.png', dpi=100)\n",
    "plt.show()"
   ]
  },
  {
   "cell_type": "code",
   "execution_count": null,
   "id": "8126b912-3a14-4b6c-92c4-a82140cd26fe",
   "metadata": {
    "tags": []
   },
   "outputs": [],
   "source": [
    "print(\"Дисперсия: \", np.var(dist))\n",
    "print(\"Стандартное отклонение: \", np.std(dist))\n",
    "print(\"Коэффициент вариации: \", dist.std() / dist.mean())\n",
    "print(\"Межквартильный размах: \", dist.quantile(0.75) - dist.quantile(0.25))\n",
    "print()\n",
    "\n",
    "#тест Лиллиефорса\n",
    "test_stat, p_value = lilliefors(dist, dist='norm')\n",
    "print(f'Тест Лиллиефорса: критерий = {round(test_stat, 3)}, p-val = {round(p_value, 3)}')"
   ]
  },
  {
   "cell_type": "code",
   "execution_count": null,
   "id": "02f216b4-542e-4a7c-a4cf-256d9e203862",
   "metadata": {
    "tags": []
   },
   "outputs": [],
   "source": [
    "stats.probplot(dist, dist=\"norm\", plot=plt)\n",
    "plt.savefig('/home/anya-mankova/emco/images/dist/dist_qqplot.png', dpi=50)\n",
    "plt.show()"
   ]
  },
  {
   "cell_type": "code",
   "execution_count": null,
   "id": "5b99d5fe-da38-476a-8a4c-d17bddd15a1c",
   "metadata": {
    "tags": []
   },
   "outputs": [],
   "source": []
  },
  {
   "cell_type": "code",
   "execution_count": null,
   "id": "da967635-83ed-4380-bb59-ccd6681948db",
   "metadata": {
    "tags": []
   },
   "outputs": [],
   "source": []
  },
  {
   "cell_type": "code",
   "execution_count": null,
   "id": "0fbde615-556b-430d-8656-191cc14382bd",
   "metadata": {
    "tags": []
   },
   "outputs": [],
   "source": []
  },
  {
   "cell_type": "code",
   "execution_count": null,
   "id": "c1a818da-8c0d-43ff-a798-52f530336d9b",
   "metadata": {
    "tags": []
   },
   "outputs": [],
   "source": []
  },
  {
   "cell_type": "code",
   "execution_count": null,
   "id": "569a0a7c-ea59-4e54-87d7-0b0df91c326a",
   "metadata": {},
   "outputs": [],
   "source": []
  },
  {
   "cell_type": "code",
   "execution_count": null,
   "id": "a3e225d2-8b7e-4f78-9d59-28ca0ee2f284",
   "metadata": {
    "tags": []
   },
   "outputs": [],
   "source": []
  },
  {
   "cell_type": "code",
   "execution_count": null,
   "id": "11bb3c0e-89b5-4411-ad45-e766efde4ea2",
   "metadata": {
    "tags": []
   },
   "outputs": [],
   "source": [
    "import sklearn\n",
    "from sklearn import preprocessing\n",
    "min_max_scaler = preprocessing.MinMaxScaler(feature_range=(-1,1))\n",
    "\n",
    "np_scaled = min_max_scaler.fit_transform(df[['Avg-Вес по СКЗ, т', 'Sum-Расстояние, км', 'Avg-Средняя скорость, км/ч', 'Avg-Перепад высот', 'StDev-Перепад высот', 'Расход топлива, л']].dropna())\n",
    "df_norm = pd.DataFrame(np_scaled)\n",
    "df_norm.head()"
   ]
  },
  {
   "cell_type": "code",
   "execution_count": null,
   "id": "e4074b89-2a7b-4402-9b6f-1e3b2f0a9dc1",
   "metadata": {},
   "outputs": [],
   "source": []
  }
 ],
 "metadata": {
  "kernelspec": {
   "display_name": "Python 3 (ipykernel)",
   "language": "python",
   "name": "python3"
  },
  "language_info": {
   "codemirror_mode": {
    "name": "ipython",
    "version": 3
   },
   "file_extension": ".py",
   "mimetype": "text/x-python",
   "name": "python",
   "nbconvert_exporter": "python",
   "pygments_lexer": "ipython3",
   "version": "3.8.10"
  }
 },
 "nbformat": 4,
 "nbformat_minor": 5
}
