{
 "cells": [
  {
   "cell_type": "code",
   "execution_count": 1,
   "id": "b92dfab7-1244-4c0a-8054-8e69b47a50a2",
   "metadata": {
    "tags": []
   },
   "outputs": [],
   "source": [
    "import pandas as pd\n",
    "import seaborn as sns\n",
    "import matplotlib.pyplot as plt\n",
    "import numpy as np\n",
    "from scipy import stats\n",
    "from statsmodels.graphics.gofplots import qqplot\n",
    "from statsmodels.stats.diagnostic import lilliefors\n",
    "\n",
    "sns.set()"
   ]
  },
  {
   "cell_type": "code",
   "execution_count": 2,
   "id": "dd959610-56e7-46b3-9096-89a3b5842a98",
   "metadata": {
    "tags": []
   },
   "outputs": [],
   "source": [
    "df = pd.read_excel('db.xlsx')"
   ]
  },
  {
   "cell_type": "code",
   "execution_count": 3,
   "id": "dc139ef6-13f6-4c66-83e9-15954588bc5a",
   "metadata": {
    "tags": []
   },
   "outputs": [
    {
     "data": {
      "text/html": [
       "<div>\n",
       "<style scoped>\n",
       "    .dataframe tbody tr th:only-of-type {\n",
       "        vertical-align: middle;\n",
       "    }\n",
       "\n",
       "    .dataframe tbody tr th {\n",
       "        vertical-align: top;\n",
       "    }\n",
       "\n",
       "    .dataframe thead th {\n",
       "        text-align: right;\n",
       "    }\n",
       "</style>\n",
       "<table border=\"1\" class=\"dataframe\">\n",
       "  <thead>\n",
       "    <tr style=\"text-align: right;\">\n",
       "      <th></th>\n",
       "      <th>Дата для смены</th>\n",
       "      <th>Месяц</th>\n",
       "      <th>Смена</th>\n",
       "      <th>Самосвал</th>\n",
       "      <th>Avg-Вес по СКЗ, т</th>\n",
       "      <th>Sum-Расстояние, км</th>\n",
       "      <th>Avg-Средняя скорость, км/ч</th>\n",
       "      <th>Avg-Перепад высот</th>\n",
       "      <th>StDev-Перепад высот</th>\n",
       "      <th>Расход топлива, л</th>\n",
       "    </tr>\n",
       "  </thead>\n",
       "  <tbody>\n",
       "    <tr>\n",
       "      <th>0</th>\n",
       "      <td>2022-10-01</td>\n",
       "      <td>10</td>\n",
       "      <td>1</td>\n",
       "      <td>1035</td>\n",
       "      <td>228.500000</td>\n",
       "      <td>25.99</td>\n",
       "      <td>17.731667</td>\n",
       "      <td>152.283333</td>\n",
       "      <td>66.851789</td>\n",
       "      <td>575.0</td>\n",
       "    </tr>\n",
       "    <tr>\n",
       "      <th>1</th>\n",
       "      <td>2022-10-01</td>\n",
       "      <td>10</td>\n",
       "      <td>1</td>\n",
       "      <td>1037</td>\n",
       "      <td>214.818182</td>\n",
       "      <td>80.42</td>\n",
       "      <td>17.938182</td>\n",
       "      <td>125.609091</td>\n",
       "      <td>48.356601</td>\n",
       "      <td>1795.0</td>\n",
       "    </tr>\n",
       "    <tr>\n",
       "      <th>2</th>\n",
       "      <td>2022-10-01</td>\n",
       "      <td>10</td>\n",
       "      <td>1</td>\n",
       "      <td>1039</td>\n",
       "      <td>221.533333</td>\n",
       "      <td>73.36</td>\n",
       "      <td>16.754000</td>\n",
       "      <td>179.664286</td>\n",
       "      <td>70.469738</td>\n",
       "      <td>1688.0</td>\n",
       "    </tr>\n",
       "    <tr>\n",
       "      <th>3</th>\n",
       "      <td>2022-10-01</td>\n",
       "      <td>10</td>\n",
       "      <td>1</td>\n",
       "      <td>1040</td>\n",
       "      <td>229.466667</td>\n",
       "      <td>94.95</td>\n",
       "      <td>16.555333</td>\n",
       "      <td>NaN</td>\n",
       "      <td>NaN</td>\n",
       "      <td>1865.0</td>\n",
       "    </tr>\n",
       "    <tr>\n",
       "      <th>4</th>\n",
       "      <td>2022-10-01</td>\n",
       "      <td>10</td>\n",
       "      <td>1</td>\n",
       "      <td>1042</td>\n",
       "      <td>NaN</td>\n",
       "      <td>60.46</td>\n",
       "      <td>NaN</td>\n",
       "      <td>77.514286</td>\n",
       "      <td>47.216396</td>\n",
       "      <td>1519.0</td>\n",
       "    </tr>\n",
       "  </tbody>\n",
       "</table>\n",
       "</div>"
      ],
      "text/plain": [
       "  Дата для смены  Месяц  Смена  Самосвал  Avg-Вес по СКЗ, т  \\\n",
       "0     2022-10-01     10      1      1035         228.500000   \n",
       "1     2022-10-01     10      1      1037         214.818182   \n",
       "2     2022-10-01     10      1      1039         221.533333   \n",
       "3     2022-10-01     10      1      1040         229.466667   \n",
       "4     2022-10-01     10      1      1042                NaN   \n",
       "\n",
       "   Sum-Расстояние, км  Avg-Средняя скорость, км/ч  Avg-Перепад высот  \\\n",
       "0               25.99                   17.731667         152.283333   \n",
       "1               80.42                   17.938182         125.609091   \n",
       "2               73.36                   16.754000         179.664286   \n",
       "3               94.95                   16.555333                NaN   \n",
       "4               60.46                         NaN          77.514286   \n",
       "\n",
       "   StDev-Перепад высот  Расход топлива, л  \n",
       "0            66.851789              575.0  \n",
       "1            48.356601             1795.0  \n",
       "2            70.469738             1688.0  \n",
       "3                  NaN             1865.0  \n",
       "4            47.216396             1519.0  "
      ]
     },
     "execution_count": 3,
     "metadata": {},
     "output_type": "execute_result"
    }
   ],
   "source": [
    "df.head()"
   ]
  },
  {
   "cell_type": "code",
   "execution_count": 4,
   "id": "3a90e279-d55d-495a-b9bf-31ad66e24c8b",
   "metadata": {},
   "outputs": [
    {
     "name": "stdout",
     "output_type": "stream",
     "text": [
      "1371.8600263784003 1.2716872003796674e-298\n",
      "Не нормальное распределение для alpha =  0.01\n"
     ]
    }
   ],
   "source": [
    "k2, p = stats.normaltest(df['Расход топлива, л'].dropna())\n",
    "alpha = 0.01\n",
    "print(f\"{k2} {p}\")\n",
    "\n",
    "if p < alpha:  # null hypothesis: x comes from a normal distribution\n",
    "    print(\"Не нормальное распределение для alpha = \", alpha)\n",
    "else:\n",
    "    print(\"Нормальное распределение для alpha = \", alpha)"
   ]
  },
  {
   "cell_type": "code",
   "execution_count": 5,
   "id": "422a46fe-d8ed-4f24-83e7-1d412946a5cb",
   "metadata": {},
   "outputs": [
    {
     "name": "stdout",
     "output_type": "stream",
     "text": [
      "pvalue:  0.0009999999999998899\n",
      "не экспоненциальное распределение\n"
     ]
    }
   ],
   "source": [
    "from statsmodels.stats.diagnostic import lilliefors\n",
    "# If the pvalue is lower than some threshold, e.g. 0.05, \n",
    "# then we can reject the Null hypothesis that the sample comes from a normal distribution.\n",
    "ksstat, pvalue = lilliefors(df['Расход топлива, л'].dropna(), dist='exp')\n",
    "print('pvalue: ', pvalue)\n",
    "alpha = 0.05\n",
    "if pvalue < alpha:\n",
    "    print('не экспоненциальное распределение')\n",
    "else:\n",
    "    print('экспоненциальное распределение для alpha = ', alpha)"
   ]
  },
  {
   "cell_type": "code",
   "execution_count": 6,
   "id": "53f975e6-000c-4d70-ad00-d5b02762d273",
   "metadata": {},
   "outputs": [
    {
     "name": "stdout",
     "output_type": "stream",
     "text": [
      "p-value  =  1.0\n",
      "является логнормальным для alpha = 0.01\n"
     ]
    },
    {
     "name": "stderr",
     "output_type": "stream",
     "text": [
      "/home/anya-mankova/.local/lib/python3.8/site-packages/scipy/stats/_morestats.py:1816: UserWarning: p-value may not be accurate for N > 5000.\n",
      "  warnings.warn(\"p-value may not be accurate for N > 5000.\")\n"
     ]
    }
   ],
   "source": [
    "# testing for lognormality\n",
    "# the data is lognormal if np.log(data) is normal\n",
    "alpha = 0.01\n",
    "_, pvalx = stats.shapiro(np.log(df['Расход топлива, л']))\n",
    "print(\"p-value  = \", pvalx)\n",
    "print(\"не является логнормальным для alpha = \" + str(alpha)\n",
    "      if pvalx<alpha  else \"является логнормальным для alpha = \" + str(alpha))"
   ]
  },
  {
   "cell_type": "code",
   "execution_count": 7,
   "id": "5d430631-40fa-4fcf-8ea7-3da5806cffdc",
   "metadata": {
    "tags": []
   },
   "outputs": [
    {
     "name": "stdout",
     "output_type": "stream",
     "text": [
      "Вычисленные параметры для гамма-распределения:\n",
      "alpha, loc, beta\n",
      "(0.07328084598249854, 499.99999999999994, 2.943346943532948)\n"
     ]
    }
   ],
   "source": [
    "dist = stats.gamma\n",
    "args = dist.fit(df['Расход топлива, л'].dropna())\n",
    "print('Вычисленные параметры для гамма-распределения:')\n",
    "print('alpha, loc, beta')\n",
    "print(args)"
   ]
  },
  {
   "cell_type": "code",
   "execution_count": 8,
   "id": "51e25011-96ec-40fd-a6c5-e7f7caa3ab6f",
   "metadata": {
    "tags": []
   },
   "outputs": [
    {
     "name": "stdout",
     "output_type": "stream",
     "text": [
      "не гамма-распределение для alpha= 0.01\n"
     ]
    }
   ],
   "source": [
    "k2, p = stats.kstest(df['Расход топлива, л'].dropna(), dist.cdf, args)\n",
    "alpha = 0.01\n",
    "if p<0.01:\n",
    "    print('не гамма-распределение для alpha=', alpha)\n",
    "else:\n",
    "    print('гамма-распределение для alpha=',alpha)"
   ]
  },
  {
   "cell_type": "code",
   "execution_count": 9,
   "id": "76c38a42-6367-48c3-a9b4-6a2ade0fc698",
   "metadata": {
    "tags": []
   },
   "outputs": [],
   "source": [
    "import sklearn"
   ]
  },
  {
   "cell_type": "code",
   "execution_count": 10,
   "id": "c7b59f79-6db5-4e8b-9fec-cf4e16738fb3",
   "metadata": {},
   "outputs": [
    {
     "name": "stdout",
     "output_type": "stream",
     "text": [
      "['Avg-Вес по СКЗ, т', 'Sum-Расстояние, км', 'Avg-Средняя скорость, км/ч', 'Avg-Перепад высот', 'StDev-Перепад высот', 'Расход топлива, л']\n"
     ]
    }
   ],
   "source": [
    "headers = ['Avg-Вес по СКЗ, т', 'Sum-Расстояние, км', 'Avg-Средняя скорость, км/ч', 'Avg-Перепад высот', 'StDev-Перепад высот', 'Расход топлива, л']\n",
    "print(headers)"
   ]
  },
  {
   "cell_type": "code",
   "execution_count": 11,
   "id": "7cd0ff3d-32aa-4d7d-a78f-7d0f271c626a",
   "metadata": {},
   "outputs": [
    {
     "data": {
      "text/html": [
       "<div>\n",
       "<style scoped>\n",
       "    .dataframe tbody tr th:only-of-type {\n",
       "        vertical-align: middle;\n",
       "    }\n",
       "\n",
       "    .dataframe tbody tr th {\n",
       "        vertical-align: top;\n",
       "    }\n",
       "\n",
       "    .dataframe thead th {\n",
       "        text-align: right;\n",
       "    }\n",
       "</style>\n",
       "<table border=\"1\" class=\"dataframe\">\n",
       "  <thead>\n",
       "    <tr style=\"text-align: right;\">\n",
       "      <th></th>\n",
       "      <th>0</th>\n",
       "      <th>1</th>\n",
       "      <th>2</th>\n",
       "      <th>3</th>\n",
       "      <th>4</th>\n",
       "      <th>5</th>\n",
       "    </tr>\n",
       "  </thead>\n",
       "  <tbody>\n",
       "    <tr>\n",
       "      <th>0</th>\n",
       "      <td>0.292760</td>\n",
       "      <td>-0.880328</td>\n",
       "      <td>-0.452551</td>\n",
       "      <td>0.348940</td>\n",
       "      <td>-0.585425</td>\n",
       "      <td>-0.924089</td>\n",
       "    </tr>\n",
       "    <tr>\n",
       "      <th>1</th>\n",
       "      <td>-0.166651</td>\n",
       "      <td>0.208925</td>\n",
       "      <td>-0.411138</td>\n",
       "      <td>0.170989</td>\n",
       "      <td>-0.700840</td>\n",
       "      <td>0.310729</td>\n",
       "    </tr>\n",
       "    <tr>\n",
       "      <th>2</th>\n",
       "      <td>0.058832</td>\n",
       "      <td>0.067641</td>\n",
       "      <td>-0.648603</td>\n",
       "      <td>0.531606</td>\n",
       "      <td>-0.562848</td>\n",
       "      <td>0.202429</td>\n",
       "    </tr>\n",
       "    <tr>\n",
       "      <th>3</th>\n",
       "      <td>0.134942</td>\n",
       "      <td>0.506304</td>\n",
       "      <td>-0.305295</td>\n",
       "      <td>0.947686</td>\n",
       "      <td>-0.971342</td>\n",
       "      <td>0.701417</td>\n",
       "    </tr>\n",
       "    <tr>\n",
       "      <th>4</th>\n",
       "      <td>0.095488</td>\n",
       "      <td>-0.235141</td>\n",
       "      <td>-0.160612</td>\n",
       "      <td>0.076905</td>\n",
       "      <td>-0.783998</td>\n",
       "      <td>-0.074899</td>\n",
       "    </tr>\n",
       "  </tbody>\n",
       "</table>\n",
       "</div>"
      ],
      "text/plain": [
       "          0         1         2         3         4         5\n",
       "0  0.292760 -0.880328 -0.452551  0.348940 -0.585425 -0.924089\n",
       "1 -0.166651  0.208925 -0.411138  0.170989 -0.700840  0.310729\n",
       "2  0.058832  0.067641 -0.648603  0.531606 -0.562848  0.202429\n",
       "3  0.134942  0.506304 -0.305295  0.947686 -0.971342  0.701417\n",
       "4  0.095488 -0.235141 -0.160612  0.076905 -0.783998 -0.074899"
      ]
     },
     "execution_count": 11,
     "metadata": {},
     "output_type": "execute_result"
    }
   ],
   "source": [
    "from sklearn import preprocessing\n",
    "min_max_scaler = preprocessing.MinMaxScaler(feature_range=(-1,1))\n",
    "\n",
    "np_scaled = min_max_scaler.fit_transform(df[['Avg-Вес по СКЗ, т', 'Sum-Расстояние, км', 'Avg-Средняя скорость, км/ч', 'Avg-Перепад высот', 'StDev-Перепад высот', 'Расход топлива, л']].dropna())\n",
    "df_norm = pd.DataFrame(np_scaled)\n",
    "df_norm.head()"
   ]
  },
  {
   "cell_type": "code",
   "execution_count": 12,
   "id": "9d8d80c0-3acf-40b3-b798-103b41d349d4",
   "metadata": {
    "tags": []
   },
   "outputs": [
    {
     "data": {
      "text/html": [
       "<div>\n",
       "<style scoped>\n",
       "    .dataframe tbody tr th:only-of-type {\n",
       "        vertical-align: middle;\n",
       "    }\n",
       "\n",
       "    .dataframe tbody tr th {\n",
       "        vertical-align: top;\n",
       "    }\n",
       "\n",
       "    .dataframe thead th {\n",
       "        text-align: right;\n",
       "    }\n",
       "</style>\n",
       "<table border=\"1\" class=\"dataframe\">\n",
       "  <thead>\n",
       "    <tr style=\"text-align: right;\">\n",
       "      <th></th>\n",
       "      <th>Avg-Вес по СКЗ, т</th>\n",
       "      <th>Sum-Расстояние, км</th>\n",
       "      <th>Avg-Средняя скорость, км/ч</th>\n",
       "      <th>Avg-Перепад высот</th>\n",
       "      <th>StDev-Перепад высот</th>\n",
       "      <th>Расход топлива, л</th>\n",
       "    </tr>\n",
       "  </thead>\n",
       "  <tbody>\n",
       "    <tr>\n",
       "      <th>0</th>\n",
       "      <td>0.292760</td>\n",
       "      <td>-0.880328</td>\n",
       "      <td>-0.452551</td>\n",
       "      <td>0.348940</td>\n",
       "      <td>-0.585425</td>\n",
       "      <td>-0.924089</td>\n",
       "    </tr>\n",
       "    <tr>\n",
       "      <th>1</th>\n",
       "      <td>-0.166651</td>\n",
       "      <td>0.208925</td>\n",
       "      <td>-0.411138</td>\n",
       "      <td>0.170989</td>\n",
       "      <td>-0.700840</td>\n",
       "      <td>0.310729</td>\n",
       "    </tr>\n",
       "    <tr>\n",
       "      <th>2</th>\n",
       "      <td>0.058832</td>\n",
       "      <td>0.067641</td>\n",
       "      <td>-0.648603</td>\n",
       "      <td>0.531606</td>\n",
       "      <td>-0.562848</td>\n",
       "      <td>0.202429</td>\n",
       "    </tr>\n",
       "    <tr>\n",
       "      <th>3</th>\n",
       "      <td>0.134942</td>\n",
       "      <td>0.506304</td>\n",
       "      <td>-0.305295</td>\n",
       "      <td>0.947686</td>\n",
       "      <td>-0.971342</td>\n",
       "      <td>0.701417</td>\n",
       "    </tr>\n",
       "    <tr>\n",
       "      <th>4</th>\n",
       "      <td>0.095488</td>\n",
       "      <td>-0.235141</td>\n",
       "      <td>-0.160612</td>\n",
       "      <td>0.076905</td>\n",
       "      <td>-0.783998</td>\n",
       "      <td>-0.074899</td>\n",
       "    </tr>\n",
       "  </tbody>\n",
       "</table>\n",
       "</div>"
      ],
      "text/plain": [
       "   Avg-Вес по СКЗ, т  Sum-Расстояние, км  Avg-Средняя скорость, км/ч  \\\n",
       "0           0.292760           -0.880328                   -0.452551   \n",
       "1          -0.166651            0.208925                   -0.411138   \n",
       "2           0.058832            0.067641                   -0.648603   \n",
       "3           0.134942            0.506304                   -0.305295   \n",
       "4           0.095488           -0.235141                   -0.160612   \n",
       "\n",
       "   Avg-Перепад высот  StDev-Перепад высот  Расход топлива, л  \n",
       "0           0.348940            -0.585425          -0.924089  \n",
       "1           0.170989            -0.700840           0.310729  \n",
       "2           0.531606            -0.562848           0.202429  \n",
       "3           0.947686            -0.971342           0.701417  \n",
       "4           0.076905            -0.783998          -0.074899  "
      ]
     },
     "execution_count": 12,
     "metadata": {},
     "output_type": "execute_result"
    }
   ],
   "source": [
    "df_norm.columns = headers\n",
    "df_norm.head()"
   ]
  },
  {
   "cell_type": "code",
   "execution_count": 13,
   "id": "46d8b849-8c56-41bb-b032-7593ea977cda",
   "metadata": {
    "tags": []
   },
   "outputs": [
    {
     "data": {
      "text/plain": [
       "<Axes: >"
      ]
     },
     "execution_count": 13,
     "metadata": {},
     "output_type": "execute_result"
    },
    {
     "data": {
      "image/png": "[encoded data removed]",
      "text/plain": [
       "<Figure size 432x288 with 2 Axes>"
      ]
     },
     "metadata": {
      "needs_background": "light"
     },
     "output_type": "display_data"
    }
   ],
   "source": [
    "corr = df_norm.corr()\n",
    "sns.heatmap(corr, annot=True, cmap='coolwarm')"
   ]
  },
  {
   "cell_type": "code",
   "execution_count": 14,
   "id": "ec9d4309-41fb-45b8-bb4a-9cf62751d79f",
   "metadata": {
    "tags": []
   },
   "outputs": [
    {
     "data": {
      "image/png": "[encoded data removed]",
      "text/plain": [
       "<Figure size 1080x432 with 1 Axes>"
      ]
     },
     "metadata": {
      "needs_background": "light"
     },
     "output_type": "display_data"
    }
   ],
   "source": [
    "boxplot = df_norm.boxplot(figsize=(15,6), rot=90)"
   ]
  },
  {
   "cell_type": "code",
   "execution_count": 15,
   "id": "a470d9aa-29d5-4daa-9a56-de19811dcb74",
   "metadata": {
    "tags": []
   },
   "outputs": [
    {
     "name": "stdout",
     "output_type": "stream",
     "text": [
      "p = 0\n",
      "Не нормальное распределение для alpha =  0.01\n"
     ]
    }
   ],
   "source": [
    "k2, p = stats.normaltest(df_norm['Расход топлива, л'])\n",
    "alpha = 0.01\n",
    "print(\"p = {:g}\".format(p))\n",
    "\n",
    "if p < alpha:  # null hypothesis: x comes from a normal distribution\n",
    "    print(\"Не нормальное распределение для alpha = \", alpha)\n",
    "else:\n",
    "    print(\"Нормальное распределение для alpha = \", alpha)"
   ]
  },
  {
   "cell_type": "code",
   "execution_count": 16,
   "id": "7a206384-07ab-464a-b170-701e69c0c620",
   "metadata": {
    "tags": []
   },
   "outputs": [
    {
     "data": {
      "image/png": "[encoded data removed]",
      "text/plain": [
       "<Figure size 432x288 with 1 Axes>"
      ]
     },
     "metadata": {
      "needs_background": "light"
     },
     "output_type": "display_data"
    }
   ],
   "source": [
    "plt.hist(df_norm['Расход топлива, л'], 100)\n",
    "plt.show()"
   ]
  },
  {
   "cell_type": "code",
   "execution_count": 17,
   "id": "63bb1478-c182-4061-af3b-fcd158ed451a",
   "metadata": {
    "tags": []
   },
   "outputs": [
    {
     "name": "stdout",
     "output_type": "stream",
     "text": [
      "pvalue:  0.0009999999999998899\n",
      "не экспоненциальное распределение\n"
     ]
    }
   ],
   "source": [
    "from statsmodels.stats.diagnostic import lilliefors\n",
    "# If the pvalue is lower than some threshold, e.g. 0.05, \n",
    "# then we can reject the Null hypothesis that the sample comes from a normal distribution.\n",
    "ksstat, pvalue = lilliefors(df_norm['Расход топлива, л'], dist='exp')\n",
    "print('pvalue: ', pvalue)\n",
    "alpha = 0.05\n",
    "if pvalue < alpha:\n",
    "    print('не экспоненциальное распределение')\n",
    "else:\n",
    "    print('экспоненциальное распределение для alpha = ', alpha)"
   ]
  },
  {
   "cell_type": "code",
   "execution_count": 18,
   "id": "393a0526-1f2c-4e55-a586-3fff2e10ceae",
   "metadata": {
    "tags": []
   },
   "outputs": [
    {
     "name": "stdout",
     "output_type": "stream",
     "text": [
      "p-value  =  1.0\n",
      "является логнормальным для alpha = 0.01\n"
     ]
    },
    {
     "name": "stderr",
     "output_type": "stream",
     "text": [
      "/home/anya-mankova/.local/lib/python3.8/site-packages/pandas/core/arraylike.py:402: RuntimeWarning: divide by zero encountered in log\n",
      "  result = getattr(ufunc, method)(*inputs, **kwargs)\n",
      "/home/anya-mankova/.local/lib/python3.8/site-packages/pandas/core/arraylike.py:402: RuntimeWarning: invalid value encountered in log\n",
      "  result = getattr(ufunc, method)(*inputs, **kwargs)\n",
      "/home/anya-mankova/.local/lib/python3.8/site-packages/scipy/stats/_morestats.py:1816: UserWarning: p-value may not be accurate for N > 5000.\n",
      "  warnings.warn(\"p-value may not be accurate for N > 5000.\")\n"
     ]
    }
   ],
   "source": [
    "alpha = 0.01\n",
    "_, pvalx = stats.shapiro(np.log(df_norm['Расход топлива, л']))\n",
    "print(\"p-value  = \", pvalx)\n",
    "print(\"не является логнормальным для alpha = \" + str(alpha)\n",
    "      if pvalx<alpha  else \"является логнормальным для alpha = \" + str(alpha))"
   ]
  },
  {
   "cell_type": "code",
   "execution_count": 19,
   "id": "926046c4-2ef9-4c71-a895-8a0ea18ccd9f",
   "metadata": {
    "tags": []
   },
   "outputs": [
    {
     "name": "stdout",
     "output_type": "stream",
     "text": [
      "не гамма-распределение для alpha= 0.01\n"
     ]
    }
   ],
   "source": [
    "k2, p = stats.kstest(df_norm['Расход топлива, л'], dist.cdf, args)\n",
    "alpha = 0.01\n",
    "if p<0.01:\n",
    "    print('не гамма-распределение для alpha=', alpha)\n",
    "else:\n",
    "    print('гамма-распределение для alpha=',alpha)"
   ]
  },
  {
   "cell_type": "code",
   "execution_count": null,
   "id": "4154408a-e2d3-48c5-a52d-f27caaad41c9",
   "metadata": {},
   "outputs": [],
   "source": []
  }
 ],
 "metadata": {
  "kernelspec": {
   "display_name": "Python 3 (ipykernel)",
   "language": "python",
   "name": "python3"
  },
  "language_info": {
   "codemirror_mode": {
    "name": "ipython",
    "version": 3
   },
   "file_extension": ".py",
   "mimetype": "text/x-python",
   "name": "python",
   "nbconvert_exporter": "python",
   "pygments_lexer": "ipython3",
   "version": "3.8.10"
  }
 },
 "nbformat": 4,
 "nbformat_minor": 5
}
