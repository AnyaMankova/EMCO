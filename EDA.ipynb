{
 "cells": [
  {
   "cell_type": "code",
   "execution_count": 1,
   "id": "fe45b791-4cec-4511-9f39-addfc47a5f0a",
   "metadata": {
    "tags": []
   },
   "outputs": [
    {
     "data": {
      "text/html": [
       "<div>\n",
       "<style scoped>\n",
       "    .dataframe tbody tr th:only-of-type {\n",
       "        vertical-align: middle;\n",
       "    }\n",
       "\n",
       "    .dataframe tbody tr th {\n",
       "        vertical-align: top;\n",
       "    }\n",
       "\n",
       "    .dataframe thead th {\n",
       "        text-align: right;\n",
       "    }\n",
       "</style>\n",
       "<table border=\"1\" class=\"dataframe\">\n",
       "  <thead>\n",
       "    <tr style=\"text-align: right;\">\n",
       "      <th></th>\n",
       "      <th>Дата для смены</th>\n",
       "      <th>Месяц</th>\n",
       "      <th>Смена</th>\n",
       "      <th>Самосвал</th>\n",
       "      <th>Avg-Вес по СКЗ, т</th>\n",
       "      <th>Sum-Расстояние, км</th>\n",
       "      <th>Avg-Средняя скорость, км/ч</th>\n",
       "      <th>Avg-Перепад высот</th>\n",
       "      <th>StDev-Перепад высот</th>\n",
       "      <th>Расход топлива, л</th>\n",
       "    </tr>\n",
       "  </thead>\n",
       "  <tbody>\n",
       "    <tr>\n",
       "      <th>0</th>\n",
       "      <td>2022-10-01</td>\n",
       "      <td>10</td>\n",
       "      <td>1</td>\n",
       "      <td>1035</td>\n",
       "      <td>228.500000</td>\n",
       "      <td>25.99</td>\n",
       "      <td>17.731667</td>\n",
       "      <td>152.283333</td>\n",
       "      <td>66.851789</td>\n",
       "      <td>575.0</td>\n",
       "    </tr>\n",
       "    <tr>\n",
       "      <th>1</th>\n",
       "      <td>2022-10-01</td>\n",
       "      <td>10</td>\n",
       "      <td>1</td>\n",
       "      <td>1037</td>\n",
       "      <td>214.818182</td>\n",
       "      <td>80.42</td>\n",
       "      <td>17.938182</td>\n",
       "      <td>125.609091</td>\n",
       "      <td>48.356601</td>\n",
       "      <td>1795.0</td>\n",
       "    </tr>\n",
       "    <tr>\n",
       "      <th>2</th>\n",
       "      <td>2022-10-01</td>\n",
       "      <td>10</td>\n",
       "      <td>1</td>\n",
       "      <td>1039</td>\n",
       "      <td>221.533333</td>\n",
       "      <td>73.36</td>\n",
       "      <td>16.754000</td>\n",
       "      <td>179.664286</td>\n",
       "      <td>70.469738</td>\n",
       "      <td>1688.0</td>\n",
       "    </tr>\n",
       "    <tr>\n",
       "      <th>3</th>\n",
       "      <td>2022-10-01</td>\n",
       "      <td>10</td>\n",
       "      <td>1</td>\n",
       "      <td>1040</td>\n",
       "      <td>229.466667</td>\n",
       "      <td>94.95</td>\n",
       "      <td>16.555333</td>\n",
       "      <td>NaN</td>\n",
       "      <td>NaN</td>\n",
       "      <td>1865.0</td>\n",
       "    </tr>\n",
       "    <tr>\n",
       "      <th>4</th>\n",
       "      <td>2022-10-01</td>\n",
       "      <td>10</td>\n",
       "      <td>1</td>\n",
       "      <td>1042</td>\n",
       "      <td>NaN</td>\n",
       "      <td>60.46</td>\n",
       "      <td>NaN</td>\n",
       "      <td>77.514286</td>\n",
       "      <td>47.216396</td>\n",
       "      <td>1519.0</td>\n",
       "    </tr>\n",
       "  </tbody>\n",
       "</table>\n",
       "</div>"
      ],
      "text/plain": [
       "  Дата для смены  Месяц  Смена  Самосвал  Avg-Вес по СКЗ, т  \\\n",
       "0     2022-10-01     10      1      1035         228.500000   \n",
       "1     2022-10-01     10      1      1037         214.818182   \n",
       "2     2022-10-01     10      1      1039         221.533333   \n",
       "3     2022-10-01     10      1      1040         229.466667   \n",
       "4     2022-10-01     10      1      1042                NaN   \n",
       "\n",
       "   Sum-Расстояние, км  Avg-Средняя скорость, км/ч  Avg-Перепад высот  \\\n",
       "0               25.99                   17.731667         152.283333   \n",
       "1               80.42                   17.938182         125.609091   \n",
       "2               73.36                   16.754000         179.664286   \n",
       "3               94.95                   16.555333                NaN   \n",
       "4               60.46                         NaN          77.514286   \n",
       "\n",
       "   StDev-Перепад высот  Расход топлива, л  \n",
       "0            66.851789              575.0  \n",
       "1            48.356601             1795.0  \n",
       "2            70.469738             1688.0  \n",
       "3                  NaN             1865.0  \n",
       "4            47.216396             1519.0  "
      ]
     },
     "execution_count": 1,
     "metadata": {},
     "output_type": "execute_result"
    }
   ],
   "source": [
    "import pandas as pd\n",
    "\n",
    "\n",
    "df = pd.read_excel('db.xlsx')\n",
    "df.head()"
   ]
  },
  {
   "cell_type": "code",
   "execution_count": 13,
   "id": "90605437-acc3-438d-99d8-f2a27b59d0e8",
   "metadata": {
    "tags": []
   },
   "outputs": [
    {
     "data": {
      "text/html": [
       "<div>\n",
       "<style scoped>\n",
       "    .dataframe tbody tr th:only-of-type {\n",
       "        vertical-align: middle;\n",
       "    }\n",
       "\n",
       "    .dataframe tbody tr th {\n",
       "        vertical-align: top;\n",
       "    }\n",
       "\n",
       "    .dataframe thead th {\n",
       "        text-align: right;\n",
       "    }\n",
       "</style>\n",
       "<table border=\"1\" class=\"dataframe\">\n",
       "  <thead>\n",
       "    <tr style=\"text-align: right;\">\n",
       "      <th></th>\n",
       "      <th>Месяц</th>\n",
       "      <th>Смена</th>\n",
       "      <th>Самосвал</th>\n",
       "      <th>Avg-Вес по СКЗ, т</th>\n",
       "      <th>Sum-Расстояние, км</th>\n",
       "      <th>Avg-Средняя скорость, км/ч</th>\n",
       "      <th>Avg-Перепад высот</th>\n",
       "      <th>StDev-Перепад высот</th>\n",
       "      <th>Расход топлива, л</th>\n",
       "    </tr>\n",
       "  </thead>\n",
       "  <tbody>\n",
       "    <tr>\n",
       "      <th>count</th>\n",
       "      <td>19057.000000</td>\n",
       "      <td>19057.000000</td>\n",
       "      <td>19057.000000</td>\n",
       "      <td>17937.000000</td>\n",
       "      <td>18552.000000</td>\n",
       "      <td>18275.000000</td>\n",
       "      <td>17242.000000</td>\n",
       "      <td>18118.000000</td>\n",
       "      <td>18337.000000</td>\n",
       "    </tr>\n",
       "    <tr>\n",
       "      <th>mean</th>\n",
       "      <td>6.048696</td>\n",
       "      <td>1.499082</td>\n",
       "      <td>1332.006822</td>\n",
       "      <td>221.680695</td>\n",
       "      <td>81.245005</td>\n",
       "      <td>19.401021</td>\n",
       "      <td>114.328822</td>\n",
       "      <td>36.140689</td>\n",
       "      <td>1550.970333</td>\n",
       "    </tr>\n",
       "    <tr>\n",
       "      <th>std</th>\n",
       "      <td>3.085022</td>\n",
       "      <td>0.500012</td>\n",
       "      <td>196.299550</td>\n",
       "      <td>9.585327</td>\n",
       "      <td>18.486391</td>\n",
       "      <td>1.742872</td>\n",
       "      <td>62.489313</td>\n",
       "      <td>31.579008</td>\n",
       "      <td>327.096777</td>\n",
       "    </tr>\n",
       "    <tr>\n",
       "      <th>min</th>\n",
       "      <td>1.000000</td>\n",
       "      <td>1.000000</td>\n",
       "      <td>1035.000000</td>\n",
       "      <td>190.000000</td>\n",
       "      <td>20.010000</td>\n",
       "      <td>15.001667</td>\n",
       "      <td>-49.918182</td>\n",
       "      <td>0.000000</td>\n",
       "      <td>500.000000</td>\n",
       "    </tr>\n",
       "    <tr>\n",
       "      <th>25%</th>\n",
       "      <td>3.000000</td>\n",
       "      <td>1.000000</td>\n",
       "      <td>1044.000000</td>\n",
       "      <td>216.541667</td>\n",
       "      <td>72.390000</td>\n",
       "      <td>18.318582</td>\n",
       "      <td>79.455385</td>\n",
       "      <td>8.799751</td>\n",
       "      <td>1380.000000</td>\n",
       "    </tr>\n",
       "    <tr>\n",
       "      <th>50%</th>\n",
       "      <td>6.000000</td>\n",
       "      <td>1.000000</td>\n",
       "      <td>1385.000000</td>\n",
       "      <td>223.444444</td>\n",
       "      <td>84.570000</td>\n",
       "      <td>19.513448</td>\n",
       "      <td>119.026500</td>\n",
       "      <td>29.265572</td>\n",
       "      <td>1594.000000</td>\n",
       "    </tr>\n",
       "    <tr>\n",
       "      <th>75%</th>\n",
       "      <td>9.000000</td>\n",
       "      <td>2.000000</td>\n",
       "      <td>1493.000000</td>\n",
       "      <td>228.272727</td>\n",
       "      <td>94.170000</td>\n",
       "      <td>20.540000</td>\n",
       "      <td>154.990170</td>\n",
       "      <td>56.853116</td>\n",
       "      <td>1774.000000</td>\n",
       "    </tr>\n",
       "    <tr>\n",
       "      <th>max</th>\n",
       "      <td>11.000000</td>\n",
       "      <td>2.000000</td>\n",
       "      <td>1888.000000</td>\n",
       "      <td>249.562500</td>\n",
       "      <td>119.950000</td>\n",
       "      <td>24.975200</td>\n",
       "      <td>249.875000</td>\n",
       "      <td>320.915607</td>\n",
       "      <td>2486.000000</td>\n",
       "    </tr>\n",
       "  </tbody>\n",
       "</table>\n",
       "</div>"
      ],
      "text/plain": [
       "              Месяц         Смена      Самосвал  Avg-Вес по СКЗ, т  \\\n",
       "count  19057.000000  19057.000000  19057.000000       17937.000000   \n",
       "mean       6.048696      1.499082   1332.006822         221.680695   \n",
       "std        3.085022      0.500012    196.299550           9.585327   \n",
       "min        1.000000      1.000000   1035.000000         190.000000   \n",
       "25%        3.000000      1.000000   1044.000000         216.541667   \n",
       "50%        6.000000      1.000000   1385.000000         223.444444   \n",
       "75%        9.000000      2.000000   1493.000000         228.272727   \n",
       "max       11.000000      2.000000   1888.000000         249.562500   \n",
       "\n",
       "       Sum-Расстояние, км  Avg-Средняя скорость, км/ч  Avg-Перепад высот  \\\n",
       "count        18552.000000                18275.000000       17242.000000   \n",
       "mean            81.245005                   19.401021         114.328822   \n",
       "std             18.486391                    1.742872          62.489313   \n",
       "min             20.010000                   15.001667         -49.918182   \n",
       "25%             72.390000                   18.318582          79.455385   \n",
       "50%             84.570000                   19.513448         119.026500   \n",
       "75%             94.170000                   20.540000         154.990170   \n",
       "max            119.950000                   24.975200         249.875000   \n",
       "\n",
       "       StDev-Перепад высот  Расход топлива, л  \n",
       "count         18118.000000       18337.000000  \n",
       "mean             36.140689        1550.970333  \n",
       "std              31.579008         327.096777  \n",
       "min               0.000000         500.000000  \n",
       "25%               8.799751        1380.000000  \n",
       "50%              29.265572        1594.000000  \n",
       "75%              56.853116        1774.000000  \n",
       "max             320.915607        2486.000000  "
      ]
     },
     "execution_count": 13,
     "metadata": {},
     "output_type": "execute_result"
    }
   ],
   "source": [
    "df.describe()"
   ]
  },
  {
   "cell_type": "code",
   "execution_count": 14,
   "id": "9d8a65b0-06c9-423e-82e9-8143c1a9f089",
   "metadata": {
    "tags": []
   },
   "outputs": [
    {
     "data": {
      "text/plain": [
       "Дата для смены                0.000000\n",
       "Месяц                         0.000000\n",
       "Смена                         0.000000\n",
       "Самосвал                      0.000000\n",
       "Avg-Вес по СКЗ, т             5.877106\n",
       "Sum-Расстояние, км            2.649945\n",
       "Avg-Средняя скорость, км/ч    4.103479\n",
       "Avg-Перепад высот             9.524059\n",
       "StDev-Перепад высот           4.927323\n",
       "Расход топлива, л             3.778139\n",
       "dtype: float64"
      ]
     },
     "execution_count": 14,
     "metadata": {},
     "output_type": "execute_result"
    }
   ],
   "source": [
    "df.isnull().mean() * 100"
   ]
  },
  {
   "cell_type": "code",
   "execution_count": null,
   "id": "f3a471f3-12e6-4d04-9a03-7198cf0c99d7",
   "metadata": {},
   "outputs": [],
   "source": [
    "хочу проверить нормальность распределения переменных: \n",
    "- Средний вес в кузове автомобиля Белаз за смену\n",
    "- Пройденное расстояние за смену\n",
    "- Средняя скорость за смену\n",
    "- Потраченный объем топлива за смену\n",
    "\n",
    "Нулевая гипотеза - данные распределены нормально.\n"
   ]
  },
  {
   "cell_type": "code",
   "execution_count": 3,
   "id": "badc6444-91ae-4beb-a177-1048ca9e8191",
   "metadata": {
    "tags": []
   },
   "outputs": [
    {
     "data": {
      "image/png": "[encoded data removed]",
      "text/plain": [
       "<Figure size 432x288 with 1 Axes>"
      ]
     },
     "metadata": {
      "needs_background": "light"
     },
     "output_type": "display_data"
    }
   ],
   "source": [
    "import matplotlib.pyplot as plt\n",
    "\n",
    "avg_weight = df['Avg-Вес по СКЗ, т'].dropna()\n",
    "# 17937 строк с данными\n",
    "plt.hist(avg_weight, bins=20, edgecolor='black', color='#E6E6FA')\n",
    "\n",
    "plt.xlabel('средний вес в кузове автомобиля белаз за смену, тонн')\n",
    "plt.ylabel('количество наблюдений')\n",
    "plt.title('Гистограмма распределения среднего веса в кузове автомобиля Белаз за смену')\n",
    "plt.axvline(avg_weight.mean(), color='red', linestyle='dashed', linewidth=2, label='Среднее')\n",
    "plt.axvline(avg_weight.median(), color='green', linestyle='dashed', linewidth=2, label='Медиана')\n",
    "plt.axvline(avg_weight.mode().iloc[0], color='blue', linestyle='dashed', linewidth=2, label='Мода')\n",
    "plt.legend()\n",
    "\n",
    "plt.show()"
   ]
  },
  {
   "cell_type": "code",
   "execution_count": 4,
   "id": "2665d79a-cae5-40f2-8471-e2a2856fc49e",
   "metadata": {
    "tags": []
   },
   "outputs": [
    {
     "data": {
      "image/png": "[encoded data removed]",
      "text/plain": [
       "<Figure size 432x288 with 1 Axes>"
      ]
     },
     "metadata": {
      "needs_background": "light"
     },
     "output_type": "display_data"
    }
   ],
   "source": [
    "dist = df['Sum-Расстояние, км'].dropna()\n",
    "# 18552 строки с данными\n",
    "plt.hist(dist, bins=20, edgecolor='black', color='#E6E6FA')\n",
    "\n",
    "plt.xlabel('пройденное расстояние суммарно за смену, км')\n",
    "plt.ylabel('количество наблюдений')\n",
    "plt.title('Гистограмма распределения пройденного расстояния (суммарно) за смену')\n",
    "plt.axvline(dist.mean(), color='red', linestyle='dashed', linewidth=2, label='Среднее')\n",
    "plt.axvline(dist.median(), color='green', linestyle='dashed', linewidth=2, label='Медиана')\n",
    "plt.axvline(dist.mode().iloc[0], color='blue', linestyle='dashed', linewidth=2, label='Мода')\n",
    "plt.legend()\n",
    "\n",
    "plt.show()"
   ]
  },
  {
   "cell_type": "code",
   "execution_count": 5,
   "id": "da967635-83ed-4380-bb59-ccd6681948db",
   "metadata": {
    "tags": []
   },
   "outputs": [
    {
     "data": {
      "image/png": "[encoded data removed]",
      "text/plain": [
       "<Figure size 432x288 with 1 Axes>"
      ]
     },
     "metadata": {
      "needs_background": "light"
     },
     "output_type": "display_data"
    },
    {
     "name": "stdout",
     "output_type": "stream",
     "text": [
      "Все моды скорости за смену: 19.61, 20.03, 20.37, 20.45\n"
     ]
    }
   ],
   "source": [
    "avg_speed = df['Avg-Средняя скорость, км/ч'].dropna()\n",
    "# 18275 строк с данными\n",
    "plt.hist(avg_speed, bins=20, edgecolor='black', color='#E6E6FA')\n",
    "\n",
    "plt.xlabel('средняя скорость за смену, км/час')\n",
    "plt.ylabel('количество наблюдений')\n",
    "plt.title('Гистограмма распределения средней скорости за смену')\n",
    "plt.axvline(avg_speed.mean(), color='red', linestyle='dashed', linewidth=2, label='Среднее')\n",
    "plt.axvline(avg_speed.median(), color='green', linestyle='dashed', linewidth=2, label='Медиана')\n",
    "plt.axvline(avg_speed.mode().iloc[0], color='blue', linestyle='dashed', linewidth=2, label='Мода')\n",
    "plt.legend()\n",
    "\n",
    "plt.show()\n",
    "\n",
    "\n",
    "print(f'Все моды скорости за смену: {\", \".join(map(str, avg_speed.mode().tolist()))}')"
   ]
  },
  {
   "cell_type": "code",
   "execution_count": 6,
   "id": "362d8401-c2bf-456d-9eb5-4fccda72ea91",
   "metadata": {
    "tags": []
   },
   "outputs": [
    {
     "data": {
      "image/png": "[encoded data removed]",
      "text/plain": [
       "<Figure size 432x288 with 1 Axes>"
      ]
     },
     "metadata": {
      "needs_background": "light"
     },
     "output_type": "display_data"
    },
    {
     "name": "stdout",
     "output_type": "stream",
     "text": [
      "Все моды потраченного топлива: 1621.0, 1632.0, 1639.0\n"
     ]
    }
   ],
   "source": [
    "fuel = df['Расход топлива, л'].dropna()\n",
    "# 18337 строк с данными\n",
    "plt.hist(fuel, bins=20, edgecolor='black', color='#E6E6FA')\n",
    "\n",
    "plt.xlabel('потраченный объем толпива за смену, л')\n",
    "plt.ylabel('количество наблюдений')\n",
    "plt.title('Гистограмма распределения потраченного объема топлива за смену')\n",
    "plt.axvline(fuel.mean(), color='red', linestyle='dashed', linewidth=2, label='Среднее')\n",
    "plt.axvline(fuel.median(), color='green', linestyle='dashed', linewidth=2, label='Медиана')\n",
    "plt.axvline(fuel.mode().iloc[0], color='blue', linestyle='dashed', linewidth=2, label='Мода')\n",
    "plt.legend()\n",
    "plt.show()\n",
    "\n",
    "print(f'Все моды потраченного топлива: {\", \".join(map(str, fuel.mode().tolist()))}')"
   ]
  },
  {
   "cell_type": "code",
   "execution_count": 15,
   "id": "974a0a91-fbb3-4317-9445-c1e534829a7f",
   "metadata": {
    "tags": []
   },
   "outputs": [
    {
     "name": "stdout",
     "output_type": "stream",
     "text": [
      "Statistics=0.969, p=0.000\n",
      "Распределение отклоняется от нормального\n"
     ]
    },
    {
     "name": "stderr",
     "output_type": "stream",
     "text": [
      "/home/anya-mankova/.local/lib/python3.8/site-packages/scipy/stats/_morestats.py:1816: UserWarning: p-value may not be accurate for N > 5000.\n",
      "  warnings.warn(\"p-value may not be accurate for N > 5000.\")\n"
     ]
    }
   ],
   "source": [
    "from scipy.stats import shapiro\n",
    "\n",
    "# проводим тест Шапиро-Уилка\n",
    "stat, p = shapiro(fuel)\n",
    "\n",
    "# выводим результаты теста\n",
    "print('Statistics=%.3f, p=%.3f' % (stat, p))\n",
    "if p > 0.05:\n",
    "    print('Распределение не отклоняется от нормального')\n",
    "else:\n",
    "    print('Распределение отклоняется от нормального')\n"
   ]
  },
  {
   "cell_type": "code",
   "execution_count": 10,
   "id": "28f91691-5d03-4e61-bbb7-3abcd8a5ded1",
   "metadata": {
    "tags": []
   },
   "outputs": [
    {
     "data": {
      "image/png": "[encoded data removed]",
      "text/plain": [
       "<Figure size 720x576 with 1 Axes>"
      ]
     },
     "metadata": {
      "needs_background": "light"
     },
     "output_type": "display_data"
    }
   ],
   "source": [
    "import matplotlib.pyplot as plt\n",
    "import seaborn as sns\n",
    "\n",
    "\n",
    "plt.figure(figsize=(10, 8))\n",
    "sns.boxplot(x=fuel)\n",
    "plt.xlabel('Расход топлива, л')\n",
    "plt.title('Boxplot расхода топлива')\n",
    "plt.show()\n"
   ]
  },
  {
   "cell_type": "code",
   "execution_count": 18,
   "id": "dc12c0f8-5063-49bd-afb2-ddba8b058ef5",
   "metadata": {},
   "outputs": [
    {
     "data": {
      "text/html": [
       "<style type=\"text/css\">\n",
       "#T_31c48_row0_col0, #T_31c48_row1_col1, #T_31c48_row2_col2, #T_31c48_row3_col3, #T_31c48_row4_col4, #T_31c48_row5_col5 {\n",
       "  background-color: #b40426;\n",
       "  color: #f1f1f1;\n",
       "}\n",
       "#T_31c48_row0_col1, #T_31c48_row5_col1 {\n",
       "  background-color: #6282ea;\n",
       "  color: #f1f1f1;\n",
       "}\n",
       "#T_31c48_row0_col2, #T_31c48_row0_col4, #T_31c48_row0_col5, #T_31c48_row3_col1, #T_31c48_row4_col0, #T_31c48_row4_col3 {\n",
       "  background-color: #3b4cc0;\n",
       "  color: #f1f1f1;\n",
       "}\n",
       "#T_31c48_row0_col3 {\n",
       "  background-color: #6f92f3;\n",
       "  color: #f1f1f1;\n",
       "}\n",
       "#T_31c48_row1_col0 {\n",
       "  background-color: #90b2fe;\n",
       "  color: #000000;\n",
       "}\n",
       "#T_31c48_row1_col2 {\n",
       "  background-color: #6384eb;\n",
       "  color: #f1f1f1;\n",
       "}\n",
       "#T_31c48_row1_col3 {\n",
       "  background-color: #5875e1;\n",
       "  color: #f1f1f1;\n",
       "}\n",
       "#T_31c48_row1_col4 {\n",
       "  background-color: #8fb1fe;\n",
       "  color: #000000;\n",
       "}\n",
       "#T_31c48_row1_col5 {\n",
       "  background-color: #799cf8;\n",
       "  color: #f1f1f1;\n",
       "}\n",
       "#T_31c48_row2_col0, #T_31c48_row5_col0 {\n",
       "  background-color: #5470de;\n",
       "  color: #f1f1f1;\n",
       "}\n",
       "#T_31c48_row2_col1, #T_31c48_row3_col4 {\n",
       "  background-color: #4c66d6;\n",
       "  color: #f1f1f1;\n",
       "}\n",
       "#T_31c48_row2_col3 {\n",
       "  background-color: #d4dbe6;\n",
       "  color: #000000;\n",
       "}\n",
       "#T_31c48_row2_col4 {\n",
       "  background-color: #bfd3f6;\n",
       "  color: #000000;\n",
       "}\n",
       "#T_31c48_row2_col5, #T_31c48_row5_col2 {\n",
       "  background-color: #eb7d62;\n",
       "  color: #f1f1f1;\n",
       "}\n",
       "#T_31c48_row3_col0 {\n",
       "  background-color: #81a4fb;\n",
       "  color: #f1f1f1;\n",
       "}\n",
       "#T_31c48_row3_col2 {\n",
       "  background-color: #d1dae9;\n",
       "  color: #000000;\n",
       "}\n",
       "#T_31c48_row3_col5, #T_31c48_row4_col1 {\n",
       "  background-color: #5f7fe8;\n",
       "  color: #f1f1f1;\n",
       "}\n",
       "#T_31c48_row4_col2 {\n",
       "  background-color: #adc9fd;\n",
       "  color: #000000;\n",
       "}\n",
       "#T_31c48_row4_col5 {\n",
       "  background-color: #ebd3c6;\n",
       "  color: #000000;\n",
       "}\n",
       "#T_31c48_row5_col3 {\n",
       "  background-color: #6687ed;\n",
       "  color: #f1f1f1;\n",
       "}\n",
       "#T_31c48_row5_col4 {\n",
       "  background-color: #f1ccb8;\n",
       "  color: #000000;\n",
       "}\n",
       "</style>\n",
       "<table id=\"T_31c48\">\n",
       "  <thead>\n",
       "    <tr>\n",
       "      <th class=\"blank level0\" >&nbsp;</th>\n",
       "      <th id=\"T_31c48_level0_col0\" class=\"col_heading level0 col0\" >Месяц</th>\n",
       "      <th id=\"T_31c48_level0_col1\" class=\"col_heading level0 col1\" >Avg-Вес по СКЗ, т</th>\n",
       "      <th id=\"T_31c48_level0_col2\" class=\"col_heading level0 col2\" >Sum-Расстояние, км</th>\n",
       "      <th id=\"T_31c48_level0_col3\" class=\"col_heading level0 col3\" >Avg-Средняя скорость, км/ч</th>\n",
       "      <th id=\"T_31c48_level0_col4\" class=\"col_heading level0 col4\" >Avg-Перепад высот</th>\n",
       "      <th id=\"T_31c48_level0_col5\" class=\"col_heading level0 col5\" >Расход топлива, л</th>\n",
       "    </tr>\n",
       "  </thead>\n",
       "  <tbody>\n",
       "    <tr>\n",
       "      <th id=\"T_31c48_level0_row0\" class=\"row_heading level0 row0\" >Месяц</th>\n",
       "      <td id=\"T_31c48_row0_col0\" class=\"data row0 col0\" >1.000000</td>\n",
       "      <td id=\"T_31c48_row0_col1\" class=\"data row0 col1\" >0.042324</td>\n",
       "      <td id=\"T_31c48_row0_col2\" class=\"data row0 col2\" >-0.185448</td>\n",
       "      <td id=\"T_31c48_row0_col3\" class=\"data row0 col3\" >-0.010529</td>\n",
       "      <td id=\"T_31c48_row0_col4\" class=\"data row0 col4\" >-0.292010</td>\n",
       "      <td id=\"T_31c48_row0_col5\" class=\"data row0 col5\" >-0.184805</td>\n",
       "    </tr>\n",
       "    <tr>\n",
       "      <th id=\"T_31c48_level0_row1\" class=\"row_heading level0 row1\" >Avg-Вес по СКЗ, т</th>\n",
       "      <td id=\"T_31c48_row1_col0\" class=\"data row1 col0\" >0.042324</td>\n",
       "      <td id=\"T_31c48_row1_col1\" class=\"data row1 col1\" >1.000000</td>\n",
       "      <td id=\"T_31c48_row1_col2\" class=\"data row1 col2\" >-0.028966</td>\n",
       "      <td id=\"T_31c48_row1_col3\" class=\"data row1 col3\" >-0.094823</td>\n",
       "      <td id=\"T_31c48_row1_col4\" class=\"data row1 col4\" >0.037607</td>\n",
       "      <td id=\"T_31c48_row1_col5\" class=\"data row1 col5\" >0.042620</td>\n",
       "    </tr>\n",
       "    <tr>\n",
       "      <th id=\"T_31c48_level0_row2\" class=\"row_heading level0 row2\" >Sum-Расстояние, км</th>\n",
       "      <td id=\"T_31c48_row2_col0\" class=\"data row2 col0\" >-0.185448</td>\n",
       "      <td id=\"T_31c48_row2_col1\" class=\"data row2 col1\" >-0.028966</td>\n",
       "      <td id=\"T_31c48_row2_col2\" class=\"data row2 col2\" >1.000000</td>\n",
       "      <td id=\"T_31c48_row2_col3\" class=\"data row2 col3\" >0.353275</td>\n",
       "      <td id=\"T_31c48_row2_col4\" class=\"data row2 col4\" >0.219744</td>\n",
       "      <td id=\"T_31c48_row2_col5\" class=\"data row2 col5\" >0.779390</td>\n",
       "    </tr>\n",
       "    <tr>\n",
       "      <th id=\"T_31c48_level0_row3\" class=\"row_heading level0 row3\" >Avg-Средняя скорость, км/ч</th>\n",
       "      <td id=\"T_31c48_row3_col0\" class=\"data row3 col0\" >-0.010529</td>\n",
       "      <td id=\"T_31c48_row3_col1\" class=\"data row3 col1\" >-0.094823</td>\n",
       "      <td id=\"T_31c48_row3_col2\" class=\"data row3 col2\" >0.353275</td>\n",
       "      <td id=\"T_31c48_row3_col3\" class=\"data row3 col3\" >1.000000</td>\n",
       "      <td id=\"T_31c48_row3_col4\" class=\"data row3 col4\" >-0.211802</td>\n",
       "      <td id=\"T_31c48_row3_col5\" class=\"data row3 col5\" >-0.044083</td>\n",
       "    </tr>\n",
       "    <tr>\n",
       "      <th id=\"T_31c48_level0_row4\" class=\"row_heading level0 row4\" >Avg-Перепад высот</th>\n",
       "      <td id=\"T_31c48_row4_col0\" class=\"data row4 col0\" >-0.292010</td>\n",
       "      <td id=\"T_31c48_row4_col1\" class=\"data row4 col1\" >0.037607</td>\n",
       "      <td id=\"T_31c48_row4_col2\" class=\"data row4 col2\" >0.219744</td>\n",
       "      <td id=\"T_31c48_row4_col3\" class=\"data row4 col3\" >-0.211802</td>\n",
       "      <td id=\"T_31c48_row4_col4\" class=\"data row4 col4\" >1.000000</td>\n",
       "      <td id=\"T_31c48_row4_col5\" class=\"data row4 col5\" >0.479031</td>\n",
       "    </tr>\n",
       "    <tr>\n",
       "      <th id=\"T_31c48_level0_row5\" class=\"row_heading level0 row5\" >Расход топлива, л</th>\n",
       "      <td id=\"T_31c48_row5_col0\" class=\"data row5 col0\" >-0.184805</td>\n",
       "      <td id=\"T_31c48_row5_col1\" class=\"data row5 col1\" >0.042620</td>\n",
       "      <td id=\"T_31c48_row5_col2\" class=\"data row5 col2\" >0.779390</td>\n",
       "      <td id=\"T_31c48_row5_col3\" class=\"data row5 col3\" >-0.044083</td>\n",
       "      <td id=\"T_31c48_row5_col4\" class=\"data row5 col4\" >0.479031</td>\n",
       "      <td id=\"T_31c48_row5_col5\" class=\"data row5 col5\" >1.000000</td>\n",
       "    </tr>\n",
       "  </tbody>\n",
       "</table>\n"
      ],
      "text/plain": [
       "<pandas.io.formats.style.Styler at 0x7fbdf42c6c10>"
      ]
     },
     "execution_count": 18,
     "metadata": {},
     "output_type": "execute_result"
    }
   ],
   "source": [
    "corr = df[['Месяц', 'Avg-Вес по СКЗ, т', 'Sum-Расстояние, км', 'Avg-Средняя скорость, км/ч', 'Avg-Перепад высот', 'Расход топлива, л']].corr()\n",
    "corr.style.background_gradient(cmap='coolwarm')"
   ]
  },
  {
   "cell_type": "code",
   "execution_count": null,
   "id": "8ff41947-6553-4db9-93c3-976924bfb8db",
   "metadata": {},
   "outputs": [],
   "source": []
  }
 ],
 "metadata": {
  "kernelspec": {
   "display_name": "Python 3 (ipykernel)",
   "language": "python",
   "name": "python3"
  },
  "language_info": {
   "codemirror_mode": {
    "name": "ipython",
    "version": 3
   },
   "file_extension": ".py",
   "mimetype": "text/x-python",
   "name": "python",
   "nbconvert_exporter": "python",
   "pygments_lexer": "ipython3",
   "version": "3.8.10"
  }
 },
 "nbformat": 4,
 "nbformat_minor": 5
}
